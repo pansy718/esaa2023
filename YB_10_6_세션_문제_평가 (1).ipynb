{
  "nbformat": 4,
  "nbformat_minor": 0,
  "metadata": {
    "colab": {
      "provenance": []
    },
    "kernelspec": {
      "name": "python3",
      "display_name": "Python 3"
    },
    "language_info": {
      "name": "python"
    }
  },
  "cells": [
    {
      "cell_type": "code",
      "metadata": {
        "id": "4Zqc4O_BfWqZ"
      },
      "source": [
        "# 모듈 및 데이터 로드\n",
        "from sklearn.datasets import load_breast_cancer\n",
        "from sklearn.linear_model import LogisticRegression\n",
        "\n",
        "data = load_breast_cancer()\n",
        "\n",
        "# x, y 데이터 생성\n",
        "X = data.data\n",
        "\n",
        "# 악성을 1, 양성을 0으로\n",
        "y = 1 - data.target\n",
        "\n",
        "# 특징으로 사용할 데이터를 평균으로 구분하는 10개 열로 축소\n",
        "X = X[:, :10]\n",
        "\n",
        "# 로지스틱 회귀 모델 생성\n",
        "model_lor = LogisticRegression(solver = 'lbfgs')\n",
        "model_lor.fit(X,y)\n",
        "y_pred = model_lor.predict(X)"
      ],
      "execution_count": 1,
      "outputs": []
    },
    {
      "cell_type": "markdown",
      "metadata": {
        "id": "faoAfc1ZgAcq"
      },
      "source": [
        "* 오차 행렬(혼동 행렬) 생성"
      ]
    },
    {
      "cell_type": "code",
      "metadata": {
        "id": "JdML8YM0gBtu",
        "colab": {
          "base_uri": "https://localhost:8080/"
        },
        "outputId": "031cdc02-13a3-43eb-8459-48247688924e"
      },
      "source": [
        "# 종속 변수와 예측 결과로 혼동 행렬 생성\n",
        "from sklearn.metrics import confusion_matrix\n",
        "confusion_matrix(y,y_pred)"
      ],
      "execution_count": 2,
      "outputs": [
        {
          "output_type": "execute_result",
          "data": {
            "text/plain": [
              "array([[337,  20],\n",
              "       [ 30, 182]])"
            ]
          },
          "metadata": {},
          "execution_count": 2
        }
      ]
    },
    {
      "cell_type": "markdown",
      "metadata": {
        "id": "xbcK3rT-gFRk"
      },
      "source": [
        "* 정확도"
      ]
    },
    {
      "cell_type": "code",
      "metadata": {
        "id": "NLiXFuYvgI1e",
        "colab": {
          "base_uri": "https://localhost:8080/"
        },
        "outputId": "bac93f2c-4143-4fc0-d863-a3b3f5144903"
      },
      "source": [
        "from sklearn.metrics import accuracy_score\n",
        "accuracy_score(y, y_pred)"
      ],
      "execution_count": 3,
      "outputs": [
        {
          "output_type": "execute_result",
          "data": {
            "text/plain": [
              "0.9121265377855887"
            ]
          },
          "metadata": {},
          "execution_count": 3
        }
      ]
    },
    {
      "cell_type": "markdown",
      "metadata": {
        "id": "UYnVZS9igNNf"
      },
      "source": [
        "* 정밀도"
      ]
    },
    {
      "cell_type": "code",
      "metadata": {
        "id": "j108NueLgMKF",
        "colab": {
          "base_uri": "https://localhost:8080/"
        },
        "outputId": "67bf2e6b-dda4-40a1-c1cc-fbb120992ef6"
      },
      "source": [
        "from sklearn.metrics import precision_score\n",
        "precision_score(y,y_pred)"
      ],
      "execution_count": 6,
      "outputs": [
        {
          "output_type": "execute_result",
          "data": {
            "text/plain": [
              "0.900990099009901"
            ]
          },
          "metadata": {},
          "execution_count": 6
        }
      ]
    },
    {
      "cell_type": "markdown",
      "metadata": {
        "id": "2-MBquNJZOM4"
      },
      "source": [
        "* 재현율"
      ]
    },
    {
      "cell_type": "code",
      "metadata": {
        "id": "uje4ivPvZPwv",
        "colab": {
          "base_uri": "https://localhost:8080/"
        },
        "outputId": "dc364ac3-edb7-49b3-c7cb-b4795b1614f8"
      },
      "source": [
        "from sklearn.metrics import recall_score\n",
        "recall_score(y,y_pred)"
      ],
      "execution_count": 5,
      "outputs": [
        {
          "output_type": "execute_result",
          "data": {
            "text/plain": [
              "0.8584905660377359"
            ]
          },
          "metadata": {},
          "execution_count": 5
        }
      ]
    },
    {
      "cell_type": "markdown",
      "metadata": {
        "id": "Cw1p3yjagUCH"
      },
      "source": [
        "* F1 score"
      ]
    },
    {
      "cell_type": "code",
      "metadata": {
        "id": "hPdtYdoDgYgV",
        "colab": {
          "base_uri": "https://localhost:8080/"
        },
        "outputId": "030a578f-9db1-4448-a827-7f814e979a06"
      },
      "source": [
        "from sklearn.metrics import f1_score\n",
        "print(f1_score(y, y_pred))"
      ],
      "execution_count": 4,
      "outputs": [
        {
          "output_type": "stream",
          "name": "stdout",
          "text": [
            "0.8792270531400966\n"
          ]
        }
      ]
    },
    {
      "cell_type": "markdown",
      "metadata": {
        "id": "fzwIFsKOW5a1"
      },
      "source": [
        "* 예측 확률(pred_proba) : 0으로 예측할 확률이 0.1보다 크면 y_pred2 에 넣는다 가정."
      ]
    },
    {
      "cell_type": "code",
      "metadata": {
        "id": "nw9dxOiPW40l"
      },
      "source": [
        "from sklearn.preprocessing import Binarizer\n",
        "binarizer = Binarizer(threshold=0.1)\n",
        "y_pred2 = y_pred[:].reshape(-1,1)\n",
        "binarizer = Binarizer(threshold=0.1).fit(y_pred2)\n",
        "custom_predict=binarizer.transform(y_pred2)"
      ],
      "execution_count": 14,
      "outputs": []
    },
    {
      "cell_type": "code",
      "source": [
        "from sklearn.preprocessing import Binarizer\n",
        "pred_proba = model_lor.predict_proba(X)\n",
        "# predict_proba() 반환값의 두번째 칼럼, 즉 positive 클래스 칼럼 하나만 추출해 Binarizer를 적용\n",
        "pred_proba_1 = pred_proba[:, 1].reshape(-1, 1)\n",
        "# threshold = 0.1\n",
        "binarizer=Binarizer(threshold=0.1)\n",
        "# 0으로 예측할 확률이 0.1보다 크면 y_pred2 에 넣기\n",
        "y_pred2=binarizer.transform(pred_proba_1)"
      ],
      "metadata": {
        "id": "qdxzkbDHZ3GC"
      },
      "execution_count": null,
      "outputs": []
    },
    {
      "cell_type": "code",
      "metadata": {
        "id": "Y-WrHrICYFB1",
        "colab": {
          "base_uri": "https://localhost:8080/"
        },
        "outputId": "98aa597a-8f6c-48c1-b496-b5a5ab0ef600"
      },
      "source": [
        "# y과 y_pred2의 혼동행렬, 정확도, 정밀도, 재현율, f1 score 구하기\n",
        "print('혼동행렬: \\n', confusion_matrix(y,y_pred2))\n",
        "print('정확도: \\n', accuracy_score(y,y_pred2))\n",
        "print('정밀도: \\n', precision_score(y,y_pred2))\n",
        "print('재현율: \\n', recall_score(y,y_pred2))\n",
        "print('F1: \\n', f1_score(y,y_pred2))"
      ],
      "execution_count": 16,
      "outputs": [
        {
          "output_type": "stream",
          "name": "stdout",
          "text": [
            "혼동행렬: \n",
            " [[337  20]\n",
            " [ 30 182]]\n",
            "정확도: \n",
            " 0.9121265377855887\n",
            "정밀도: \n",
            " 0.900990099009901\n",
            "재현율: \n",
            " 0.8584905660377359\n",
            "F1: \n",
            " 0.8792270531400966\n"
          ]
        }
      ]
    },
    {
      "cell_type": "code",
      "source": [
        "print('혼동행렬: \\n', confusion_matrix(y,custom_predict))\n",
        "print('정확도: \\n', accuracy_score(y,custom_predict))\n",
        "print('정밀도: \\n', precision_score(y,custom_predict))\n",
        "print('재현율: \\n', recall_score(y,custom_predict))\n",
        "print('F1: \\n', f1_score(y,custom_predict))"
      ],
      "metadata": {
        "colab": {
          "base_uri": "https://localhost:8080/"
        },
        "id": "DU618Cg5Z-V3",
        "outputId": "fe3f27be-78fd-4eef-9306-d2ef2bd5f5bd"
      },
      "execution_count": 17,
      "outputs": [
        {
          "output_type": "stream",
          "name": "stdout",
          "text": [
            "혼동행렬: \n",
            " [[337  20]\n",
            " [ 30 182]]\n",
            "정확도: \n",
            " 0.9121265377855887\n",
            "정밀도: \n",
            " 0.900990099009901\n",
            "재현율: \n",
            " 0.8584905660377359\n",
            "F1: \n",
            " 0.8792270531400966\n"
          ]
        }
      ]
    },
    {
      "cell_type": "markdown",
      "metadata": {
        "id": "itgf_OjsjU-R"
      },
      "source": [
        "* ROC 곡선 시각화"
      ]
    },
    {
      "cell_type": "code",
      "metadata": {
        "id": "DW75xBokjXKy",
        "colab": {
          "base_uri": "https://localhost:8080/"
        },
        "outputId": "52c0b68b-cb08-4aa4-98e0-1fcd2056ac8c"
      },
      "source": [
        "from sklearn.metrics import roc_curve\n",
        "thresholds = [0.4,0.45,0.5,0.55,0.6]\n",
        "pred_proba_class1 = model_lor.predict_proba(X)[:,1]\n",
        "fprs,tprs, thresholds=roc_curve(y, pred_proba_class1)\n",
        "import numpy as np\n",
        "thr_index = np.arange(1, thresholds.shape[0],5)\n",
        "print('샘플 추출을 위한 임곗값 배열의 index 10개:', thr_index)\n",
        "print('샘플용 10개의 임곗값: ', np.round(thresholds[thr_index],2))\n",
        "print('샘플 임곗값별 FPR:', np.round(fprs[thr_index],3))\n",
        "print('샘플 임곗값별 TPR:', np.round(tprs[thr_index],3))"
      ],
      "execution_count": 35,
      "outputs": [
        {
          "output_type": "stream",
          "name": "stdout",
          "text": [
            "샘플 추출을 위한 임곗값 배열의 index 10개: [ 1  6 11 16 21 26 31 36 41 46 51 56 61 66 71]\n",
            "샘플용 10개의 임곗값:  [1.   0.81 0.78 0.69 0.62 0.56 0.45 0.38 0.31 0.27 0.2  0.13 0.09 0.06\n",
            " 0.  ]\n",
            "샘플 임곗값별 FPR: [0.    0.006 0.014 0.022 0.039 0.048 0.062 0.073 0.104 0.115 0.14  0.204\n",
            " 0.272 0.336 1.   ]\n",
            "샘플 임곗값별 TPR: [0.005 0.717 0.741 0.802 0.811 0.835 0.877 0.91  0.925 0.943 0.953 0.967\n",
            " 0.976 0.991 1.   ]\n"
          ]
        }
      ]
    },
    {
      "cell_type": "code",
      "source": [
        "import matplotlib.pyplot as plt\n",
        "def roc_curve_plot(y, pred_proba_c1):\n",
        "  # 임곗값에 따른 FPR, TPR 값을 반환받음\n",
        "  fprs, tprs, thresholds = roc_curve(y, pred_proba_c1)\n",
        "  # ROC 곡선을 그래프 곡선으로 그림\n",
        "  plt.plot(fprs, tprs, label='ROC')\n",
        "  # 가운데 대각선 직선을 그림\n",
        "  plt.plot([0,1],[0,1],'k--',label='Random')\n",
        "  # FPR X축의 Scale을 0.1 단위로 변경, X,Y축 명 설정 등\n",
        "  start, end = plt.xlim()\n",
        "  plt.xlim(0,1)\n",
        "  plt.ylim(0,1)\n",
        "  plt.xlabel('FPR(1-Sensitivity)')\n",
        "  plt.ylabel('TPR(Recall)')\n",
        "  plt.legend()\n",
        "roc_curve_plot(y, pred_proba[:,1])"
      ],
      "metadata": {
        "colab": {
          "base_uri": "https://localhost:8080/",
          "height": 455
        },
        "id": "9MCH0kalbyNt",
        "outputId": "15fdd270-3760-4d50-90db-b02b2dd58e55"
      },
      "execution_count": 30,
      "outputs": [
        {
          "output_type": "display_data",
          "data": {
            "text/plain": [
              "<Figure size 640x480 with 1 Axes>"
            ],
            "image/png": "[encoded data removed]"
          },
          "metadata": {}
        }
      ]
    },
    {
      "cell_type": "markdown",
      "metadata": {
        "id": "fL4as0YsWYD7"
      },
      "source": [
        "* ROC AUC 값"
      ]
    },
    {
      "cell_type": "code",
      "metadata": {
        "id": "-SEElVZTWaVp",
        "colab": {
          "base_uri": "https://localhost:8080/"
        },
        "outputId": "e34444f4-d0e2-45a3-ac04-45b681906b3f"
      },
      "source": [
        "from sklearn.metrics import roc_auc_score\n",
        "roc_auc_score(y,y_pred)"
      ],
      "execution_count": 29,
      "outputs": [
        {
          "output_type": "execute_result",
          "data": {
            "text/plain": [
              "0.9012340785370753"
            ]
          },
          "metadata": {},
          "execution_count": 29
        }
      ]
    },
    {
      "cell_type": "code",
      "source": [],
      "metadata": {
        "id": "bNKJ1OG5c7NL"
      },
      "execution_count": null,
      "outputs": []
    }
  ]
}