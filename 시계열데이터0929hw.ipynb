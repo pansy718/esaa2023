{
  "nbformat": 4,
  "nbformat_minor": 0,
  "metadata": {
    "colab": {
      "provenance": []
    },
    "kernelspec": {
      "name": "python3",
      "display_name": "Python 3"
    },
    "language_info": {
      "name": "python"
    }
  },
  "cells": [
    {
      "cell_type": "markdown",
      "source": [
        "# 시계열 데이터"
      ],
      "metadata": {
        "id": "_j2mpdH2mgLC"
      }
    },
    {
      "cell_type": "markdown",
      "source": [
        "## 12-1. datetime 오브젝트\n",
        "- datetime 라이브러리: 날짜와 시간 처리하는 등의 다양한 기능 제공하는 파이썬 라이브러리\n",
        "  - date 오브젝트: 날짜 처리\n",
        "  - time 오브젝트: 시간 처리\n",
        "  - datetime 오브젝트: 날짜, 시간 처리"
      ],
      "metadata": {
        "id": "Ep4idUfGoFDZ"
      }
    },
    {
      "cell_type": "markdown",
      "source": [
        "### datetime 오브젝트 사용하기"
      ],
      "metadata": {
        "id": "rG8Bm8GYqeAJ"
      }
    },
    {
      "cell_type": "code",
      "source": [
        "from datetime import datetime"
      ],
      "metadata": {
        "id": "Q66kvh1nrFaQ"
      },
      "execution_count": 1,
      "outputs": []
    },
    {
      "cell_type": "code",
      "source": [
        "now1 = datetime.now()\n",
        "print(now1)"
      ],
      "metadata": {
        "colab": {
          "base_uri": "https://localhost:8080/"
        },
        "id": "CSEvMXzNrHc4",
        "outputId": "f90f8c21-6ef9-4f83-b0b3-0d699ae3c6a6"
      },
      "execution_count": 2,
      "outputs": [
        {
          "output_type": "stream",
          "name": "stdout",
          "text": [
            "2023-09-27 12:45:55.287226\n"
          ]
        }
      ]
    },
    {
      "cell_type": "code",
      "source": [
        "now2 = datetime.today()\n",
        "print(now2)"
      ],
      "metadata": {
        "colab": {
          "base_uri": "https://localhost:8080/"
        },
        "id": "O_Rs1Sd_rJ8R",
        "outputId": "c6a2a454-a1a0-414d-9dba-18b8b980803b"
      },
      "execution_count": 3,
      "outputs": [
        {
          "output_type": "stream",
          "name": "stdout",
          "text": [
            "2023-09-27 12:46:06.243776\n"
          ]
        }
      ]
    },
    {
      "cell_type": "code",
      "source": [
        "t1 = datetime.now()\n",
        "t2 = datetime(1970,1,1)\n",
        "t3 = datetime(1970,12,12,13,24,34)\n",
        "print(t1)\n",
        "print(t2)\n",
        "print(t3)"
      ],
      "metadata": {
        "colab": {
          "base_uri": "https://localhost:8080/"
        },
        "id": "4bLFBR3krMwD",
        "outputId": "be98ddad-359c-4064-da28-43dbeaea2ed3"
      },
      "execution_count": 4,
      "outputs": [
        {
          "output_type": "stream",
          "name": "stdout",
          "text": [
            "2023-09-27 12:47:56.406786\n",
            "1970-01-01 00:00:00\n",
            "1970-12-12 13:24:34\n"
          ]
        }
      ]
    },
    {
      "cell_type": "code",
      "source": [
        "diff1 = t1-t2\n",
        "print(diff1)\n",
        "print(type(diff1))"
      ],
      "metadata": {
        "colab": {
          "base_uri": "https://localhost:8080/"
        },
        "id": "GrizcB1rrn4V",
        "outputId": "87bdea13-e560-47bd-8e08-77f165b2707a"
      },
      "execution_count": 5,
      "outputs": [
        {
          "output_type": "stream",
          "name": "stdout",
          "text": [
            "19627 days, 12:47:56.406786\n",
            "<class 'datetime.timedelta'>\n"
          ]
        }
      ]
    },
    {
      "cell_type": "code",
      "source": [
        "diff2 = t2-t1\n",
        "print(diff2)\n",
        "print(type(diff2))"
      ],
      "metadata": {
        "colab": {
          "base_uri": "https://localhost:8080/"
        },
        "id": "klt0XlGpsGZl",
        "outputId": "74d5087e-3a9d-4de4-e321-5a3783345a00"
      },
      "execution_count": 6,
      "outputs": [
        {
          "output_type": "stream",
          "name": "stdout",
          "text": [
            "-19628 days, 11:12:03.593214\n",
            "<class 'datetime.timedelta'>\n"
          ]
        }
      ]
    },
    {
      "cell_type": "markdown",
      "source": [
        "### datetime 오브젝트로 변환하기 - to_datetime 메서드\n",
        "#### 문자열을 datetime 오브젝트로 변환"
      ],
      "metadata": {
        "id": "BSaH4D7rsKaF"
      }
    },
    {
      "cell_type": "code",
      "source": [
        "# ebola 데이터 집합 불러오기\n",
        "import pandas as pd\n",
        "import os\n",
        "ebola = pd.read_csv('country_timeseries.csv')"
      ],
      "metadata": {
        "id": "84V9eMpLte70"
      },
      "execution_count": 10,
      "outputs": []
    },
    {
      "cell_type": "code",
      "source": [
        "print(ebola.info())"
      ],
      "metadata": {
        "colab": {
          "base_uri": "https://localhost:8080/"
        },
        "id": "doekIxHYuM8V",
        "outputId": "43f74e8e-b8a8-4b0f-a437-6b8a9d5974e8"
      },
      "execution_count": 11,
      "outputs": [
        {
          "output_type": "stream",
          "name": "stdout",
          "text": [
            "<class 'pandas.core.frame.DataFrame'>\n",
            "RangeIndex: 122 entries, 0 to 121\n",
            "Data columns (total 18 columns):\n",
            " #   Column               Non-Null Count  Dtype  \n",
            "---  ------               --------------  -----  \n",
            " 0   Date                 122 non-null    object \n",
            " 1   Day                  122 non-null    int64  \n",
            " 2   Cases_Guinea         93 non-null     float64\n",
            " 3   Cases_Liberia        83 non-null     float64\n",
            " 4   Cases_SierraLeone    87 non-null     float64\n",
            " 5   Cases_Nigeria        38 non-null     float64\n",
            " 6   Cases_Senegal        25 non-null     float64\n",
            " 7   Cases_UnitedStates   18 non-null     float64\n",
            " 8   Cases_Spain          16 non-null     float64\n",
            " 9   Cases_Mali           12 non-null     float64\n",
            " 10  Deaths_Guinea        92 non-null     float64\n",
            " 11  Deaths_Liberia       81 non-null     float64\n",
            " 12  Deaths_SierraLeone   87 non-null     float64\n",
            " 13  Deaths_Nigeria       38 non-null     float64\n",
            " 14  Deaths_Senegal       22 non-null     float64\n",
            " 15  Deaths_UnitedStates  18 non-null     float64\n",
            " 16  Deaths_Spain         16 non-null     float64\n",
            " 17  Deaths_Mali          12 non-null     float64\n",
            "dtypes: float64(16), int64(1), object(1)\n",
            "memory usage: 17.3+ KB\n",
            "None\n"
          ]
        }
      ]
    },
    {
      "cell_type": "code",
      "source": [
        "# to_datetime 메서드 사용해 Date 열의 자료형을 datetime 오브젝트로 변환 후 새로운 열로 추가\n",
        "ebola['date_dt'] = pd.to_datetime(ebola['Date'])"
      ],
      "metadata": {
        "id": "uplE1au4u76G"
      },
      "execution_count": 12,
      "outputs": []
    },
    {
      "cell_type": "code",
      "source": [
        "# 시간 형식 지정자 %d, %m, %y와 기호를 조합해 format 인자에 전달해 형식에 맞게 정리된 datetime 오브젝트를 얻을 수 있음\n",
        "test_df1 = pd.DataFrame({'order_day':['01/01/15','02/01/15','03/01/15']})\n",
        "test_df1['date_dt1'] = pd.to_datetime(test_df1['order_day'], format='%d/%m/%y')\n",
        "test_df1['date_dt2'] = pd.to_datetime(test_df1['order_day'], format='%m/%d/%y')\n",
        "test_df1['date_dt3'] = pd.to_datetime(test_df1['order_day'], format='%y/%m/%d')\n",
        "print(test_df1)"
      ],
      "metadata": {
        "colab": {
          "base_uri": "https://localhost:8080/"
        },
        "id": "30N4iHcPvM5R",
        "outputId": "beb01220-8b16-44f2-869f-bdc872d70850"
      },
      "execution_count": 13,
      "outputs": [
        {
          "output_type": "stream",
          "name": "stdout",
          "text": [
            "  order_day   date_dt1   date_dt2   date_dt3\n",
            "0  01/01/15 2015-01-01 2015-01-01 2001-01-15\n",
            "1  02/01/15 2015-01-02 2015-02-01 2002-01-15\n",
            "2  03/01/15 2015-01-03 2015-03-01 2003-01-15\n"
          ]
        }
      ]
    },
    {
      "cell_type": "code",
      "source": [
        "test_df2 = pd.DataFrame({'order_day':['01-01-15','02-01-15','03-01-15']})\n",
        "test_df2['date_dt'] = pd.to_datetime(test_df2['order_day'], format='%d-%m-%y')\n",
        "print(test_df2)"
      ],
      "metadata": {
        "colab": {
          "base_uri": "https://localhost:8080/"
        },
        "id": "wGozZjP1wYua",
        "outputId": "ac340f08-c08f-4bf9-bc96-a9f532eb1b82"
      },
      "execution_count": 14,
      "outputs": [
        {
          "output_type": "stream",
          "name": "stdout",
          "text": [
            "  order_day    date_dt\n",
            "0  01-01-15 2015-01-01\n",
            "1  02-01-15 2015-01-02\n",
            "2  03-01-15 2015-01-03\n"
          ]
        }
      ]
    },
    {
      "cell_type": "code",
      "source": [
        "now = datetime.now()\n",
        "print(now)"
      ],
      "metadata": {
        "colab": {
          "base_uri": "https://localhost:8080/"
        },
        "id": "vDvl5LpRyo64",
        "outputId": "8dd02c7e-7717-4527-bfce-3bb9da158618"
      },
      "execution_count": 15,
      "outputs": [
        {
          "output_type": "stream",
          "name": "stdout",
          "text": [
            "2023-09-27 13:18:49.670526\n"
          ]
        }
      ]
    },
    {
      "cell_type": "code",
      "source": [
        "nowDate = now.strftime('%Y-%m-%d')\n",
        "print(nowDate)"
      ],
      "metadata": {
        "colab": {
          "base_uri": "https://localhost:8080/"
        },
        "id": "lNs4fal2ysVu",
        "outputId": "13de7788-30a5-4ddf-f14c-a45a2aa946f6"
      },
      "execution_count": 16,
      "outputs": [
        {
          "output_type": "stream",
          "name": "stdout",
          "text": [
            "2023-09-27\n"
          ]
        }
      ]
    },
    {
      "cell_type": "code",
      "source": [
        "nowTime = now.strftime('%H:%M:%S')\n",
        "print(nowTime)"
      ],
      "metadata": {
        "colab": {
          "base_uri": "https://localhost:8080/"
        },
        "id": "ULxYzk0gzrAr",
        "outputId": "c2058dbf-a176-46ed-a4eb-9eec86b1f27c"
      },
      "execution_count": 17,
      "outputs": [
        {
          "output_type": "stream",
          "name": "stdout",
          "text": [
            "13:18:49\n"
          ]
        }
      ]
    },
    {
      "cell_type": "code",
      "source": [
        "nowDatetime = now.strftime('%Y-%m-%d %H:%M:%S')\n",
        "print(nowDatetime)"
      ],
      "metadata": {
        "colab": {
          "base_uri": "https://localhost:8080/"
        },
        "id": "DJ_3g7m7zyHl",
        "outputId": "9ae0da8f-cd40-4f5a-e728-444654ff6b05"
      },
      "execution_count": 18,
      "outputs": [
        {
          "output_type": "stream",
          "name": "stdout",
          "text": [
            "2023-09-27 13:18:49\n"
          ]
        }
      ]
    },
    {
      "cell_type": "markdown",
      "source": [
        "### datetime 오브젝트로 변환하기 - read_csv 메서드\n",
        "#### datetime 오브젝트로 변환하려는 열을 지정해 데이터 집합 불러오기"
      ],
      "metadata": {
        "id": "iQjFLRglz9tT"
      }
    },
    {
      "cell_type": "code",
      "source": [
        "# parse_dates 인자에 datetime 오브젝트로 변환하고자 하는 열을 전달해 데이터 집합 불러옴. Date 열이 문자열이 아니라 datetime 오브젝트라는 것을 확인 가능.\n",
        "ebola1 = pd.read_csv('country_timeseries.csv', parse_dates=['Date'])\n",
        "print(ebola1.info())"
      ],
      "metadata": {
        "colab": {
          "base_uri": "https://localhost:8080/"
        },
        "id": "1OujTjdm1Rkb",
        "outputId": "4d1a2342-3476-4359-a595-d080e459a7d4"
      },
      "execution_count": 19,
      "outputs": [
        {
          "output_type": "stream",
          "name": "stdout",
          "text": [
            "<class 'pandas.core.frame.DataFrame'>\n",
            "RangeIndex: 122 entries, 0 to 121\n",
            "Data columns (total 18 columns):\n",
            " #   Column               Non-Null Count  Dtype         \n",
            "---  ------               --------------  -----         \n",
            " 0   Date                 122 non-null    datetime64[ns]\n",
            " 1   Day                  122 non-null    int64         \n",
            " 2   Cases_Guinea         93 non-null     float64       \n",
            " 3   Cases_Liberia        83 non-null     float64       \n",
            " 4   Cases_SierraLeone    87 non-null     float64       \n",
            " 5   Cases_Nigeria        38 non-null     float64       \n",
            " 6   Cases_Senegal        25 non-null     float64       \n",
            " 7   Cases_UnitedStates   18 non-null     float64       \n",
            " 8   Cases_Spain          16 non-null     float64       \n",
            " 9   Cases_Mali           12 non-null     float64       \n",
            " 10  Deaths_Guinea        92 non-null     float64       \n",
            " 11  Deaths_Liberia       81 non-null     float64       \n",
            " 12  Deaths_SierraLeone   87 non-null     float64       \n",
            " 13  Deaths_Nigeria       38 non-null     float64       \n",
            " 14  Deaths_Senegal       22 non-null     float64       \n",
            " 15  Deaths_UnitedStates  18 non-null     float64       \n",
            " 16  Deaths_Spain         16 non-null     float64       \n",
            " 17  Deaths_Mali          12 non-null     float64       \n",
            "dtypes: datetime64[ns](1), float64(16), int64(1)\n",
            "memory usage: 17.3 KB\n",
            "None\n"
          ]
        }
      ]
    },
    {
      "cell_type": "markdown",
      "source": [
        "### datetime 오브젝트에서 날짜 정보 추출하기"
      ],
      "metadata": {
        "id": "yqXBQFnu2CHT"
      }
    },
    {
      "cell_type": "code",
      "source": [
        "# 문자열로 저장된 날짜를 시리즈에 담아 datetime 오브젝트로 변환\n",
        "date_series = pd.Series(['2018-05-16','2018-05-17','2018-05-18'])\n",
        "d1 = pd.to_datetime(date_series)\n",
        "print(d1)"
      ],
      "metadata": {
        "colab": {
          "base_uri": "https://localhost:8080/"
        },
        "id": "T1_hh9GE55h2",
        "outputId": "59ef8214-5322-4387-c39b-383233ad0803"
      },
      "execution_count": 20,
      "outputs": [
        {
          "output_type": "stream",
          "name": "stdout",
          "text": [
            "0   2018-05-16\n",
            "1   2018-05-17\n",
            "2   2018-05-18\n",
            "dtype: datetime64[ns]\n"
          ]
        }
      ]
    },
    {
      "cell_type": "code",
      "source": [
        "# datetime 의 year month day 속성을 이용해 년 월 일 정보 추출\n",
        "print(d1[0].year)\n",
        "print(d1[0].month)\n",
        "print(d1[0].day)"
      ],
      "metadata": {
        "colab": {
          "base_uri": "https://localhost:8080/"
        },
        "id": "P91cbqny7tEu",
        "outputId": "ed9d33d2-7a45-49ee-f70a-117546824f68"
      },
      "execution_count": 21,
      "outputs": [
        {
          "output_type": "stream",
          "name": "stdout",
          "text": [
            "2018\n",
            "5\n",
            "16\n"
          ]
        }
      ]
    },
    {
      "cell_type": "markdown",
      "source": [
        "### dt 접근자 사용하기\n",
        "dt 접근자를 사용해 datetime 속성이나 메서드를 사용해 시계열 데이터 처리\n",
        "#### dt 접근자로 시계열 데이터 정리하기"
      ],
      "metadata": {
        "id": "h63B74g7_VDn"
      }
    },
    {
      "cell_type": "code",
      "source": [
        "# ebola 데이터 집합을 불러와 datetime 오브젝트로 변환해 새로운 열 추가\n",
        "ebola = pd.read_csv('country_timeseries.csv')\n",
        "ebola['date_dt'] = pd.to_datetime(ebola['Date'])"
      ],
      "metadata": {
        "id": "mrwrE9qfAOtx"
      },
      "execution_count": 22,
      "outputs": []
    },
    {
      "cell_type": "code",
      "source": [
        "# dt 접근자 사용하지 않고 인덱스가 3인 데이터의 년 월 일 데이터 추출\n",
        "print(ebola[['Date','date_dt']].head())"
      ],
      "metadata": {
        "colab": {
          "base_uri": "https://localhost:8080/"
        },
        "id": "jzagZVr4A6TY",
        "outputId": "16bd951f-1f87-41e3-edb4-3a22562cc113"
      },
      "execution_count": 23,
      "outputs": [
        {
          "output_type": "stream",
          "name": "stdout",
          "text": [
            "         Date    date_dt\n",
            "0    1/5/2015 2015-01-05\n",
            "1    1/4/2015 2015-01-04\n",
            "2    1/3/2015 2015-01-03\n",
            "3    1/2/2015 2015-01-02\n",
            "4  12/31/2014 2014-12-31\n"
          ]
        }
      ]
    },
    {
      "cell_type": "code",
      "source": [
        "print(ebola['date_dt'][3].year)"
      ],
      "metadata": {
        "colab": {
          "base_uri": "https://localhost:8080/"
        },
        "id": "QZnVvkTkBFS7",
        "outputId": "649ec9ef-467d-49ec-a03f-d10a8da8a5e6"
      },
      "execution_count": 24,
      "outputs": [
        {
          "output_type": "stream",
          "name": "stdout",
          "text": [
            "2015\n"
          ]
        }
      ]
    },
    {
      "cell_type": "code",
      "source": [
        "print(ebola['date_dt'][3].month)"
      ],
      "metadata": {
        "colab": {
          "base_uri": "https://localhost:8080/"
        },
        "id": "RZNytSAWBToe",
        "outputId": "88ccc7e5-26d0-4cd5-dfcd-7a9b22de2973"
      },
      "execution_count": 25,
      "outputs": [
        {
          "output_type": "stream",
          "name": "stdout",
          "text": [
            "1\n"
          ]
        }
      ]
    },
    {
      "cell_type": "code",
      "source": [
        "print(ebola['date_dt'][3].day)"
      ],
      "metadata": {
        "colab": {
          "base_uri": "https://localhost:8080/"
        },
        "id": "0PE7z0oaBcgi",
        "outputId": "7008f194-860a-4366-9fe9-ace2fcbd0467"
      },
      "execution_count": 26,
      "outputs": [
        {
          "output_type": "stream",
          "name": "stdout",
          "text": [
            "2\n"
          ]
        }
      ]
    },
    {
      "cell_type": "code",
      "source": [
        "# date_dt 열에 dt 접근자로 접근 후 year 속성을 이용해 연도값 추출\n",
        "ebola['year'] = ebola['date_dt'].dt.year\n",
        "print(ebola[['Date','date_dt','year']].head())"
      ],
      "metadata": {
        "colab": {
          "base_uri": "https://localhost:8080/"
        },
        "id": "dBcvf2SaBgX6",
        "outputId": "cdd3bace-946c-4055-83af-4e85361392a7"
      },
      "execution_count": 27,
      "outputs": [
        {
          "output_type": "stream",
          "name": "stdout",
          "text": [
            "         Date    date_dt  year\n",
            "0    1/5/2015 2015-01-05  2015\n",
            "1    1/4/2015 2015-01-04  2015\n",
            "2    1/3/2015 2015-01-03  2015\n",
            "3    1/2/2015 2015-01-02  2015\n",
            "4  12/31/2014 2014-12-31  2014\n"
          ]
        }
      ]
    },
    {
      "cell_type": "code",
      "source": [
        "# 월, 일 데이터를 한번에 추출해 새로운 열로 추가\n",
        "ebola['month'], ebola['day'] = (ebola['date_dt'].dt.month, ebola['date_dt'].dt.day)\n",
        "print(ebola[['Date','date_dt','year','month','day']].head())"
      ],
      "metadata": {
        "colab": {
          "base_uri": "https://localhost:8080/"
        },
        "id": "tPxdOXArGi35",
        "outputId": "f98c39a0-9da9-4fd4-853c-320f0a875e63"
      },
      "execution_count": 28,
      "outputs": [
        {
          "output_type": "stream",
          "name": "stdout",
          "text": [
            "         Date    date_dt  year  month  day\n",
            "0    1/5/2015 2015-01-05  2015      1    5\n",
            "1    1/4/2015 2015-01-04  2015      1    4\n",
            "2    1/3/2015 2015-01-03  2015      1    3\n",
            "3    1/2/2015 2015-01-02  2015      1    2\n",
            "4  12/31/2014 2014-12-31  2014     12   31\n"
          ]
        }
      ]
    },
    {
      "cell_type": "code",
      "source": [
        "# ebola 데이터프레임에 새로 추가한 열의 자료형 출력\n",
        "print(ebola.info())"
      ],
      "metadata": {
        "colab": {
          "base_uri": "https://localhost:8080/"
        },
        "id": "htHI-E-XHdma",
        "outputId": "6fa7f686-e860-43a3-a35b-488bed7fdaa4"
      },
      "execution_count": 29,
      "outputs": [
        {
          "output_type": "stream",
          "name": "stdout",
          "text": [
            "<class 'pandas.core.frame.DataFrame'>\n",
            "RangeIndex: 122 entries, 0 to 121\n",
            "Data columns (total 22 columns):\n",
            " #   Column               Non-Null Count  Dtype         \n",
            "---  ------               --------------  -----         \n",
            " 0   Date                 122 non-null    object        \n",
            " 1   Day                  122 non-null    int64         \n",
            " 2   Cases_Guinea         93 non-null     float64       \n",
            " 3   Cases_Liberia        83 non-null     float64       \n",
            " 4   Cases_SierraLeone    87 non-null     float64       \n",
            " 5   Cases_Nigeria        38 non-null     float64       \n",
            " 6   Cases_Senegal        25 non-null     float64       \n",
            " 7   Cases_UnitedStates   18 non-null     float64       \n",
            " 8   Cases_Spain          16 non-null     float64       \n",
            " 9   Cases_Mali           12 non-null     float64       \n",
            " 10  Deaths_Guinea        92 non-null     float64       \n",
            " 11  Deaths_Liberia       81 non-null     float64       \n",
            " 12  Deaths_SierraLeone   87 non-null     float64       \n",
            " 13  Deaths_Nigeria       38 non-null     float64       \n",
            " 14  Deaths_Senegal       22 non-null     float64       \n",
            " 15  Deaths_UnitedStates  18 non-null     float64       \n",
            " 16  Deaths_Spain         16 non-null     float64       \n",
            " 17  Deaths_Mali          12 non-null     float64       \n",
            " 18  date_dt              122 non-null    datetime64[ns]\n",
            " 19  year                 122 non-null    int64         \n",
            " 20  month                122 non-null    int64         \n",
            " 21  day                  122 non-null    int64         \n",
            "dtypes: datetime64[ns](1), float64(16), int64(4), object(1)\n",
            "memory usage: 21.1+ KB\n",
            "None\n"
          ]
        }
      ]
    },
    {
      "cell_type": "markdown",
      "source": [
        "## 12-2. 사례별 시계열 데이터 계산하기\n",
        "### 에볼라 최초 발병일 계산하기"
      ],
      "metadata": {
        "id": "TLlK8ZdPJR_7"
      }
    },
    {
      "cell_type": "code",
      "source": [
        "# ebola 데이터 프레임의 마지막 행과 열 5개씩 살펴보기. 시간 역순으로 정렬됨. 시간 순으로 데이터를 살펴보려면 데이터 프레임의 마지막부터 살펴보기\n",
        "print(ebola.iloc[-5:,:5])"
      ],
      "metadata": {
        "colab": {
          "base_uri": "https://localhost:8080/"
        },
        "id": "AeXijCKpJtzq",
        "outputId": "3bc1e0d4-e40b-431a-ddd6-543d79b34916"
      },
      "execution_count": 30,
      "outputs": [
        {
          "output_type": "stream",
          "name": "stdout",
          "text": [
            "          Date  Day  Cases_Guinea  Cases_Liberia  Cases_SierraLeone\n",
            "117  3/27/2014    5         103.0            8.0                6.0\n",
            "118  3/26/2014    4          86.0            NaN                NaN\n",
            "119  3/25/2014    3          86.0            NaN                NaN\n",
            "120  3/24/2014    2          86.0            NaN                NaN\n",
            "121  3/22/2014    0          49.0            NaN                NaN\n"
          ]
        }
      ]
    },
    {
      "cell_type": "code",
      "source": [
        "# 에볼라 발생 시작날은 2014년 3월 22일. min 메소드 사용해 에볼라의 최초 발병일 찾기\n",
        "print(ebola['date_dt'].min())\n",
        "print(type(ebola['date_dt'].min()))"
      ],
      "metadata": {
        "colab": {
          "base_uri": "https://localhost:8080/"
        },
        "id": "-y3gYnKOJ_c1",
        "outputId": "cb269327-29f6-4ba2-8318-989095d70d1b"
      },
      "execution_count": 31,
      "outputs": [
        {
          "output_type": "stream",
          "name": "stdout",
          "text": [
            "2014-03-22 00:00:00\n",
            "<class 'pandas._libs.tslibs.timestamps.Timestamp'>\n"
          ]
        }
      ]
    },
    {
      "cell_type": "code",
      "source": [
        "# Date 열에서 에볼라의 최초 발병일을 빼면 에볼라 진행 정도 확인 가능\n",
        "ebola['outbreak_d']= ebola['date_dt'] - ebola['date_dt'].min()\n",
        "print(ebola[['Date','Day','outbreak_d']].head())"
      ],
      "metadata": {
        "colab": {
          "base_uri": "https://localhost:8080/"
        },
        "id": "gq5XYQxnKPZR",
        "outputId": "6f4b4211-8467-49ae-b643-acd7f27cdf94"
      },
      "execution_count": 32,
      "outputs": [
        {
          "output_type": "stream",
          "name": "stdout",
          "text": [
            "         Date  Day outbreak_d\n",
            "0    1/5/2015  289   289 days\n",
            "1    1/4/2015  288   288 days\n",
            "2    1/3/2015  287   287 days\n",
            "3    1/2/2015  286   286 days\n",
            "4  12/31/2014  284   284 days\n"
          ]
        }
      ]
    },
    {
      "cell_type": "markdown",
      "source": [
        "### 파산한 은행의 개수 계산하기"
      ],
      "metadata": {
        "id": "N9--oiHnMTCu"
      }
    },
    {
      "cell_type": "code",
      "source": [
        "# 파산한 은행 데이터 집합. banks 데이터프레임의 앞부분인 closing date, updated date 열의 데이터 자료형이 시계열 데이터\n",
        "banks = pd.read_csv('banklist.csv')\n",
        "print(banks.head())"
      ],
      "metadata": {
        "colab": {
          "base_uri": "https://localhost:8080/"
        },
        "id": "onSEsvf5Ny00",
        "outputId": "6703aaf7-e662-4960-889e-4ff07fdd871b"
      },
      "execution_count": 33,
      "outputs": [
        {
          "output_type": "stream",
          "name": "stdout",
          "text": [
            "                                           Bank Name                City  ST  \\\n",
            "0                                Fayette County Bank          Saint Elmo  IL   \n",
            "1  Guaranty Bank, (d/b/a BestBank in Georgia & Mi...           Milwaukee  WI   \n",
            "2                                     First NBC Bank         New Orleans  LA   \n",
            "3                                      Proficio Bank  Cottonwood Heights  UT   \n",
            "4                      Seaway Bank and Trust Company             Chicago  IL   \n",
            "\n",
            "    CERT                Acquiring Institution Closing Date Updated Date  \n",
            "0   1802            United Fidelity Bank, fsb    26-May-17    26-Jul-17  \n",
            "1  30003  First-Citizens Bank & Trust Company     5-May-17    26-Jul-17  \n",
            "2  58302                         Whitney Bank    28-Apr-17    26-Jul-17  \n",
            "3  35495                    Cache Valley Bank     3-Mar-17    18-May-17  \n",
            "4  19328                  State Bank of Texas    27-Jan-17    18-May-17  \n"
          ]
        }
      ]
    },
    {
      "cell_type": "code",
      "source": [
        "# closing date, updated date 열의 자료형은 문자열. 두 열을 parse_dates 속성 이용해 변환하여 불러오기\n",
        "banks_no_dates = pd.read_csv('banklist.csv')\n",
        "print(banks_no_dates.info())"
      ],
      "metadata": {
        "colab": {
          "base_uri": "https://localhost:8080/"
        },
        "id": "ALjeK5htOcvg",
        "outputId": "62805923-a6c7-426a-c22f-7b0db31c2171"
      },
      "execution_count": 34,
      "outputs": [
        {
          "output_type": "stream",
          "name": "stdout",
          "text": [
            "<class 'pandas.core.frame.DataFrame'>\n",
            "RangeIndex: 553 entries, 0 to 552\n",
            "Data columns (total 7 columns):\n",
            " #   Column                 Non-Null Count  Dtype \n",
            "---  ------                 --------------  ----- \n",
            " 0   Bank Name              553 non-null    object\n",
            " 1   City                   553 non-null    object\n",
            " 2   ST                     553 non-null    object\n",
            " 3   CERT                   553 non-null    int64 \n",
            " 4   Acquiring Institution  553 non-null    object\n",
            " 5   Closing Date           553 non-null    object\n",
            " 6   Updated Date           553 non-null    object\n",
            "dtypes: int64(1), object(6)\n",
            "memory usage: 30.4+ KB\n",
            "None\n"
          ]
        }
      ]
    },
    {
      "cell_type": "code",
      "source": [
        "banks = pd.read_csv('banklist.csv', parse_dates=[5,6])\n",
        "print(banks.info())"
      ],
      "metadata": {
        "colab": {
          "base_uri": "https://localhost:8080/"
        },
        "id": "RKLd5Ql_SBGu",
        "outputId": "0884c414-7e39-419e-8aa0-52e0a4313d22"
      },
      "execution_count": 35,
      "outputs": [
        {
          "output_type": "stream",
          "name": "stdout",
          "text": [
            "<class 'pandas.core.frame.DataFrame'>\n",
            "RangeIndex: 553 entries, 0 to 552\n",
            "Data columns (total 7 columns):\n",
            " #   Column                 Non-Null Count  Dtype         \n",
            "---  ------                 --------------  -----         \n",
            " 0   Bank Name              553 non-null    object        \n",
            " 1   City                   553 non-null    object        \n",
            " 2   ST                     553 non-null    object        \n",
            " 3   CERT                   553 non-null    int64         \n",
            " 4   Acquiring Institution  553 non-null    object        \n",
            " 5   Closing Date           553 non-null    datetime64[ns]\n",
            " 6   Updated Date           553 non-null    datetime64[ns]\n",
            "dtypes: datetime64[ns](2), int64(1), object(4)\n",
            "memory usage: 30.4+ KB\n",
            "None\n"
          ]
        }
      ]
    },
    {
      "cell_type": "code",
      "source": [
        "# dt 접근자와 quarter 속성을 이용해 은행이 파산한 분기 알아내기.\n",
        "banks['closing_quarter'], banks['closing_year'] = (banks['Closing Date'].dt.quarter, banks['Closing Date'].dt.year)"
      ],
      "metadata": {
        "id": "KL6XdjPZTzt6"
      },
      "execution_count": 40,
      "outputs": []
    },
    {
      "cell_type": "code",
      "source": [
        "print(banks.head())"
      ],
      "metadata": {
        "colab": {
          "base_uri": "https://localhost:8080/"
        },
        "id": "W9idoEWIZ_eM",
        "outputId": "d606526e-f653-4eb2-c9bf-b90d4cbff999"
      },
      "execution_count": 41,
      "outputs": [
        {
          "output_type": "stream",
          "name": "stdout",
          "text": [
            "                                           Bank Name                City  ST  \\\n",
            "0                                Fayette County Bank          Saint Elmo  IL   \n",
            "1  Guaranty Bank, (d/b/a BestBank in Georgia & Mi...           Milwaukee  WI   \n",
            "2                                     First NBC Bank         New Orleans  LA   \n",
            "3                                      Proficio Bank  Cottonwood Heights  UT   \n",
            "4                      Seaway Bank and Trust Company             Chicago  IL   \n",
            "\n",
            "    CERT                Acquiring Institution Closing Date Updated Date  \\\n",
            "0   1802            United Fidelity Bank, fsb   2017-05-26   2017-07-26   \n",
            "1  30003  First-Citizens Bank & Trust Company   2017-05-05   2017-07-26   \n",
            "2  58302                         Whitney Bank   2017-04-28   2017-07-26   \n",
            "3  35495                    Cache Valley Bank   2017-03-03   2017-05-18   \n",
            "4  19328                  State Bank of Texas   2017-01-27   2017-05-18   \n",
            "\n",
            "   closing_quater  closing_year  closing_quarter  \n",
            "0               2          2017                2  \n",
            "1               2          2017                2  \n",
            "2               2          2017                2  \n",
            "3               1          2017                1  \n",
            "4               1          2017                1  \n"
          ]
        }
      ]
    },
    {
      "cell_type": "code",
      "source": [
        "# groupby를 사용해 연도별 파산한 은행 개수 구하기\n",
        "closing_year = banks.groupby(['closing_year']).size()\n",
        "print(closing_year)"
      ],
      "metadata": {
        "colab": {
          "base_uri": "https://localhost:8080/"
        },
        "id": "Rd0Vr-HaaA6U",
        "outputId": "92078cc7-7f67-462d-bfc9-8bf3be80d32a"
      },
      "execution_count": 42,
      "outputs": [
        {
          "output_type": "stream",
          "name": "stdout",
          "text": [
            "closing_year\n",
            "2000      2\n",
            "2001      4\n",
            "2002     11\n",
            "2003      3\n",
            "2004      4\n",
            "2007      3\n",
            "2008     25\n",
            "2009    140\n",
            "2010    157\n",
            "2011     92\n",
            "2012     51\n",
            "2013     24\n",
            "2014     18\n",
            "2015      8\n",
            "2016      5\n",
            "2017      6\n",
            "dtype: int64\n"
          ]
        }
      ]
    },
    {
      "cell_type": "code",
      "source": [
        "# 각 연도별 분기별로 파산한 은행 개수\n",
        "closing_year_q = banks.groupby(['closing_year','closing_quater']).size()\n",
        "print(closing_year_q)"
      ],
      "metadata": {
        "colab": {
          "base_uri": "https://localhost:8080/"
        },
        "id": "PDVasMWkaSNz",
        "outputId": "97959bbb-eab0-4f77-ad47-2fd4e0e10252"
      },
      "execution_count": 43,
      "outputs": [
        {
          "output_type": "stream",
          "name": "stdout",
          "text": [
            "closing_year  closing_quater\n",
            "2000          4                  2\n",
            "2001          1                  1\n",
            "              2                  1\n",
            "              3                  2\n",
            "2002          1                  6\n",
            "              2                  2\n",
            "              3                  1\n",
            "              4                  2\n",
            "2003          1                  1\n",
            "              2                  1\n",
            "              4                  1\n",
            "2004          1                  3\n",
            "              2                  1\n",
            "2007          1                  1\n",
            "              3                  1\n",
            "              4                  1\n",
            "2008          1                  2\n",
            "              2                  2\n",
            "              3                  9\n",
            "              4                 12\n",
            "2009          1                 21\n",
            "              2                 24\n",
            "              3                 50\n",
            "              4                 45\n",
            "2010          1                 41\n",
            "              2                 45\n",
            "              3                 41\n",
            "              4                 30\n",
            "2011          1                 26\n",
            "              2                 22\n",
            "              3                 26\n",
            "              4                 18\n",
            "2012          1                 16\n",
            "              2                 15\n",
            "              3                 12\n",
            "              4                  8\n",
            "2013          1                  4\n",
            "              2                 12\n",
            "              3                  6\n",
            "              4                  2\n",
            "2014          1                  5\n",
            "              2                  7\n",
            "              3                  2\n",
            "              4                  4\n",
            "2015          1                  4\n",
            "              2                  1\n",
            "              3                  1\n",
            "              4                  2\n",
            "2016          1                  1\n",
            "              2                  2\n",
            "              3                  2\n",
            "2017          1                  3\n",
            "              2                  3\n",
            "dtype: int64\n"
          ]
        }
      ]
    },
    {
      "cell_type": "code",
      "source": [
        "import matplotlib.pyplot as plt\n",
        "fig,ax = plt.subplots()\n",
        "ax = closing_year.plot()\n",
        "plt.show()\n",
        "\n",
        "fig, ax = plt.subplots()\n",
        "ax = closing_year_q.plot()\n",
        "plt.show()"
      ],
      "metadata": {
        "colab": {
          "base_uri": "https://localhost:8080/",
          "height": 883
        },
        "id": "JUWoOM7KatKI",
        "outputId": "29520f22-2e12-4c05-d8dd-bdac52abb059"
      },
      "execution_count": 44,
      "outputs": [
        {
          "output_type": "display_data",
          "data": {
            "text/plain": [
              "<Figure size 640x480 with 1 Axes>"
            ],
            "image/png": "[encoded data removed]"
          },
          "metadata": {}
        },
        {
          "output_type": "display_data",
          "data": {
            "text/plain": [
              "<Figure size 640x480 with 1 Axes>"
            ],
            "image/png": "[encoded data removed]"
          },
          "metadata": {}
        }
      ]
    },
    {
      "cell_type": "markdown",
      "source": [
        "### 테슬라 주식 데이터로 시간 계산하기\n",
        "pandas-datareader 라이브러리를 이용한 주식 데이터 불러오기"
      ],
      "metadata": {
        "id": "4otS6WWfcs3H"
      }
    },
    {
      "cell_type": "code",
      "source": [
        "%pip install pandas-datareader"
      ],
      "metadata": {
        "colab": {
          "base_uri": "https://localhost:8080/"
        },
        "id": "WtXJgzFVd6KM",
        "outputId": "f96242c9-5eb3-4065-e349-6d71755fe434"
      },
      "execution_count": 45,
      "outputs": [
        {
          "output_type": "stream",
          "name": "stdout",
          "text": [
            "Requirement already satisfied: pandas-datareader in /usr/local/lib/python3.10/dist-packages (0.10.0)\n",
            "Requirement already satisfied: lxml in /usr/local/lib/python3.10/dist-packages (from pandas-datareader) (4.9.3)\n",
            "Requirement already satisfied: pandas>=0.23 in /usr/local/lib/python3.10/dist-packages (from pandas-datareader) (1.5.3)\n",
            "Requirement already satisfied: requests>=2.19.0 in /usr/local/lib/python3.10/dist-packages (from pandas-datareader) (2.31.0)\n",
            "Requirement already satisfied: python-dateutil>=2.8.1 in /usr/local/lib/python3.10/dist-packages (from pandas>=0.23->pandas-datareader) (2.8.2)\n",
            "Requirement already satisfied: pytz>=2020.1 in /usr/local/lib/python3.10/dist-packages (from pandas>=0.23->pandas-datareader) (2023.3.post1)\n",
            "Requirement already satisfied: numpy>=1.21.0 in /usr/local/lib/python3.10/dist-packages (from pandas>=0.23->pandas-datareader) (1.23.5)\n",
            "Requirement already satisfied: charset-normalizer<4,>=2 in /usr/local/lib/python3.10/dist-packages (from requests>=2.19.0->pandas-datareader) (3.2.0)\n",
            "Requirement already satisfied: idna<4,>=2.5 in /usr/local/lib/python3.10/dist-packages (from requests>=2.19.0->pandas-datareader) (3.4)\n",
            "Requirement already satisfied: urllib3<3,>=1.21.1 in /usr/local/lib/python3.10/dist-packages (from requests>=2.19.0->pandas-datareader) (2.0.4)\n",
            "Requirement already satisfied: certifi>=2017.4.17 in /usr/local/lib/python3.10/dist-packages (from requests>=2.19.0->pandas-datareader) (2023.7.22)\n",
            "Requirement already satisfied: six>=1.5 in /usr/local/lib/python3.10/dist-packages (from python-dateutil>=2.8.1->pandas>=0.23->pandas-datareader) (1.16.0)\n"
          ]
        }
      ]
    },
    {
      "cell_type": "code",
      "source": [
        "# get_data_quandal 메서드에 TSLA라는 문자열을 전달해 테슬라의 주식 데이터 다운받아 저장\n",
        "pd.core.common.is_list_like = pd.api.types.is_list_like\n",
        "import pandas_datareader as pdr\n",
        "tesla = pdr.get_data_quandl('TSLA', api_key = 'LZC7A6sj-caaKbG2ZY-a')\n",
        "tesla.to_csv('./tesla_stock_quandl.csv')"
      ],
      "metadata": {
        "id": "0qysUn5wd9kB"
      },
      "execution_count": 49,
      "outputs": []
    },
    {
      "cell_type": "code",
      "source": [
        "# tesla 데이터프레임의 date 열이 문자열로 저장되어 있어 datetime으로 자료형 변환\n",
        "print(tesla.head())"
      ],
      "metadata": {
        "colab": {
          "base_uri": "https://localhost:8080/"
        },
        "id": "lZ6HwJMtgwZH",
        "outputId": "48c65031-598a-4acc-ad09-9087bc17c905"
      },
      "execution_count": 50,
      "outputs": [
        {
          "output_type": "stream",
          "name": "stdout",
          "text": [
            "Empty DataFrame\n",
            "Columns: [Open, High, Low, Close, Volume, ExDividend, SplitRatio, AdjOpen, AdjHigh, AdjLow, AdjClose, AdjVolume]\n",
            "Index: []\n"
          ]
        }
      ]
    },
    {
      "cell_type": "code",
      "source": [
        "tesla = pd.read_csv('tesla-stock-price.csv')\n",
        "tesla.head() # 완전히 같은 데이터는 아니지만 데이터를 찾을 수 없어 일단 진행하겠습니다."
      ],
      "metadata": {
        "colab": {
          "base_uri": "https://localhost:8080/",
          "height": 206
        },
        "id": "FJOorK7RjOax",
        "outputId": "229f5c20-671d-4338-9a92-8bce150170d9"
      },
      "execution_count": 51,
      "outputs": [
        {
          "output_type": "execute_result",
          "data": {
            "text/plain": [
              "         date   close         volume    open    high       low\n",
              "0       11:34  270.49      4,787,699  264.50  273.88  262.2400\n",
              "1  2018/10/15  259.59   6189026.0000  259.06  263.28  254.5367\n",
              "2  2018/10/12  258.78   7189257.0000  261.00  261.99  252.0100\n",
              "3  2018/10/11  252.23   8128184.0000  257.53  262.25  249.0300\n",
              "4  2018/10/10  256.88  12781560.0000  264.61  265.51  247.7700"
            ],
            "text/html": [
              "\n",
              "  <div id=\"df-6be9c70d-0254-463b-b725-2bcb55b07f3a\" class=\"colab-df-container\">\n",
              "    <div>\n",
              "<style scoped>\n",
              "    .dataframe tbody tr th:only-of-type {\n",
              "        vertical-align: middle;\n",
              "    }\n",
              "\n",
              "    .dataframe tbody tr th {\n",
              "        vertical-align: top;\n",
              "    }\n",
              "\n",
              "    .dataframe thead th {\n",
              "        text-align: right;\n",
              "    }\n",
              "</style>\n",
              "<table border=\"1\" class=\"dataframe\">\n",
              "  <thead>\n",
              "    <tr style=\"text-align: right;\">\n",
              "      <th></th>\n",
              "      <th>date</th>\n",
              "      <th>close</th>\n",
              "      <th>volume</th>\n",
              "      <th>open</th>\n",
              "      <th>high</th>\n",
              "      <th>low</th>\n",
              "    </tr>\n",
              "  </thead>\n",
              "  <tbody>\n",
              "    <tr>\n",
              "      <th>0</th>\n",
              "      <td>11:34</td>\n",
              "      <td>270.49</td>\n",
              "      <td>4,787,699</td>\n",
              "      <td>264.50</td>\n",
              "      <td>273.88</td>\n",
              "      <td>262.2400</td>\n",
              "    </tr>\n",
              "    <tr>\n",
              "      <th>1</th>\n",
              "      <td>2018/10/15</td>\n",
              "      <td>259.59</td>\n",
              "      <td>6189026.0000</td>\n",
              "      <td>259.06</td>\n",
              "      <td>263.28</td>\n",
              "      <td>254.5367</td>\n",
              "    </tr>\n",
              "    <tr>\n",
              "      <th>2</th>\n",
              "      <td>2018/10/12</td>\n",
              "      <td>258.78</td>\n",
              "      <td>7189257.0000</td>\n",
              "      <td>261.00</td>\n",
              "      <td>261.99</td>\n",
              "      <td>252.0100</td>\n",
              "    </tr>\n",
              "    <tr>\n",
              "      <th>3</th>\n",
              "      <td>2018/10/11</td>\n",
              "      <td>252.23</td>\n",
              "      <td>8128184.0000</td>\n",
              "      <td>257.53</td>\n",
              "      <td>262.25</td>\n",
              "      <td>249.0300</td>\n",
              "    </tr>\n",
              "    <tr>\n",
              "      <th>4</th>\n",
              "      <td>2018/10/10</td>\n",
              "      <td>256.88</td>\n",
              "      <td>12781560.0000</td>\n",
              "      <td>264.61</td>\n",
              "      <td>265.51</td>\n",
              "      <td>247.7700</td>\n",
              "    </tr>\n",
              "  </tbody>\n",
              "</table>\n",
              "</div>\n",
              "    <div class=\"colab-df-buttons\">\n",
              "\n",
              "  <div class=\"colab-df-container\">\n",
              "    <button class=\"colab-df-convert\" onclick=\"convertToInteractive('df-6be9c70d-0254-463b-b725-2bcb55b07f3a')\"\n",
              "            title=\"Convert this dataframe to an interactive table.\"\n",
              "            style=\"display:none;\">\n",
              "\n",
              "  <svg xmlns=\"http://www.w3.org/2000/svg\" height=\"24px\" viewBox=\"0 -960 960 960\">\n",
              "    <path d=\"M120-120v-720h720v720H120Zm60-500h600v-160H180v160Zm220 220h160v-160H400v160Zm0 220h160v-160H400v160ZM180-400h160v-160H180v160Zm440 0h160v-160H620v160ZM180-180h160v-160H180v160Zm440 0h160v-160H620v160Z\"/>\n",
              "  </svg>\n",
              "    </button>\n",
              "\n",
              "  <style>\n",
              "    .colab-df-container {\n",
              "      display:flex;\n",
              "      gap: 12px;\n",
              "    }\n",
              "\n",
              "    .colab-df-convert {\n",
              "      background-color: #E8F0FE;\n",
              "      border: none;\n",
              "      border-radius: 50%;\n",
              "      cursor: pointer;\n",
              "      display: none;\n",
              "      fill: #1967D2;\n",
              "      height: 32px;\n",
              "      padding: 0 0 0 0;\n",
              "      width: 32px;\n",
              "    }\n",
              "\n",
              "    .colab-df-convert:hover {\n",
              "      background-color: #E2EBFA;\n",
              "      box-shadow: 0px 1px 2px rgba(60, 64, 67, 0.3), 0px 1px 3px 1px rgba(60, 64, 67, 0.15);\n",
              "      fill: #174EA6;\n",
              "    }\n",
              "\n",
              "    .colab-df-buttons div {\n",
              "      margin-bottom: 4px;\n",
              "    }\n",
              "\n",
              "    [theme=dark] .colab-df-convert {\n",
              "      background-color: #3B4455;\n",
              "      fill: #D2E3FC;\n",
              "    }\n",
              "\n",
              "    [theme=dark] .colab-df-convert:hover {\n",
              "      background-color: #434B5C;\n",
              "      box-shadow: 0px 1px 3px 1px rgba(0, 0, 0, 0.15);\n",
              "      filter: drop-shadow(0px 1px 2px rgba(0, 0, 0, 0.3));\n",
              "      fill: #FFFFFF;\n",
              "    }\n",
              "  </style>\n",
              "\n",
              "    <script>\n",
              "      const buttonEl =\n",
              "        document.querySelector('#df-6be9c70d-0254-463b-b725-2bcb55b07f3a button.colab-df-convert');\n",
              "      buttonEl.style.display =\n",
              "        google.colab.kernel.accessAllowed ? 'block' : 'none';\n",
              "\n",
              "      async function convertToInteractive(key) {\n",
              "        const element = document.querySelector('#df-6be9c70d-0254-463b-b725-2bcb55b07f3a');\n",
              "        const dataTable =\n",
              "          await google.colab.kernel.invokeFunction('convertToInteractive',\n",
              "                                                    [key], {});\n",
              "        if (!dataTable) return;\n",
              "\n",
              "        const docLinkHtml = 'Like what you see? Visit the ' +\n",
              "          '<a target=\"_blank\" href=https://colab.research.google.com/notebooks/data_table.ipynb>data table notebook</a>'\n",
              "          + ' to learn more about interactive tables.';\n",
              "        element.innerHTML = '';\n",
              "        dataTable['output_type'] = 'display_data';\n",
              "        await google.colab.output.renderOutput(dataTable, element);\n",
              "        const docLink = document.createElement('div');\n",
              "        docLink.innerHTML = docLinkHtml;\n",
              "        element.appendChild(docLink);\n",
              "      }\n",
              "    </script>\n",
              "  </div>\n",
              "\n",
              "\n",
              "<div id=\"df-2c2f4017-5f56-4732-b2b6-1db3eb38a0c1\">\n",
              "  <button class=\"colab-df-quickchart\" onclick=\"quickchart('df-2c2f4017-5f56-4732-b2b6-1db3eb38a0c1')\"\n",
              "            title=\"Suggest charts.\"\n",
              "            style=\"display:none;\">\n",
              "\n",
              "<svg xmlns=\"http://www.w3.org/2000/svg\" height=\"24px\"viewBox=\"0 0 24 24\"\n",
              "     width=\"24px\">\n",
              "    <g>\n",
              "        <path d=\"M19 3H5c-1.1 0-2 .9-2 2v14c0 1.1.9 2 2 2h14c1.1 0 2-.9 2-2V5c0-1.1-.9-2-2-2zM9 17H7v-7h2v7zm4 0h-2V7h2v10zm4 0h-2v-4h2v4z\"/>\n",
              "    </g>\n",
              "</svg>\n",
              "  </button>\n",
              "\n",
              "<style>\n",
              "  .colab-df-quickchart {\n",
              "      --bg-color: #E8F0FE;\n",
              "      --fill-color: #1967D2;\n",
              "      --hover-bg-color: #E2EBFA;\n",
              "      --hover-fill-color: #174EA6;\n",
              "      --disabled-fill-color: #AAA;\n",
              "      --disabled-bg-color: #DDD;\n",
              "  }\n",
              "\n",
              "  [theme=dark] .colab-df-quickchart {\n",
              "      --bg-color: #3B4455;\n",
              "      --fill-color: #D2E3FC;\n",
              "      --hover-bg-color: #434B5C;\n",
              "      --hover-fill-color: #FFFFFF;\n",
              "      --disabled-bg-color: #3B4455;\n",
              "      --disabled-fill-color: #666;\n",
              "  }\n",
              "\n",
              "  .colab-df-quickchart {\n",
              "    background-color: var(--bg-color);\n",
              "    border: none;\n",
              "    border-radius: 50%;\n",
              "    cursor: pointer;\n",
              "    display: none;\n",
              "    fill: var(--fill-color);\n",
              "    height: 32px;\n",
              "    padding: 0;\n",
              "    width: 32px;\n",
              "  }\n",
              "\n",
              "  .colab-df-quickchart:hover {\n",
              "    background-color: var(--hover-bg-color);\n",
              "    box-shadow: 0 1px 2px rgba(60, 64, 67, 0.3), 0 1px 3px 1px rgba(60, 64, 67, 0.15);\n",
              "    fill: var(--button-hover-fill-color);\n",
              "  }\n",
              "\n",
              "  .colab-df-quickchart-complete:disabled,\n",
              "  .colab-df-quickchart-complete:disabled:hover {\n",
              "    background-color: var(--disabled-bg-color);\n",
              "    fill: var(--disabled-fill-color);\n",
              "    box-shadow: none;\n",
              "  }\n",
              "\n",
              "  .colab-df-spinner {\n",
              "    border: 2px solid var(--fill-color);\n",
              "    border-color: transparent;\n",
              "    border-bottom-color: var(--fill-color);\n",
              "    animation:\n",
              "      spin 1s steps(1) infinite;\n",
              "  }\n",
              "\n",
              "  @keyframes spin {\n",
              "    0% {\n",
              "      border-color: transparent;\n",
              "      border-bottom-color: var(--fill-color);\n",
              "      border-left-color: var(--fill-color);\n",
              "    }\n",
              "    20% {\n",
              "      border-color: transparent;\n",
              "      border-left-color: var(--fill-color);\n",
              "      border-top-color: var(--fill-color);\n",
              "    }\n",
              "    30% {\n",
              "      border-color: transparent;\n",
              "      border-left-color: var(--fill-color);\n",
              "      border-top-color: var(--fill-color);\n",
              "      border-right-color: var(--fill-color);\n",
              "    }\n",
              "    40% {\n",
              "      border-color: transparent;\n",
              "      border-right-color: var(--fill-color);\n",
              "      border-top-color: var(--fill-color);\n",
              "    }\n",
              "    60% {\n",
              "      border-color: transparent;\n",
              "      border-right-color: var(--fill-color);\n",
              "    }\n",
              "    80% {\n",
              "      border-color: transparent;\n",
              "      border-right-color: var(--fill-color);\n",
              "      border-bottom-color: var(--fill-color);\n",
              "    }\n",
              "    90% {\n",
              "      border-color: transparent;\n",
              "      border-bottom-color: var(--fill-color);\n",
              "    }\n",
              "  }\n",
              "</style>\n",
              "\n",
              "  <script>\n",
              "    async function quickchart(key) {\n",
              "      const quickchartButtonEl =\n",
              "        document.querySelector('#' + key + ' button');\n",
              "      quickchartButtonEl.disabled = true;  // To prevent multiple clicks.\n",
              "      quickchartButtonEl.classList.add('colab-df-spinner');\n",
              "      try {\n",
              "        const charts = await google.colab.kernel.invokeFunction(\n",
              "            'suggestCharts', [key], {});\n",
              "      } catch (error) {\n",
              "        console.error('Error during call to suggestCharts:', error);\n",
              "      }\n",
              "      quickchartButtonEl.classList.remove('colab-df-spinner');\n",
              "      quickchartButtonEl.classList.add('colab-df-quickchart-complete');\n",
              "    }\n",
              "    (() => {\n",
              "      let quickchartButtonEl =\n",
              "        document.querySelector('#df-2c2f4017-5f56-4732-b2b6-1db3eb38a0c1 button');\n",
              "      quickchartButtonEl.style.display =\n",
              "        google.colab.kernel.accessAllowed ? 'block' : 'none';\n",
              "    })();\n",
              "  </script>\n",
              "</div>\n",
              "    </div>\n",
              "  </div>\n"
            ]
          },
          "metadata": {},
          "execution_count": 51
        }
      ]
    },
    {
      "cell_type": "code",
      "source": [
        "tesla = pd.read_csv('tesla-stock-price.csv', parse_dates=[0])\n",
        "print(tesla.info())"
      ],
      "metadata": {
        "colab": {
          "base_uri": "https://localhost:8080/"
        },
        "id": "t3JcGtU1nwIh",
        "outputId": "c544145e-884d-464b-bfc9-e388ea18d360"
      },
      "execution_count": 55,
      "outputs": [
        {
          "output_type": "stream",
          "name": "stdout",
          "text": [
            "<class 'pandas.core.frame.DataFrame'>\n",
            "RangeIndex: 757 entries, 0 to 756\n",
            "Data columns (total 6 columns):\n",
            " #   Column  Non-Null Count  Dtype         \n",
            "---  ------  --------------  -----         \n",
            " 0   date    757 non-null    datetime64[ns]\n",
            " 1   close   757 non-null    float64       \n",
            " 2   volume  757 non-null    object        \n",
            " 3   open    757 non-null    float64       \n",
            " 4   high    757 non-null    float64       \n",
            " 5   low     757 non-null    float64       \n",
            "dtypes: datetime64[ns](1), float64(4), object(1)\n",
            "memory usage: 35.6+ KB\n",
            "None\n"
          ]
        }
      ]
    },
    {
      "cell_type": "code",
      "source": [
        "# 2018년 6월 데이터 추출\n",
        "print(tesla.loc[(tesla.date.dt.year==2018)&(tesla.date.dt.month==6)])"
      ],
      "metadata": {
        "colab": {
          "base_uri": "https://localhost:8080/"
        },
        "id": "Z9D3dzgVroqi",
        "outputId": "c9fe7c9d-32f5-42f0-d5d6-e5038e72a447"
      },
      "execution_count": 57,
      "outputs": [
        {
          "output_type": "stream",
          "name": "stdout",
          "text": [
            "         date   close         volume     open      high      low\n",
            "75 2018-06-29  342.95   6475903.0000  353.330  353.8600  342.410\n",
            "76 2018-06-28  349.93   8388172.0000  348.660  357.0200  346.110\n",
            "77 2018-06-27  344.50   8313817.0000  345.000  350.7900  339.500\n",
            "78 2018-06-26  342.00   7434749.0000  336.054  343.5500  325.799\n",
            "79 2018-06-25  333.01   6925089.0000  330.120  338.4700  327.500\n",
            "80 2018-06-22  333.63  10253770.0000  351.540  352.2500  332.000\n",
            "81 2018-06-21  347.51   7949846.0000  362.000  366.2139  346.270\n",
            "82 2018-06-20  362.22   8370268.0000  358.040  364.3800  352.000\n",
            "83 2018-06-19  352.55  12734840.0000  365.160  370.0000  346.250\n",
            "84 2018-06-18  370.83  12025450.0000  355.400  373.7300  354.500\n",
            "85 2018-06-15  358.17  10827560.0000  353.840  364.6700  351.250\n",
            "86 2018-06-14  357.72  10961150.0000  347.630  358.7500  346.600\n",
            "87 2018-06-13  344.78   9401467.0000  346.706  347.2000  339.800\n",
            "88 2018-06-12  342.77  22256430.0000  344.700  354.9700  338.000\n",
            "89 2018-06-11  332.10  13166050.0000  322.510  334.6600  322.500\n",
            "90 2018-06-08  317.66   8192175.0000  319.000  324.4800  317.150\n",
            "91 2018-06-07  316.09  14336110.0000  316.150  330.0000  313.580\n",
            "92 2018-06-06  319.50  18742400.0000  300.500  322.1700  297.480\n",
            "93 2018-06-05  291.13   5877873.0000  297.700  297.8000  286.740\n",
            "94 2018-06-04  296.74   4793787.0000  294.340  299.0000  293.548\n",
            "95 2018-06-01  291.82   5417984.0000  285.860  291.9500  283.839\n"
          ]
        }
      ]
    },
    {
      "cell_type": "markdown",
      "source": [
        "### datetime 오브젝트와 인덱스 - DatetimeIndex\n",
        "datetime 오브젝트를 데이터 프레임의 인덱스로 설정해 원하는 시간의 데이터를 바로 추출 가능\n",
        "#### datetime 오브젝트를 인덱스로 설정해 데이터 추출하기"
      ],
      "metadata": {
        "id": "gtTPIKI-r0v9"
      }
    },
    {
      "cell_type": "code",
      "source": [
        "# date 열을 tesla 데이터 프레임의 인덱스로 지정\n",
        "tesla.index = tesla['date']\n",
        "print(tesla.index)"
      ],
      "metadata": {
        "colab": {
          "base_uri": "https://localhost:8080/"
        },
        "id": "C-VUJx5Esxnk",
        "outputId": "bbb33f77-c908-4f77-cbed-fd448b663795"
      },
      "execution_count": 58,
      "outputs": [
        {
          "output_type": "stream",
          "name": "stdout",
          "text": [
            "DatetimeIndex(['2023-09-27 11:34:00', '2018-10-15 00:00:00',\n",
            "               '2018-10-12 00:00:00', '2018-10-11 00:00:00',\n",
            "               '2018-10-10 00:00:00', '2018-10-09 00:00:00',\n",
            "               '2018-10-08 00:00:00', '2018-10-05 00:00:00',\n",
            "               '2018-10-04 00:00:00', '2018-10-03 00:00:00',\n",
            "               ...\n",
            "               '2015-10-28 00:00:00', '2015-10-27 00:00:00',\n",
            "               '2015-10-26 00:00:00', '2015-10-23 00:00:00',\n",
            "               '2015-10-22 00:00:00', '2015-10-21 00:00:00',\n",
            "               '2015-10-20 00:00:00', '2015-10-19 00:00:00',\n",
            "               '2015-10-16 00:00:00', '2015-10-15 00:00:00'],\n",
            "              dtype='datetime64[ns]', name='date', length=757, freq=None)\n"
          ]
        }
      ]
    },
    {
      "cell_type": "code",
      "source": [
        "# 2015년 데이터 추출\n",
        "print(tesla['2015'].iloc[:5,:5])"
      ],
      "metadata": {
        "colab": {
          "base_uri": "https://localhost:8080/"
        },
        "id": "o1D1bgZhtW3i",
        "outputId": "e07906ac-8ede-40ac-f9b1-59c7bbe27206"
      },
      "execution_count": 59,
      "outputs": [
        {
          "output_type": "stream",
          "name": "stdout",
          "text": [
            "                 date   close        volume    open     high\n",
            "date                                                        \n",
            "2015-12-31 2015-12-31  240.01  2713817.0000  238.51  243.450\n",
            "2015-12-30 2015-12-30  238.09  3694448.0000  236.60  243.634\n",
            "2015-12-29 2015-12-29  237.19  2402438.0000  230.06  237.720\n",
            "2015-12-28 2015-12-28  228.95  1900171.0000  231.49  231.980\n",
            "2015-12-24 2015-12-24  230.57   710277.0000  230.56  231.880\n"
          ]
        },
        {
          "output_type": "stream",
          "name": "stderr",
          "text": [
            "<ipython-input-59-bcddfd372997>:2: FutureWarning: Indexing a DataFrame with a datetimelike index using a single string to slice the rows, like `frame[string]`, is deprecated and will be removed in a future version. Use `frame.loc[string]` instead.\n",
            "  print(tesla['2015'].iloc[:5,:5])\n"
          ]
        }
      ]
    },
    {
      "cell_type": "code",
      "source": [
        "# 2018년 6월 데이터 추출\n",
        "print(tesla['2018-06'].iloc[:,:5])"
      ],
      "metadata": {
        "colab": {
          "base_uri": "https://localhost:8080/"
        },
        "id": "-ExV3yG_t-1c",
        "outputId": "790f23d5-0467-46fb-bc35-b402d29741f1"
      },
      "execution_count": 60,
      "outputs": [
        {
          "output_type": "stream",
          "name": "stdout",
          "text": [
            "                 date   close         volume     open      high\n",
            "date                                                           \n",
            "2018-06-29 2018-06-29  342.95   6475903.0000  353.330  353.8600\n",
            "2018-06-28 2018-06-28  349.93   8388172.0000  348.660  357.0200\n",
            "2018-06-27 2018-06-27  344.50   8313817.0000  345.000  350.7900\n",
            "2018-06-26 2018-06-26  342.00   7434749.0000  336.054  343.5500\n",
            "2018-06-25 2018-06-25  333.01   6925089.0000  330.120  338.4700\n",
            "2018-06-22 2018-06-22  333.63  10253770.0000  351.540  352.2500\n",
            "2018-06-21 2018-06-21  347.51   7949846.0000  362.000  366.2139\n",
            "2018-06-20 2018-06-20  362.22   8370268.0000  358.040  364.3800\n",
            "2018-06-19 2018-06-19  352.55  12734840.0000  365.160  370.0000\n",
            "2018-06-18 2018-06-18  370.83  12025450.0000  355.400  373.7300\n",
            "2018-06-15 2018-06-15  358.17  10827560.0000  353.840  364.6700\n",
            "2018-06-14 2018-06-14  357.72  10961150.0000  347.630  358.7500\n",
            "2018-06-13 2018-06-13  344.78   9401467.0000  346.706  347.2000\n",
            "2018-06-12 2018-06-12  342.77  22256430.0000  344.700  354.9700\n",
            "2018-06-11 2018-06-11  332.10  13166050.0000  322.510  334.6600\n",
            "2018-06-08 2018-06-08  317.66   8192175.0000  319.000  324.4800\n",
            "2018-06-07 2018-06-07  316.09  14336110.0000  316.150  330.0000\n",
            "2018-06-06 2018-06-06  319.50  18742400.0000  300.500  322.1700\n",
            "2018-06-05 2018-06-05  291.13   5877873.0000  297.700  297.8000\n",
            "2018-06-04 2018-06-04  296.74   4793787.0000  294.340  299.0000\n",
            "2018-06-01 2018-06-01  291.82   5417984.0000  285.860  291.9500\n"
          ]
        },
        {
          "output_type": "stream",
          "name": "stderr",
          "text": [
            "<ipython-input-60-cdea620a7a21>:2: FutureWarning: Indexing a DataFrame with a datetimelike index using a single string to slice the rows, like `frame[string]`, is deprecated and will be removed in a future version. Use `frame.loc[string]` instead.\n",
            "  print(tesla['2018-06'].iloc[:,:5])\n"
          ]
        }
      ]
    },
    {
      "cell_type": "markdown",
      "source": [
        "### 시간 간격과 인덱스 - TimedeltaIndex\n",
        "####시간 간격을 인덱스로 지정해 데이터 추출."
      ],
      "metadata": {
        "id": "-KcGr4yduKhN"
      }
    },
    {
      "cell_type": "code",
      "source": [
        "# date 열에서 date 열의 최솟값을 빼면 데이터 수집 이후 시간이 얼마나 흘렀는지 알 수 있다.\n",
        "tesla['ref_date'] = tesla['date'] - tesla['date'].min()\n",
        "print(tesla.head())"
      ],
      "metadata": {
        "colab": {
          "base_uri": "https://localhost:8080/"
        },
        "id": "2WZmwAm3upvf",
        "outputId": "28ef3ce0-2eb2-497f-96d0-672ad5b71cb6"
      },
      "execution_count": 61,
      "outputs": [
        {
          "output_type": "stream",
          "name": "stdout",
          "text": [
            "                                   date   close         volume    open  \\\n",
            "date                                                                     \n",
            "2023-09-27 11:34:00 2023-09-27 11:34:00  270.49      4,787,699  264.50   \n",
            "2018-10-15 00:00:00 2018-10-15 00:00:00  259.59   6189026.0000  259.06   \n",
            "2018-10-12 00:00:00 2018-10-12 00:00:00  258.78   7189257.0000  261.00   \n",
            "2018-10-11 00:00:00 2018-10-11 00:00:00  252.23   8128184.0000  257.53   \n",
            "2018-10-10 00:00:00 2018-10-10 00:00:00  256.88  12781560.0000  264.61   \n",
            "\n",
            "                       high       low           ref_date  \n",
            "date                                                      \n",
            "2023-09-27 11:34:00  273.88  262.2400 2904 days 11:34:00  \n",
            "2018-10-15 00:00:00  263.28  254.5367 1096 days 00:00:00  \n",
            "2018-10-12 00:00:00  261.99  252.0100 1093 days 00:00:00  \n",
            "2018-10-11 00:00:00  262.25  249.0300 1092 days 00:00:00  \n",
            "2018-10-10 00:00:00  265.51  247.7700 1091 days 00:00:00  \n"
          ]
        }
      ]
    },
    {
      "cell_type": "code",
      "source": [
        "# ref_date열을 인덱스로 지정\n",
        "tesla.index = tesla['ref_date']\n",
        "print(tesla.iloc[:5,:5])"
      ],
      "metadata": {
        "colab": {
          "base_uri": "https://localhost:8080/"
        },
        "id": "mo9wVZcfvA2z",
        "outputId": "30aa3536-366a-4902-f36a-67c4b128e104"
      },
      "execution_count": 62,
      "outputs": [
        {
          "output_type": "stream",
          "name": "stdout",
          "text": [
            "                                  date   close         volume    open    high\n",
            "ref_date                                                                     \n",
            "2904 days 11:34:00 2023-09-27 11:34:00  270.49      4,787,699  264.50  273.88\n",
            "1096 days 00:00:00 2018-10-15 00:00:00  259.59   6189026.0000  259.06  263.28\n",
            "1093 days 00:00:00 2018-10-12 00:00:00  258.78   7189257.0000  261.00  261.99\n",
            "1092 days 00:00:00 2018-10-11 00:00:00  252.23   8128184.0000  257.53  262.25\n",
            "1091 days 00:00:00 2018-10-10 00:00:00  256.88  12781560.0000  264.61  265.51\n"
          ]
        }
      ]
    },
    {
      "cell_type": "code",
      "source": [
        "# 데이터 수집 이후 최초 5일 데이터 추출\n",
        "print(tesla['5 days':].iloc[:5,:5])"
      ],
      "metadata": {
        "colab": {
          "base_uri": "https://localhost:8080/"
        },
        "id": "hkanj3aSvxH0",
        "outputId": "30b34c7b-452a-4128-d9f5-a1c848f720e2"
      },
      "execution_count": 63,
      "outputs": [
        {
          "output_type": "stream",
          "name": "stdout",
          "text": [
            "               date   close         volume    open      high\n",
            "ref_date                                                    \n",
            "5 days   2015-10-20  213.03  14877020.0000  227.72  228.6000\n",
            "4 days   2015-10-19  228.10   2506836.0000  226.50  231.1500\n",
            "1 days   2015-10-16  227.01   4327574.0000  223.04  230.4805\n",
            "0 days   2015-10-15  221.31   2835920.0000  216.43  221.7300\n"
          ]
        }
      ]
    },
    {
      "cell_type": "markdown",
      "source": [
        "### 시간 범위와 인덱스\n",
        "특정 일에 누락된 데이터도 포함시켜 데이터를 살펴보기 위한 방식"
      ],
      "metadata": {
        "id": "omB9A0YCv4c4"
      }
    },
    {
      "cell_type": "markdown",
      "source": [
        "#### 시간 범위 생성해 인덱스로 지정하기"
      ],
      "metadata": {
        "id": "8YxsXCaOw_PO"
      }
    },
    {
      "cell_type": "code",
      "source": [
        "# 에볼라 데이터 집합 사용. 2015년 1월 1일 데이터 누락\n",
        "ebola = pd.read_csv('country_timeseries.csv', parse_dates=[0])\n",
        "print(ebola.iloc[:5,:5])"
      ],
      "metadata": {
        "colab": {
          "base_uri": "https://localhost:8080/"
        },
        "id": "xK10ytW2xC9e",
        "outputId": "028d6f1a-4f0f-469b-f6ec-60545a9b7a0f"
      },
      "execution_count": 64,
      "outputs": [
        {
          "output_type": "stream",
          "name": "stdout",
          "text": [
            "        Date  Day  Cases_Guinea  Cases_Liberia  Cases_SierraLeone\n",
            "0 2015-01-05  289        2776.0            NaN            10030.0\n",
            "1 2015-01-04  288        2775.0            NaN             9780.0\n",
            "2 2015-01-03  287        2769.0         8166.0             9722.0\n",
            "3 2015-01-02  286           NaN         8157.0                NaN\n",
            "4 2014-12-31  284        2730.0         8115.0             9633.0\n"
          ]
        }
      ]
    },
    {
      "cell_type": "code",
      "source": [
        "print(ebola.iloc[-5:,:5])"
      ],
      "metadata": {
        "colab": {
          "base_uri": "https://localhost:8080/"
        },
        "id": "K7iyhLmxxQo9",
        "outputId": "17b06752-3bab-4265-b773-24f2a1c6f5da"
      },
      "execution_count": 65,
      "outputs": [
        {
          "output_type": "stream",
          "name": "stdout",
          "text": [
            "          Date  Day  Cases_Guinea  Cases_Liberia  Cases_SierraLeone\n",
            "117 2014-03-27    5         103.0            8.0                6.0\n",
            "118 2014-03-26    4          86.0            NaN                NaN\n",
            "119 2014-03-25    3          86.0            NaN                NaN\n",
            "120 2014-03-24    2          86.0            NaN                NaN\n",
            "121 2014-03-22    0          49.0            NaN                NaN\n"
          ]
        }
      ]
    },
    {
      "cell_type": "code",
      "source": [
        "# date_range 메서드를 사용해 시간 인덱스 생성\n",
        "head_range = pd.date_range(start='2014-12-31', end='2015-01-05')\n",
        "print(head_range)"
      ],
      "metadata": {
        "colab": {
          "base_uri": "https://localhost:8080/"
        },
        "id": "MUq_v0LwxoQP",
        "outputId": "ece4d0de-0f78-40d2-dc00-77f860d2f6ea"
      },
      "execution_count": 66,
      "outputs": [
        {
          "output_type": "stream",
          "name": "stdout",
          "text": [
            "DatetimeIndex(['2014-12-31', '2015-01-01', '2015-01-02', '2015-01-03',\n",
            "               '2015-01-04', '2015-01-05'],\n",
            "              dtype='datetime64[ns]', freq='D')\n"
          ]
        }
      ]
    },
    {
      "cell_type": "code",
      "source": [
        "# 원본 데이터 손상 방지 위해 ebola 데이터 프레임의 앞 5개 데이터 추출해 새로운 데이터프레임 만들기.\n",
        "# Date 열을 인덱스로 먼저 지정 후 생성한 시간 범위를 인덱스로 지정\n",
        "ebola_5 = ebola.head()\n",
        "ebola_5.index = ebola_5['Date']\n",
        "ebola_5.reindex(head_range)\n",
        "print(ebola_5.iloc[:5,:5])"
      ],
      "metadata": {
        "colab": {
          "base_uri": "https://localhost:8080/"
        },
        "id": "eLiqwXlmydti",
        "outputId": "3784e645-9d84-47f0-ce9a-3586deedde30"
      },
      "execution_count": 67,
      "outputs": [
        {
          "output_type": "stream",
          "name": "stdout",
          "text": [
            "                 Date  Day  Cases_Guinea  Cases_Liberia  Cases_SierraLeone\n",
            "Date                                                                      \n",
            "2015-01-05 2015-01-05  289        2776.0            NaN            10030.0\n",
            "2015-01-04 2015-01-04  288        2775.0            NaN             9780.0\n",
            "2015-01-03 2015-01-03  287        2769.0         8166.0             9722.0\n",
            "2015-01-02 2015-01-02  286           NaN         8157.0                NaN\n",
            "2014-12-31 2014-12-31  284        2730.0         8115.0             9633.0\n"
          ]
        }
      ]
    },
    {
      "cell_type": "markdown",
      "source": [
        "### 시간 범위 수정하고 데이터 밀어내기 - shift 메서드\n",
        "나라별로 에볼라 확산 속도 비교하려면 발생 시작 날짜를 옮기는 것이 좋음."
      ],
      "metadata": {
        "id": "coOqhd6kzYhK"
      }
    },
    {
      "cell_type": "markdown",
      "source": [
        "#### 에볼라의 확산 속도 비교하기"
      ],
      "metadata": {
        "id": "-2VZbJLA0K0Y"
      }
    },
    {
      "cell_type": "code",
      "source": [
        "# ebola 데이터프레임의 Date 열을 인덱스로 지정 후 x축을 Date열로 y 축을 사망주 수로 지정하여 그래프 그리기\n",
        "import matplotlib.pyplot as plt\n",
        "ebola.index = ebola['Date']\n",
        "fig,ax = plt.subplots()\n",
        "ax = ebola.iloc[0:,1:].plot(ax=ax)\n",
        "ax.legend(fontsize=7, loc=2, borderaxespad=0.)\n",
        "plt.show()"
      ],
      "metadata": {
        "colab": {
          "base_uri": "https://localhost:8080/",
          "height": 433
        },
        "id": "Kqpb0-Yt0M2y",
        "outputId": "e2e39626-1006-4fd1-a526-1c719e833a67"
      },
      "execution_count": 68,
      "outputs": [
        {
          "output_type": "display_data",
          "data": {
            "text/plain": [
              "<Figure size 640x480 with 1 Axes>"
            ],
            "image/png": "[encoded data removed]"
          },
          "metadata": {}
        }
      ]
    },
    {
      "cell_type": "code",
      "source": [
        "# 각 나라의 발병일을 가장 처음 에볼라가 발생한 Guinea와 동일한 위치로 옮겨야 나라별 에볼라의 확산 속도를 제대로 비교 가능\n",
        "ebola_sub = ebola[['Day','Cases_Guinea','Cases_Liberia','Cases_Liberia']]\n",
        "print(ebola_sub.tail(10))"
      ],
      "metadata": {
        "colab": {
          "base_uri": "https://localhost:8080/"
        },
        "id": "kG0ZQxrb1bWd",
        "outputId": "0ab1f473-bc09-4a5d-f7e2-79510b117b1e"
      },
      "execution_count": 69,
      "outputs": [
        {
          "output_type": "stream",
          "name": "stdout",
          "text": [
            "            Day  Cases_Guinea  Cases_Liberia  Cases_Liberia\n",
            "Date                                                       \n",
            "2014-04-04   13         143.0           18.0           18.0\n",
            "2014-04-01   10         127.0            8.0            8.0\n",
            "2014-03-31    9         122.0            8.0            8.0\n",
            "2014-03-29    7         112.0            7.0            7.0\n",
            "2014-03-28    6         112.0            3.0            3.0\n",
            "2014-03-27    5         103.0            8.0            8.0\n",
            "2014-03-26    4          86.0            NaN            NaN\n",
            "2014-03-25    3          86.0            NaN            NaN\n",
            "2014-03-24    2          86.0            NaN            NaN\n",
            "2014-03-22    0          49.0            NaN            NaN\n"
          ]
        }
      ]
    },
    {
      "cell_type": "code",
      "source": [
        "# Date열의 자료형을 datetime 오브젝트로 변환해 ebola 데이터프레임을 다시 생성\n",
        "# 중간에 없는 날짜 데이터도 포함시켜야 확산 속도를 제대로 비교 가능\n",
        "ebola = pd.read_csv('country_timeseries.csv', parse_dates=['Date'])\n",
        "print(ebola.head().iloc[:,:5])"
      ],
      "metadata": {
        "colab": {
          "base_uri": "https://localhost:8080/"
        },
        "id": "-3pv0c-K5gXw",
        "outputId": "eb523897-eaa8-44aa-b73b-076e5d73c5e2"
      },
      "execution_count": 70,
      "outputs": [
        {
          "output_type": "stream",
          "name": "stdout",
          "text": [
            "        Date  Day  Cases_Guinea  Cases_Liberia  Cases_SierraLeone\n",
            "0 2015-01-05  289        2776.0            NaN            10030.0\n",
            "1 2015-01-04  288        2775.0            NaN             9780.0\n",
            "2 2015-01-03  287        2769.0         8166.0             9722.0\n",
            "3 2015-01-02  286           NaN         8157.0                NaN\n",
            "4 2014-12-31  284        2730.0         8115.0             9633.0\n"
          ]
        }
      ]
    },
    {
      "cell_type": "code",
      "source": [
        "print(ebola.tail().iloc[:,:5])"
      ],
      "metadata": {
        "colab": {
          "base_uri": "https://localhost:8080/"
        },
        "id": "l-8HobHV6Pkj",
        "outputId": "b9f03485-053a-475c-c231-3d5af59da233"
      },
      "execution_count": 71,
      "outputs": [
        {
          "output_type": "stream",
          "name": "stdout",
          "text": [
            "          Date  Day  Cases_Guinea  Cases_Liberia  Cases_SierraLeone\n",
            "117 2014-03-27    5         103.0            8.0                6.0\n",
            "118 2014-03-26    4          86.0            NaN                NaN\n",
            "119 2014-03-25    3          86.0            NaN                NaN\n",
            "120 2014-03-24    2          86.0            NaN                NaN\n",
            "121 2014-03-22    0          49.0            NaN                NaN\n"
          ]
        }
      ]
    },
    {
      "cell_type": "code",
      "source": [
        "# Date열을 인덱스로 지정한 다음 ebola 데이터프레임의 Date 열의 최댓값과 최솟값으로 시간 범위를 생성해 new_idx에 저장\n",
        "# 날짜가 아예 없던 데이터의 인덱스 생성 가능\n",
        "ebola.index = ebola['Date']\n",
        "new_idx = pd.date_range(ebola.index.min(), ebola.index.max())"
      ],
      "metadata": {
        "id": "EwNgKLRT6S_p"
      },
      "execution_count": 72,
      "outputs": []
    },
    {
      "cell_type": "code",
      "source": [
        "# 시간 순서를 맞추기 위해 reversed 메서드 사용해 인덱스를 반대로 뒤집기\n",
        "print(new_idx)"
      ],
      "metadata": {
        "colab": {
          "base_uri": "https://localhost:8080/"
        },
        "id": "ShMFWGBS8eCr",
        "outputId": "d6257764-55c0-44ab-9483-d5935247bc51"
      },
      "execution_count": 73,
      "outputs": [
        {
          "output_type": "stream",
          "name": "stdout",
          "text": [
            "DatetimeIndex(['2014-03-22', '2014-03-23', '2014-03-24', '2014-03-25',\n",
            "               '2014-03-26', '2014-03-27', '2014-03-28', '2014-03-29',\n",
            "               '2014-03-30', '2014-03-31',\n",
            "               ...\n",
            "               '2014-12-27', '2014-12-28', '2014-12-29', '2014-12-30',\n",
            "               '2014-12-31', '2015-01-01', '2015-01-02', '2015-01-03',\n",
            "               '2015-01-04', '2015-01-05'],\n",
            "              dtype='datetime64[ns]', length=290, freq='D')\n"
          ]
        }
      ]
    },
    {
      "cell_type": "code",
      "source": [
        "new_idx = reversed(new_idx)"
      ],
      "metadata": {
        "id": "6l-1g1gn9n-s"
      },
      "execution_count": 74,
      "outputs": []
    },
    {
      "cell_type": "code",
      "source": [
        "# reindex 메서드를 사용하여 새로 생성한 인덱스를 새로운 인덱스로 지정\n",
        "# 아예 없었던 날짜 추가됨\n",
        "ebola = ebola.reindex(new_idx)\n",
        "print(ebola.head().iloc[:,:5])"
      ],
      "metadata": {
        "colab": {
          "base_uri": "https://localhost:8080/"
        },
        "id": "VXUaaQpn9qg7",
        "outputId": "40415efd-df69-4eba-84e2-ac4bd7f674c2"
      },
      "execution_count": 75,
      "outputs": [
        {
          "output_type": "stream",
          "name": "stdout",
          "text": [
            "                 Date    Day  Cases_Guinea  Cases_Liberia  Cases_SierraLeone\n",
            "Date                                                                        \n",
            "2015-01-05 2015-01-05  289.0        2776.0            NaN            10030.0\n",
            "2015-01-04 2015-01-04  288.0        2775.0            NaN             9780.0\n",
            "2015-01-03 2015-01-03  287.0        2769.0         8166.0             9722.0\n",
            "2015-01-02 2015-01-02  286.0           NaN         8157.0                NaN\n",
            "2015-01-01        NaT    NaN           NaN            NaN                NaN\n"
          ]
        }
      ]
    },
    {
      "cell_type": "code",
      "source": [
        "print(ebola.tail().iloc[:,:5])"
      ],
      "metadata": {
        "colab": {
          "base_uri": "https://localhost:8080/"
        },
        "id": "EuKmp6-K-5EB",
        "outputId": "469d8dd7-a87a-48f8-d402-330b054ab480"
      },
      "execution_count": 76,
      "outputs": [
        {
          "output_type": "stream",
          "name": "stdout",
          "text": [
            "                 Date  Day  Cases_Guinea  Cases_Liberia  Cases_SierraLeone\n",
            "Date                                                                      \n",
            "2014-03-26 2014-03-26  4.0          86.0            NaN                NaN\n",
            "2014-03-25 2014-03-25  3.0          86.0            NaN                NaN\n",
            "2014-03-24 2014-03-24  2.0          86.0            NaN                NaN\n",
            "2014-03-23        NaT  NaN           NaN            NaN                NaN\n",
            "2014-03-22 2014-03-22  0.0          49.0            NaN                NaN\n"
          ]
        }
      ]
    },
    {
      "cell_type": "code",
      "source": [
        "# 각 나라의 에볼라 발병일 옮기기\n",
        "last_valid = ebola.apply(pd.Series.last_valid_index)\n",
        "print(last_valid)"
      ],
      "metadata": {
        "colab": {
          "base_uri": "https://localhost:8080/"
        },
        "id": "MmbGnIzG-8BS",
        "outputId": "dcdaee5d-ed30-4338-88d6-a1abbdf564a0"
      },
      "execution_count": 77,
      "outputs": [
        {
          "output_type": "stream",
          "name": "stdout",
          "text": [
            "Date                  2014-03-22\n",
            "Day                   2014-03-22\n",
            "Cases_Guinea          2014-03-22\n",
            "Cases_Liberia         2014-03-27\n",
            "Cases_SierraLeone     2014-03-27\n",
            "Cases_Nigeria         2014-07-23\n",
            "Cases_Senegal         2014-08-31\n",
            "Cases_UnitedStates    2014-10-01\n",
            "Cases_Spain           2014-10-08\n",
            "Cases_Mali            2014-10-22\n",
            "Deaths_Guinea         2014-03-22\n",
            "Deaths_Liberia        2014-03-27\n",
            "Deaths_SierraLeone    2014-03-27\n",
            "Deaths_Nigeria        2014-07-23\n",
            "Deaths_Senegal        2014-09-07\n",
            "Deaths_UnitedStates   2014-10-01\n",
            "Deaths_Spain          2014-10-08\n",
            "Deaths_Mali           2014-10-22\n",
            "dtype: datetime64[ns]\n"
          ]
        }
      ]
    },
    {
      "cell_type": "code",
      "source": [
        "first_valid = ebola.apply(pd.Series.first_valid_index)\n",
        "print(first_valid)"
      ],
      "metadata": {
        "colab": {
          "base_uri": "https://localhost:8080/"
        },
        "id": "F6HZIfm9_NeD",
        "outputId": "8bbd19c2-b278-4a51-aa01-2c3e91dab2a1"
      },
      "execution_count": 78,
      "outputs": [
        {
          "output_type": "stream",
          "name": "stdout",
          "text": [
            "Date                  2015-01-05\n",
            "Day                   2015-01-05\n",
            "Cases_Guinea          2015-01-05\n",
            "Cases_Liberia         2015-01-03\n",
            "Cases_SierraLeone     2015-01-05\n",
            "Cases_Nigeria         2014-12-07\n",
            "Cases_Senegal         2014-12-07\n",
            "Cases_UnitedStates    2014-12-07\n",
            "Cases_Spain           2014-12-07\n",
            "Cases_Mali            2014-12-07\n",
            "Deaths_Guinea         2015-01-05\n",
            "Deaths_Liberia        2015-01-03\n",
            "Deaths_SierraLeone    2015-01-05\n",
            "Deaths_Nigeria        2014-12-07\n",
            "Deaths_Senegal        2014-12-07\n",
            "Deaths_UnitedStates   2014-12-07\n",
            "Deaths_Spain          2014-12-07\n",
            "Deaths_Mali           2014-12-07\n",
            "dtype: datetime64[ns]\n"
          ]
        }
      ]
    },
    {
      "cell_type": "code",
      "source": [
        "# 각 나라의 에볼라 발병일을 동일한 출발선으로 옮기려면 에볼라가 가장 처음 발병한 날에서 각 나라의 에볼라 발병일을 뺀 만큼 이동\n",
        "earliest_date = ebola.index.min()\n",
        "print(earliest_date)"
      ],
      "metadata": {
        "colab": {
          "base_uri": "https://localhost:8080/"
        },
        "id": "41GUka0A_TQU",
        "outputId": "c83a8c7c-4e50-4b2d-fd0a-7fa349ce5c17"
      },
      "execution_count": 79,
      "outputs": [
        {
          "output_type": "stream",
          "name": "stdout",
          "text": [
            "2014-03-22 00:00:00\n"
          ]
        }
      ]
    },
    {
      "cell_type": "code",
      "source": [
        "shift_values = last_valid - earliest_date\n",
        "print(shift_values)"
      ],
      "metadata": {
        "colab": {
          "base_uri": "https://localhost:8080/"
        },
        "id": "MpqmW8xdATHJ",
        "outputId": "d14fa65e-c019-48cf-aa01-b2553222e95c"
      },
      "execution_count": 80,
      "outputs": [
        {
          "output_type": "stream",
          "name": "stdout",
          "text": [
            "Date                    0 days\n",
            "Day                     0 days\n",
            "Cases_Guinea            0 days\n",
            "Cases_Liberia           5 days\n",
            "Cases_SierraLeone       5 days\n",
            "Cases_Nigeria         123 days\n",
            "Cases_Senegal         162 days\n",
            "Cases_UnitedStates    193 days\n",
            "Cases_Spain           200 days\n",
            "Cases_Mali            214 days\n",
            "Deaths_Guinea           0 days\n",
            "Deaths_Liberia          5 days\n",
            "Deaths_SierraLeone      5 days\n",
            "Deaths_Nigeria        123 days\n",
            "Deaths_Senegal        169 days\n",
            "Deaths_UnitedStates   193 days\n",
            "Deaths_Spain          200 days\n",
            "Deaths_Mali           214 days\n",
            "dtype: timedelta64[ns]\n"
          ]
        }
      ]
    },
    {
      "cell_type": "code",
      "source": [
        "# shift 메서드: 인잣값만큼 데이터를 밀어내는 메서드\n",
        "ebola_dict={}\n",
        "for idx, col in enumerate(ebola):\n",
        "  d = shift_values[idx].days\n",
        "  shifted = ebola[col].shift(d)\n",
        "  ebola_dict[col] = shifted"
      ],
      "metadata": {
        "id": "INKBDHCzAZ0o"
      },
      "execution_count": 81,
      "outputs": []
    },
    {
      "cell_type": "code",
      "source": [
        "# ebola_dict에 시간을 다시 설정한 데이터가 딕셔너리 형태로 저장됨.\n",
        "# DataFrame 메서드를 사용해 ebola_dict 값을 데이터 프레임으로 변환\n",
        "ebola_shift = pd.DataFrame(ebola_dict)"
      ],
      "metadata": {
        "id": "_G_J1tVMAuwF"
      },
      "execution_count": 82,
      "outputs": []
    },
    {
      "cell_type": "code",
      "source": [
        "print(ebola_shift.tail())"
      ],
      "metadata": {
        "colab": {
          "base_uri": "https://localhost:8080/"
        },
        "id": "8Zoq_-hqA-FM",
        "outputId": "1546c422-430e-4707-f9c2-9ead286d8156"
      },
      "execution_count": 83,
      "outputs": [
        {
          "output_type": "stream",
          "name": "stdout",
          "text": [
            "                 Date  Day  Cases_Guinea  Cases_Liberia  Cases_SierraLeone  \\\n",
            "Date                                                                         \n",
            "2014-03-26 2014-03-26  4.0          86.0            8.0                2.0   \n",
            "2014-03-25 2014-03-25  3.0          86.0            NaN                NaN   \n",
            "2014-03-24 2014-03-24  2.0          86.0            7.0                NaN   \n",
            "2014-03-23        NaT  NaN           NaN            3.0                2.0   \n",
            "2014-03-22 2014-03-22  0.0          49.0            8.0                6.0   \n",
            "\n",
            "            Cases_Nigeria  Cases_Senegal  Cases_UnitedStates  Cases_Spain  \\\n",
            "Date                                                                        \n",
            "2014-03-26            1.0            NaN                 1.0          1.0   \n",
            "2014-03-25            NaN            NaN                 NaN          NaN   \n",
            "2014-03-24            NaN            NaN                 NaN          NaN   \n",
            "2014-03-23            NaN            NaN                 NaN          NaN   \n",
            "2014-03-22            0.0            1.0                 1.0          1.0   \n",
            "\n",
            "            Cases_Mali  Deaths_Guinea  Deaths_Liberia  Deaths_SierraLeone  \\\n",
            "Date                                                                        \n",
            "2014-03-26         NaN           62.0             4.0                 2.0   \n",
            "2014-03-25         NaN           60.0             NaN                 NaN   \n",
            "2014-03-24         NaN           59.0             2.0                 NaN   \n",
            "2014-03-23         NaN            NaN             3.0                 2.0   \n",
            "2014-03-22         1.0           29.0             6.0                 5.0   \n",
            "\n",
            "            Deaths_Nigeria  Deaths_Senegal  Deaths_UnitedStates  Deaths_Spain  \\\n",
            "Date                                                                            \n",
            "2014-03-26             1.0             NaN                  0.0           1.0   \n",
            "2014-03-25             NaN             NaN                  NaN           NaN   \n",
            "2014-03-24             NaN             NaN                  NaN           NaN   \n",
            "2014-03-23             NaN             NaN                  NaN           NaN   \n",
            "2014-03-22             0.0             0.0                  0.0           1.0   \n",
            "\n",
            "            Deaths_Mali  \n",
            "Date                     \n",
            "2014-03-26          NaN  \n",
            "2014-03-25          NaN  \n",
            "2014-03-24          NaN  \n",
            "2014-03-23          NaN  \n",
            "2014-03-22          1.0  \n"
          ]
        }
      ]
    },
    {
      "cell_type": "code",
      "source": [
        "# 인덱스를 Day 열로 지정하고 Date Day 열은 삭제\n",
        "ebola_shift.index = ebola_shift['Day']\n",
        "ebola_shift = ebola_shift.drop(['Date','Day'], axis=1)"
      ],
      "metadata": {
        "id": "KgHVFo6aBBeu"
      },
      "execution_count": 84,
      "outputs": []
    },
    {
      "cell_type": "code",
      "source": [
        "print(ebola_shift.tail())"
      ],
      "metadata": {
        "colab": {
          "base_uri": "https://localhost:8080/"
        },
        "id": "igN4QCn4Blce",
        "outputId": "e5956adf-6331-4f18-a9a5-0c13804673ad"
      },
      "execution_count": 85,
      "outputs": [
        {
          "output_type": "stream",
          "name": "stdout",
          "text": [
            "     Cases_Guinea  Cases_Liberia  Cases_SierraLeone  Cases_Nigeria  \\\n",
            "Day                                                                  \n",
            "4.0          86.0            8.0                2.0            1.0   \n",
            "3.0          86.0            NaN                NaN            NaN   \n",
            "2.0          86.0            7.0                NaN            NaN   \n",
            "NaN           NaN            3.0                2.0            NaN   \n",
            "0.0          49.0            8.0                6.0            0.0   \n",
            "\n",
            "     Cases_Senegal  Cases_UnitedStates  Cases_Spain  Cases_Mali  \\\n",
            "Day                                                               \n",
            "4.0            NaN                 1.0          1.0         NaN   \n",
            "3.0            NaN                 NaN          NaN         NaN   \n",
            "2.0            NaN                 NaN          NaN         NaN   \n",
            "NaN            NaN                 NaN          NaN         NaN   \n",
            "0.0            1.0                 1.0          1.0         1.0   \n",
            "\n",
            "     Deaths_Guinea  Deaths_Liberia  Deaths_SierraLeone  Deaths_Nigeria  \\\n",
            "Day                                                                      \n",
            "4.0           62.0             4.0                 2.0             1.0   \n",
            "3.0           60.0             NaN                 NaN             NaN   \n",
            "2.0           59.0             2.0                 NaN             NaN   \n",
            "NaN            NaN             3.0                 2.0             NaN   \n",
            "0.0           29.0             6.0                 5.0             0.0   \n",
            "\n",
            "     Deaths_Senegal  Deaths_UnitedStates  Deaths_Spain  Deaths_Mali  \n",
            "Day                                                                  \n",
            "4.0             NaN                  0.0           1.0          NaN  \n",
            "3.0             NaN                  NaN           NaN          NaN  \n",
            "2.0             NaN                  NaN           NaN          NaN  \n",
            "NaN             NaN                  NaN           NaN          NaN  \n",
            "0.0             0.0                  0.0           1.0          1.0  \n"
          ]
        }
      ]
    },
    {
      "cell_type": "code",
      "source": [
        "fig,ax = plt.subplots()\n",
        "ax = ebola_shift.iloc[:,:].plot(ax=ax)\n",
        "ax.legend(fontsize=7, loc=2, borderaxespad=0.)\n",
        "plt.show()"
      ],
      "metadata": {
        "colab": {
          "base_uri": "https://localhost:8080/",
          "height": 449
        },
        "id": "OgJ7QChXBn3g",
        "outputId": "f4bf356b-e68a-4053-ac57-2f36f5634b61"
      },
      "execution_count": 86,
      "outputs": [
        {
          "output_type": "display_data",
          "data": {
            "text/plain": [
              "<Figure size 640x480 with 1 Axes>"
            ],
            "image/png": "[encoded data removed]"
          },
          "metadata": {}
        }
      ]
    },
    {
      "cell_type": "code",
      "source": [],
      "metadata": {
        "id": "L7BwZ9GcB0bg"
      },
      "execution_count": null,
      "outputs": []
    }
  ]
}