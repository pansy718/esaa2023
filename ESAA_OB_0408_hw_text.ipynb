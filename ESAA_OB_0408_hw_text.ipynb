{
  "nbformat": 4,
  "nbformat_minor": 0,
  "metadata": {
    "colab": {
      "provenance": []
    },
    "kernelspec": {
      "name": "python3",
      "display_name": "Python 3"
    },
    "language_info": {
      "name": "python"
    }
  },
  "cells": [
    {
      "cell_type": "markdown",
      "source": [
        "## 8-6. 토픽 모델링(Topic Modeling) - 20 뉴스 그룹\n",
        "문서 집합에 숨어 있는 주제 찾아내는 것. 중심 단어를 함축적으로 추출. LDS, LDA 기법."
      ],
      "metadata": {
        "id": "DL-YcLWpX0uG"
      }
    },
    {
      "cell_type": "code",
      "source": [
        "from sklearn.datasets import fetch_20newsgroups\n",
        "from sklearn.feature_extraction.text import CountVectorizer\n",
        "from sklearn.decomposition import LatentDirichletAllocation\n",
        "\n",
        "# 모토사이클, 야구 그래픽스 윈도우즈 등 8개 주제 추출\n",
        "cats = ['rec.motorcycles','rec.sport.baseball','comp.graphics','comp.windows.x','talk.politics.mideast','soc.religion.christian','sci.electronics','sci.med']\n",
        "\n",
        "# 위에서 cats 변수로 기재된 카테고리만 추출. fetch_20newsgroups()의 categories에 cats 입력\n",
        "news_df = fetch_20newsgroups(subset='all', remove=('headers','footers','quotes'), categories = cats, random_state=0)\n",
        "\n",
        "# LDA는 count 기반 벡터화만 적용\n",
        "count_vect = CountVectorizer(max_df = 0.95, max_features=1000, min_df = 2, stop_words='english', ngram_range=(1,2))\n",
        "feat_vect = count_vect.fit_transform(news_df.data)\n",
        "print('CountVectorizer Shape:', feat_vect.shape)"
      ],
      "metadata": {
        "colab": {
          "base_uri": "https://localhost:8080/"
        },
        "id": "Z2hTSihuYcYv",
        "outputId": "f5d3c2b4-851e-4d88-895c-69e75e922a0c"
      },
      "execution_count": 1,
      "outputs": [
        {
          "output_type": "stream",
          "name": "stdout",
          "text": [
            "CountVectorizer Shape: (7862, 1000)\n"
          ]
        }
      ]
    },
    {
      "cell_type": "code",
      "source": [
        "lda = LatentDirichletAllocation(n_components=8, random_state=0)\n",
        "lda.fit(feat_vect)"
      ],
      "metadata": {
        "colab": {
          "base_uri": "https://localhost:8080/",
          "height": 74
        },
        "id": "jZPJQ0KtaF-z",
        "outputId": "5ddd16a8-2cbd-40d7-d23b-91fd2d96e217"
      },
      "execution_count": 2,
      "outputs": [
        {
          "output_type": "execute_result",
          "data": {
            "text/plain": [
              "LatentDirichletAllocation(n_components=8, random_state=0)"
            ],
            "text/html": [
              "<style>#sk-container-id-1 {color: black;background-color: white;}#sk-container-id-1 pre{padding: 0;}#sk-container-id-1 div.sk-toggleable {background-color: white;}#sk-container-id-1 label.sk-toggleable__label {cursor: pointer;display: block;width: 100%;margin-bottom: 0;padding: 0.3em;box-sizing: border-box;text-align: center;}#sk-container-id-1 label.sk-toggleable__label-arrow:before {content: \"▸\";float: left;margin-right: 0.25em;color: #696969;}#sk-container-id-1 label.sk-toggleable__label-arrow:hover:before {color: black;}#sk-container-id-1 div.sk-estimator:hover label.sk-toggleable__label-arrow:before {color: black;}#sk-container-id-1 div.sk-toggleable__content {max-height: 0;max-width: 0;overflow: hidden;text-align: left;background-color: #f0f8ff;}#sk-container-id-1 div.sk-toggleable__content pre {margin: 0.2em;color: black;border-radius: 0.25em;background-color: #f0f8ff;}#sk-container-id-1 input.sk-toggleable__control:checked~div.sk-toggleable__content {max-height: 200px;max-width: 100%;overflow: auto;}#sk-container-id-1 input.sk-toggleable__control:checked~label.sk-toggleable__label-arrow:before {content: \"▾\";}#sk-container-id-1 div.sk-estimator input.sk-toggleable__control:checked~label.sk-toggleable__label {background-color: #d4ebff;}#sk-container-id-1 div.sk-label input.sk-toggleable__control:checked~label.sk-toggleable__label {background-color: #d4ebff;}#sk-container-id-1 input.sk-hidden--visually {border: 0;clip: rect(1px 1px 1px 1px);clip: rect(1px, 1px, 1px, 1px);height: 1px;margin: -1px;overflow: hidden;padding: 0;position: absolute;width: 1px;}#sk-container-id-1 div.sk-estimator {font-family: monospace;background-color: #f0f8ff;border: 1px dotted black;border-radius: 0.25em;box-sizing: border-box;margin-bottom: 0.5em;}#sk-container-id-1 div.sk-estimator:hover {background-color: #d4ebff;}#sk-container-id-1 div.sk-parallel-item::after {content: \"\";width: 100%;border-bottom: 1px solid gray;flex-grow: 1;}#sk-container-id-1 div.sk-label:hover label.sk-toggleable__label {background-color: #d4ebff;}#sk-container-id-1 div.sk-serial::before {content: \"\";position: absolute;border-left: 1px solid gray;box-sizing: border-box;top: 0;bottom: 0;left: 50%;z-index: 0;}#sk-container-id-1 div.sk-serial {display: flex;flex-direction: column;align-items: center;background-color: white;padding-right: 0.2em;padding-left: 0.2em;position: relative;}#sk-container-id-1 div.sk-item {position: relative;z-index: 1;}#sk-container-id-1 div.sk-parallel {display: flex;align-items: stretch;justify-content: center;background-color: white;position: relative;}#sk-container-id-1 div.sk-item::before, #sk-container-id-1 div.sk-parallel-item::before {content: \"\";position: absolute;border-left: 1px solid gray;box-sizing: border-box;top: 0;bottom: 0;left: 50%;z-index: -1;}#sk-container-id-1 div.sk-parallel-item {display: flex;flex-direction: column;z-index: 1;position: relative;background-color: white;}#sk-container-id-1 div.sk-parallel-item:first-child::after {align-self: flex-end;width: 50%;}#sk-container-id-1 div.sk-parallel-item:last-child::after {align-self: flex-start;width: 50%;}#sk-container-id-1 div.sk-parallel-item:only-child::after {width: 0;}#sk-container-id-1 div.sk-dashed-wrapped {border: 1px dashed gray;margin: 0 0.4em 0.5em 0.4em;box-sizing: border-box;padding-bottom: 0.4em;background-color: white;}#sk-container-id-1 div.sk-label label {font-family: monospace;font-weight: bold;display: inline-block;line-height: 1.2em;}#sk-container-id-1 div.sk-label-container {text-align: center;}#sk-container-id-1 div.sk-container {/* jupyter's `normalize.less` sets `[hidden] { display: none; }` but bootstrap.min.css set `[hidden] { display: none !important; }` so we also need the `!important` here to be able to override the default hidden behavior on the sphinx rendered scikit-learn.org. See: https://github.com/scikit-learn/scikit-learn/issues/21755 */display: inline-block !important;position: relative;}#sk-container-id-1 div.sk-text-repr-fallback {display: none;}</style><div id=\"sk-container-id-1\" class=\"sk-top-container\"><div class=\"sk-text-repr-fallback\"><pre>LatentDirichletAllocation(n_components=8, random_state=0)</pre><b>In a Jupyter environment, please rerun this cell to show the HTML representation or trust the notebook. <br />On GitHub, the HTML representation is unable to render, please try loading this page with nbviewer.org.</b></div><div class=\"sk-container\" hidden><div class=\"sk-item\"><div class=\"sk-estimator sk-toggleable\"><input class=\"sk-toggleable__control sk-hidden--visually\" id=\"sk-estimator-id-1\" type=\"checkbox\" checked><label for=\"sk-estimator-id-1\" class=\"sk-toggleable__label sk-toggleable__label-arrow\">LatentDirichletAllocation</label><div class=\"sk-toggleable__content\"><pre>LatentDirichletAllocation(n_components=8, random_state=0)</pre></div></div></div></div></div>"
            ]
          },
          "metadata": {},
          "execution_count": 2
        }
      ]
    },
    {
      "cell_type": "code",
      "source": [
        "print(lda.components_.shape)\n",
        "lda.components_"
      ],
      "metadata": {
        "colab": {
          "base_uri": "https://localhost:8080/"
        },
        "id": "HocGpG8qaaTX",
        "outputId": "716a4494-5312-4f86-c4c2-87fbebd2c837"
      },
      "execution_count": 3,
      "outputs": [
        {
          "output_type": "stream",
          "name": "stdout",
          "text": [
            "(8, 1000)\n"
          ]
        },
        {
          "output_type": "execute_result",
          "data": {
            "text/plain": [
              "array([[3.60992018e+01, 1.35626798e+02, 2.15751867e+01, ...,\n",
              "        3.02911688e+01, 8.66830093e+01, 6.79285199e+01],\n",
              "       [1.25199920e-01, 1.44401815e+01, 1.25045596e-01, ...,\n",
              "        1.81506995e+02, 1.25097844e-01, 9.39593286e+01],\n",
              "       [3.34762663e+02, 1.25176265e-01, 1.46743299e+02, ...,\n",
              "        1.25105772e-01, 3.63689741e+01, 1.25025218e-01],\n",
              "       ...,\n",
              "       [3.60204965e+01, 2.08640688e+01, 4.29606813e+00, ...,\n",
              "        1.45056650e+01, 8.33854413e+00, 1.55690009e+01],\n",
              "       [1.25128711e-01, 1.25247756e-01, 1.25005143e-01, ...,\n",
              "        9.17278769e+01, 1.25177668e-01, 3.74575887e+01],\n",
              "       [5.49258690e+01, 4.47009532e+00, 9.88524814e+00, ...,\n",
              "        4.87048440e+01, 1.25034678e-01, 1.25074632e-01]])"
            ]
          },
          "metadata": {},
          "execution_count": 3
        }
      ]
    },
    {
      "cell_type": "code",
      "source": [
        "def display_topics(model, feature_names, no_top_words):\n",
        "  for topic_index, topic in enumerate(model.components_):\n",
        "    print('Topic #', topic_index)\n",
        "\n",
        "    # components_ array 에서 가장 큰 순으로 정렬했을 때 그 값의 array 인덱스를 반환\n",
        "    topic_word_indexes = topic.argsort()[::-1]\n",
        "    top_indexes = topic_word_indexes[:no_top_words]\n",
        "\n",
        "    # top_indexes 대상인 인덱스별로 feature_names에 해당하는 word feature 추출 후 join으로 concat\n",
        "    feature_concat= ' '.join([feature_names[i] for i in top_indexes])\n",
        "    print(feature_concat)\n",
        "\n",
        "# CountVectorizer 객체 내의 전체 word의 명칭을 get_features_names()를 통해 추출\n",
        "feature_names = count_vect.get_feature_names_out()\n",
        "\n",
        "# 토픽별 가장 연관도가 높은 word를 15개만 추출\n",
        "display_topics(lda, feature_names,15)"
      ],
      "metadata": {
        "colab": {
          "base_uri": "https://localhost:8080/"
        },
        "id": "26AKlG2iakZf",
        "outputId": "0d00b3ea-04f6-4be9-de2b-95294c677ff7"
      },
      "execution_count": 4,
      "outputs": [
        {
          "output_type": "stream",
          "name": "stdout",
          "text": [
            "Topic # 0\n",
            "year 10 game medical health team 12 20 disease cancer 1993 games years patients good\n",
            "Topic # 1\n",
            "don just like know people said think time ve didn right going say ll way\n",
            "Topic # 2\n",
            "image file jpeg program gif images output format files color entry 00 use bit 03\n",
            "Topic # 3\n",
            "like know don think use does just good time book read information people used post\n",
            "Topic # 4\n",
            "armenian israel armenians jews turkish people israeli jewish government war dos dos turkey arab armenia 000\n",
            "Topic # 5\n",
            "edu com available graphics ftp data pub motif mail widget software mit information version sun\n",
            "Topic # 6\n",
            "god people jesus church believe christ does christian say think christians bible faith sin life\n",
            "Topic # 7\n",
            "use dos thanks windows using window does display help like problem server need know run\n"
          ]
        }
      ]
    },
    {
      "cell_type": "markdown",
      "source": [
        "## 8-8. 문서 유사도"
      ],
      "metadata": {
        "id": "egCfGyERd0v_"
      }
    },
    {
      "cell_type": "markdown",
      "source": [
        "### 문서 유사도 측정 방법 - 코사인 유사도\n",
        "벡터의 상호 방향성 유사한지에 기반함."
      ],
      "metadata": {
        "id": "coNelCOGfFIr"
      }
    },
    {
      "cell_type": "code",
      "source": [
        "import numpy as np\n",
        "\n",
        "def cos_similarity(v1,v2):\n",
        "  dot_product = np.dot(v1, v2)\n",
        "  l2_norm = (np.sqrt(sum(np.square(v1)))* np.sqrt(sum(np.square(v2))))\n",
        "  similarity = dot_product /l2_norm\n",
        "  return similarity"
      ],
      "metadata": {
        "id": "5efe8XwhiPnJ"
      },
      "execution_count": 5,
      "outputs": []
    },
    {
      "cell_type": "code",
      "source": [
        "from sklearn.feature_extraction.text import TfidfVectorizer\n",
        "\n",
        "doc_list = ['if you take the blue pill, the story ends',\n",
        "            'if you take the red pill, you stay in wonderland',\n",
        "            'if you take the red pill, I show you how deep the rabbit hole goes']\n",
        "\n",
        "tfidf_vect_simple = TfidfVectorizer()\n",
        "feature_vect_simple = tfidf_vect_simple.fit_transform(doc_list)\n",
        "print(feature_vect_simple.shape)"
      ],
      "metadata": {
        "colab": {
          "base_uri": "https://localhost:8080/"
        },
        "id": "DTEVyk00k31m",
        "outputId": "879a0f08-4509-4c67-9288-fc55f17a681c"
      },
      "execution_count": 6,
      "outputs": [
        {
          "output_type": "stream",
          "name": "stdout",
          "text": [
            "(3, 18)\n"
          ]
        }
      ]
    },
    {
      "cell_type": "code",
      "source": [
        "# TfidfVectorizer로 transform()한 결과는 희소 행렬이므로 밀집 행렬로 변환\n",
        "feature_vect_dense = feature_vect_simple.todense()\n",
        "\n",
        "# 첫 번째 문장과 두 번째 문장의 피처 벡터 추출\n",
        "vect1 = np.array(feature_vect_dense[0]).reshape(-1, )\n",
        "vect2 = np.array(feature_vect_dense[1]).reshape(-1, )\n",
        "\n",
        "# 첫 번째 문장과 두 번쨰 문장의 피처 벡터로 두 개 문장의 코사인 유사도 추출\n",
        "similarity_simple = cos_similarity(vect1, vect2)\n",
        "print('문장 1, 문장 2 Cosine 유사도: {0:.3f}'.format(similarity_simple))"
      ],
      "metadata": {
        "colab": {
          "base_uri": "https://localhost:8080/"
        },
        "id": "l98f-sMWns9e",
        "outputId": "4ecc5dae-000f-42e6-d813-da2aa0b26c0b"
      },
      "execution_count": 7,
      "outputs": [
        {
          "output_type": "stream",
          "name": "stdout",
          "text": [
            "문장 1, 문장 2 Cosine 유사도: 0.402\n"
          ]
        }
      ]
    },
    {
      "cell_type": "code",
      "source": [
        "vect1 = np.array(feature_vect_dense[0]).reshape(-1, )\n",
        "vect3 = np.array(feature_vect_dense[2]).reshape(-1, )\n",
        "similarity_simple = cos_similarity(vect1, vect3)\n",
        "print('문장 1, 문장 3 Cosine 유사도 : {0:3f}'.format(similarity_simple))\n",
        "\n",
        "vect2 = np.array(feature_vect_dense[1]).reshape(-1, )\n",
        "vect3 = np.array(feature_vect_dense[2]).reshape(-1, )\n",
        "similarity_simple = cos_similarity(vect2, vect3)\n",
        "print('문장 2, 문장 3 Cosine 유사도 : {0:3f}'.format(similarity_simple))"
      ],
      "metadata": {
        "colab": {
          "base_uri": "https://localhost:8080/"
        },
        "id": "fbP3A19ypx4V",
        "outputId": "6351bc4e-1f92-4707-c3b9-0f3d574f358e"
      },
      "execution_count": 8,
      "outputs": [
        {
          "output_type": "stream",
          "name": "stdout",
          "text": [
            "문장 1, 문장 3 Cosine 유사도 : 0.404250\n",
            "문장 2, 문장 3 Cosine 유사도 : 0.456473\n"
          ]
        }
      ]
    },
    {
      "cell_type": "code",
      "source": [
        "from sklearn.metrics.pairwise import cosine_similarity\n",
        "\n",
        "similarity_simple_pair = cosine_similarity(feature_vect_simple[0], feature_vect_simple)\n",
        "print(similarity_simple_pair)"
      ],
      "metadata": {
        "colab": {
          "base_uri": "https://localhost:8080/"
        },
        "id": "mknyB-qPstJd",
        "outputId": "6b116599-b262-426d-e358-555a25b1a679"
      },
      "execution_count": 9,
      "outputs": [
        {
          "output_type": "stream",
          "name": "stdout",
          "text": [
            "[[1.         0.40207758 0.40425045]]\n"
          ]
        }
      ]
    },
    {
      "cell_type": "code",
      "source": [
        "from sklearn.metrics.pairwise import cosine_similarity\n",
        "\n",
        "similarity_simple_pair = cosine_similarity(feature_vect_simple[0], feature_vect_simple[1:])\n",
        "print(similarity_simple_pair)"
      ],
      "metadata": {
        "colab": {
          "base_uri": "https://localhost:8080/"
        },
        "id": "VPytk6y_sxYh",
        "outputId": "edba5086-2ae8-478d-ad19-e41b39946043"
      },
      "execution_count": 10,
      "outputs": [
        {
          "output_type": "stream",
          "name": "stdout",
          "text": [
            "[[0.40207758 0.40425045]]\n"
          ]
        }
      ]
    },
    {
      "cell_type": "code",
      "source": [
        "similarity_simple_pair = cosine_similarity(feature_vect_simple, feature_vect_simple)\n",
        "print(similarity_simple_pair)\n",
        "print('shape:', similarity_simple_pair.shape)"
      ],
      "metadata": {
        "colab": {
          "base_uri": "https://localhost:8080/"
        },
        "id": "wvilEgy9s116",
        "outputId": "c89191b7-0314-49a8-ba60-a7dec3537cd4"
      },
      "execution_count": 11,
      "outputs": [
        {
          "output_type": "stream",
          "name": "stdout",
          "text": [
            "[[1.         0.40207758 0.40425045]\n",
            " [0.40207758 1.         0.45647296]\n",
            " [0.40425045 0.45647296 1.        ]]\n",
            "shape: (3, 3)\n"
          ]
        }
      ]
    },
    {
      "cell_type": "markdown",
      "source": [
        "### Opinion Review 데이터 세트를 이용한 문서 유사도 측정"
      ],
      "metadata": {
        "id": "Bs-11JjIs5TD"
      }
    },
    {
      "cell_type": "code",
      "source": [
        "import pandas as pd\n",
        "import glob, os\n",
        "from sklearn.feature_extraction.text import TfidfVectorizer\n",
        "from sklearn.cluster import KMeans\n",
        "from google.colab import drive\n",
        "drive.mount('/content/drive')\n",
        "\n",
        "path =r\"/content/drive/MyDrive/ESAA/topics\"\n",
        "all_files = glob.glob(os.path.join(path,'*.data'))\n",
        "filename_list = []\n",
        "opinion_text = []\n",
        "\n",
        "for file_ in all_files:\n",
        "  df = pd.read_table(file_, index_col = None, header=0, encoding='latin1')\n",
        "  filename_ = file_.split('/')[-1]\n",
        "  filename = filename_.split('.')[0]\n",
        "  filename_list.append(filename)\n",
        "  opinion_text.append(df.to_string())\n",
        "\n",
        "document_df = pd.DataFrame({'filename': filename_list, 'opinion_text':opinion_text})"
      ],
      "metadata": {
        "colab": {
          "base_uri": "https://localhost:8080/"
        },
        "id": "3XEnwhJdtBTA",
        "outputId": "7f031038-32f6-4ac2-b6c6-bee215202695"
      },
      "execution_count": 55,
      "outputs": [
        {
          "output_type": "stream",
          "name": "stdout",
          "text": [
            "Drive already mounted at /content/drive; to attempt to forcibly remount, call drive.mount(\"/content/drive\", force_remount=True).\n"
          ]
        }
      ]
    },
    {
      "cell_type": "code",
      "source": [
        "document_df"
      ],
      "metadata": {
        "colab": {
          "base_uri": "https://localhost:8080/",
          "height": 1000
        },
        "id": "JnQrr-QV5SId",
        "outputId": "f3c89aa5-a6de-42a2-bc03-3d1487e0530c"
      },
      "execution_count": 56,
      "outputs": [
        {
          "output_type": "execute_result",
          "data": {
            "text/plain": [
              "                           filename  \\\n",
              "0     accuracy_garmin_nuvi_255W_gps   \n",
              "1      display_garmin_nuvi_255W_gps   \n",
              "2                 features_windows7   \n",
              "3               fonts_amazon_kindle   \n",
              "4         comfort_toyota_camry_2007   \n",
              "5     gas_mileage_toyota_camry_2007   \n",
              "6    bathroom_bestwestern_hotel_sfo   \n",
              "7        battery-life_amazon_kindle   \n",
              "8        free_bestwestern_hotel_sfo   \n",
              "9             buttons_amazon_kindle   \n",
              "10  directions_garmin_nuvi_255W_gps   \n",
              "11      battery-life_netbook_1005ha   \n",
              "12       battery-life_ipod_nano_8gb   \n",
              "13           food_swissotel_chicago   \n",
              "14        comfort_honda_accord_2008   \n",
              "15       interior_honda_accord_2008   \n",
              "16          food_holiday_inn_london   \n",
              "17    eyesight-issues_amazon_kindle   \n",
              "18       service_holiday_inn_london   \n",
              "19      rooms_bestwestern_hotel_sfo   \n",
              "20          room_holiday_inn_london   \n",
              "21              price_amazon_kindle   \n",
              "22    service_bestwestern_hotel_sfo   \n",
              "23        quality_toyota_camry_2007   \n",
              "24   satellite_garmin_nuvi_255W_gps   \n",
              "25        mileage_honda_accord_2008   \n",
              "26      screen_garmin_nuvi_255W_gps   \n",
              "27   location_bestwestern_hotel_sfo   \n",
              "28          rooms_swissotel_chicago   \n",
              "29      location_holiday_inn_london   \n",
              "30       interior_toyota_camry_2007   \n",
              "31             screen_ipod_nano_8gb   \n",
              "32         size_asus_netbook_1005ha   \n",
              "33          seats_honda_accord_2008   \n",
              "34  service_swissotel_hotel_chicago   \n",
              "35          keyboard_netbook_1005ha   \n",
              "36    parking_bestwestern_hotel_sfo   \n",
              "37         navigation_amazon_kindle   \n",
              "38    performance_honda_accord_2008   \n",
              "39         price_holiday_inn_london   \n",
              "40            screen_netbook_1005ha   \n",
              "41       performance_netbook_1005ha   \n",
              "42          staff_swissotel_chicago   \n",
              "43              video_ipod_nano_8gb   \n",
              "44                   speed_windows7   \n",
              "45              sound_ipod_nano_8gb   \n",
              "46       voice_garmin_nuvi_255W_gps   \n",
              "47      staff_bestwestern_hotel_sfo   \n",
              "48       speed_garmin_nuvi_255W_gps   \n",
              "49     updates_garmin_nuvi_255W_gps   \n",
              "50   transmission_toyota_camry_2007   \n",
              "\n",
              "                                         opinion_text  \n",
              "0                                                 ...  \n",
              "1                                                 ...  \n",
              "2                                                 ...  \n",
              "3                                                 ...  \n",
              "4                                                 ...  \n",
              "5                                                 ...  \n",
              "6                                                 ...  \n",
              "7                                                 ...  \n",
              "8                                                 ...  \n",
              "9                                                 ...  \n",
              "10                                                ...  \n",
              "11                                                ...  \n",
              "12                                                ...  \n",
              "13                                                ...  \n",
              "14                                                ...  \n",
              "15                                                ...  \n",
              "16                                                ...  \n",
              "17                                                ...  \n",
              "18                                                ...  \n",
              "19                                                ...  \n",
              "20                                                ...  \n",
              "21                                                ...  \n",
              "22                                                ...  \n",
              "23                                                ...  \n",
              "24                                                ...  \n",
              "25                                                ...  \n",
              "26                                                ...  \n",
              "27                                                ...  \n",
              "28                                                ...  \n",
              "29                                                ...  \n",
              "30                                                ...  \n",
              "31                                                ...  \n",
              "32                                                ...  \n",
              "33                                                ...  \n",
              "34                                                ...  \n",
              "35                                                ...  \n",
              "36                                                ...  \n",
              "37                                                ...  \n",
              "38                                                ...  \n",
              "39                                                ...  \n",
              "40                                                ...  \n",
              "41                                                ...  \n",
              "42                                                ...  \n",
              "43                                                ...  \n",
              "44                                                ...  \n",
              "45      headphone jack i got a clear case for it a...  \n",
              "46                                                ...  \n",
              "47                                                ...  \n",
              "48                                                ...  \n",
              "49                                                ...  \n",
              "50                                                ...  "
            ],
            "text/html": [
              "\n",
              "  <div id=\"df-161759ee-7f36-46cd-947b-0d3a2b6a2d99\" class=\"colab-df-container\">\n",
              "    <div>\n",
              "<style scoped>\n",
              "    .dataframe tbody tr th:only-of-type {\n",
              "        vertical-align: middle;\n",
              "    }\n",
              "\n",
              "    .dataframe tbody tr th {\n",
              "        vertical-align: top;\n",
              "    }\n",
              "\n",
              "    .dataframe thead th {\n",
              "        text-align: right;\n",
              "    }\n",
              "</style>\n",
              "<table border=\"1\" class=\"dataframe\">\n",
              "  <thead>\n",
              "    <tr style=\"text-align: right;\">\n",
              "      <th></th>\n",
              "      <th>filename</th>\n",
              "      <th>opinion_text</th>\n",
              "    </tr>\n",
              "  </thead>\n",
              "  <tbody>\n",
              "    <tr>\n",
              "      <th>0</th>\n",
              "      <td>accuracy_garmin_nuvi_255W_gps</td>\n",
              "      <td>...</td>\n",
              "    </tr>\n",
              "    <tr>\n",
              "      <th>1</th>\n",
              "      <td>display_garmin_nuvi_255W_gps</td>\n",
              "      <td>...</td>\n",
              "    </tr>\n",
              "    <tr>\n",
              "      <th>2</th>\n",
              "      <td>features_windows7</td>\n",
              "      <td>...</td>\n",
              "    </tr>\n",
              "    <tr>\n",
              "      <th>3</th>\n",
              "      <td>fonts_amazon_kindle</td>\n",
              "      <td>...</td>\n",
              "    </tr>\n",
              "    <tr>\n",
              "      <th>4</th>\n",
              "      <td>comfort_toyota_camry_2007</td>\n",
              "      <td>...</td>\n",
              "    </tr>\n",
              "    <tr>\n",
              "      <th>5</th>\n",
              "      <td>gas_mileage_toyota_camry_2007</td>\n",
              "      <td>...</td>\n",
              "    </tr>\n",
              "    <tr>\n",
              "      <th>6</th>\n",
              "      <td>bathroom_bestwestern_hotel_sfo</td>\n",
              "      <td>...</td>\n",
              "    </tr>\n",
              "    <tr>\n",
              "      <th>7</th>\n",
              "      <td>battery-life_amazon_kindle</td>\n",
              "      <td>...</td>\n",
              "    </tr>\n",
              "    <tr>\n",
              "      <th>8</th>\n",
              "      <td>free_bestwestern_hotel_sfo</td>\n",
              "      <td>...</td>\n",
              "    </tr>\n",
              "    <tr>\n",
              "      <th>9</th>\n",
              "      <td>buttons_amazon_kindle</td>\n",
              "      <td>...</td>\n",
              "    </tr>\n",
              "    <tr>\n",
              "      <th>10</th>\n",
              "      <td>directions_garmin_nuvi_255W_gps</td>\n",
              "      <td>...</td>\n",
              "    </tr>\n",
              "    <tr>\n",
              "      <th>11</th>\n",
              "      <td>battery-life_netbook_1005ha</td>\n",
              "      <td>...</td>\n",
              "    </tr>\n",
              "    <tr>\n",
              "      <th>12</th>\n",
              "      <td>battery-life_ipod_nano_8gb</td>\n",
              "      <td>...</td>\n",
              "    </tr>\n",
              "    <tr>\n",
              "      <th>13</th>\n",
              "      <td>food_swissotel_chicago</td>\n",
              "      <td>...</td>\n",
              "    </tr>\n",
              "    <tr>\n",
              "      <th>14</th>\n",
              "      <td>comfort_honda_accord_2008</td>\n",
              "      <td>...</td>\n",
              "    </tr>\n",
              "    <tr>\n",
              "      <th>15</th>\n",
              "      <td>interior_honda_accord_2008</td>\n",
              "      <td>...</td>\n",
              "    </tr>\n",
              "    <tr>\n",
              "      <th>16</th>\n",
              "      <td>food_holiday_inn_london</td>\n",
              "      <td>...</td>\n",
              "    </tr>\n",
              "    <tr>\n",
              "      <th>17</th>\n",
              "      <td>eyesight-issues_amazon_kindle</td>\n",
              "      <td>...</td>\n",
              "    </tr>\n",
              "    <tr>\n",
              "      <th>18</th>\n",
              "      <td>service_holiday_inn_london</td>\n",
              "      <td>...</td>\n",
              "    </tr>\n",
              "    <tr>\n",
              "      <th>19</th>\n",
              "      <td>rooms_bestwestern_hotel_sfo</td>\n",
              "      <td>...</td>\n",
              "    </tr>\n",
              "    <tr>\n",
              "      <th>20</th>\n",
              "      <td>room_holiday_inn_london</td>\n",
              "      <td>...</td>\n",
              "    </tr>\n",
              "    <tr>\n",
              "      <th>21</th>\n",
              "      <td>price_amazon_kindle</td>\n",
              "      <td>...</td>\n",
              "    </tr>\n",
              "    <tr>\n",
              "      <th>22</th>\n",
              "      <td>service_bestwestern_hotel_sfo</td>\n",
              "      <td>...</td>\n",
              "    </tr>\n",
              "    <tr>\n",
              "      <th>23</th>\n",
              "      <td>quality_toyota_camry_2007</td>\n",
              "      <td>...</td>\n",
              "    </tr>\n",
              "    <tr>\n",
              "      <th>24</th>\n",
              "      <td>satellite_garmin_nuvi_255W_gps</td>\n",
              "      <td>...</td>\n",
              "    </tr>\n",
              "    <tr>\n",
              "      <th>25</th>\n",
              "      <td>mileage_honda_accord_2008</td>\n",
              "      <td>...</td>\n",
              "    </tr>\n",
              "    <tr>\n",
              "      <th>26</th>\n",
              "      <td>screen_garmin_nuvi_255W_gps</td>\n",
              "      <td>...</td>\n",
              "    </tr>\n",
              "    <tr>\n",
              "      <th>27</th>\n",
              "      <td>location_bestwestern_hotel_sfo</td>\n",
              "      <td>...</td>\n",
              "    </tr>\n",
              "    <tr>\n",
              "      <th>28</th>\n",
              "      <td>rooms_swissotel_chicago</td>\n",
              "      <td>...</td>\n",
              "    </tr>\n",
              "    <tr>\n",
              "      <th>29</th>\n",
              "      <td>location_holiday_inn_london</td>\n",
              "      <td>...</td>\n",
              "    </tr>\n",
              "    <tr>\n",
              "      <th>30</th>\n",
              "      <td>interior_toyota_camry_2007</td>\n",
              "      <td>...</td>\n",
              "    </tr>\n",
              "    <tr>\n",
              "      <th>31</th>\n",
              "      <td>screen_ipod_nano_8gb</td>\n",
              "      <td>...</td>\n",
              "    </tr>\n",
              "    <tr>\n",
              "      <th>32</th>\n",
              "      <td>size_asus_netbook_1005ha</td>\n",
              "      <td>...</td>\n",
              "    </tr>\n",
              "    <tr>\n",
              "      <th>33</th>\n",
              "      <td>seats_honda_accord_2008</td>\n",
              "      <td>...</td>\n",
              "    </tr>\n",
              "    <tr>\n",
              "      <th>34</th>\n",
              "      <td>service_swissotel_hotel_chicago</td>\n",
              "      <td>...</td>\n",
              "    </tr>\n",
              "    <tr>\n",
              "      <th>35</th>\n",
              "      <td>keyboard_netbook_1005ha</td>\n",
              "      <td>...</td>\n",
              "    </tr>\n",
              "    <tr>\n",
              "      <th>36</th>\n",
              "      <td>parking_bestwestern_hotel_sfo</td>\n",
              "      <td>...</td>\n",
              "    </tr>\n",
              "    <tr>\n",
              "      <th>37</th>\n",
              "      <td>navigation_amazon_kindle</td>\n",
              "      <td>...</td>\n",
              "    </tr>\n",
              "    <tr>\n",
              "      <th>38</th>\n",
              "      <td>performance_honda_accord_2008</td>\n",
              "      <td>...</td>\n",
              "    </tr>\n",
              "    <tr>\n",
              "      <th>39</th>\n",
              "      <td>price_holiday_inn_london</td>\n",
              "      <td>...</td>\n",
              "    </tr>\n",
              "    <tr>\n",
              "      <th>40</th>\n",
              "      <td>screen_netbook_1005ha</td>\n",
              "      <td>...</td>\n",
              "    </tr>\n",
              "    <tr>\n",
              "      <th>41</th>\n",
              "      <td>performance_netbook_1005ha</td>\n",
              "      <td>...</td>\n",
              "    </tr>\n",
              "    <tr>\n",
              "      <th>42</th>\n",
              "      <td>staff_swissotel_chicago</td>\n",
              "      <td>...</td>\n",
              "    </tr>\n",
              "    <tr>\n",
              "      <th>43</th>\n",
              "      <td>video_ipod_nano_8gb</td>\n",
              "      <td>...</td>\n",
              "    </tr>\n",
              "    <tr>\n",
              "      <th>44</th>\n",
              "      <td>speed_windows7</td>\n",
              "      <td>...</td>\n",
              "    </tr>\n",
              "    <tr>\n",
              "      <th>45</th>\n",
              "      <td>sound_ipod_nano_8gb</td>\n",
              "      <td>headphone jack i got a clear case for it a...</td>\n",
              "    </tr>\n",
              "    <tr>\n",
              "      <th>46</th>\n",
              "      <td>voice_garmin_nuvi_255W_gps</td>\n",
              "      <td>...</td>\n",
              "    </tr>\n",
              "    <tr>\n",
              "      <th>47</th>\n",
              "      <td>staff_bestwestern_hotel_sfo</td>\n",
              "      <td>...</td>\n",
              "    </tr>\n",
              "    <tr>\n",
              "      <th>48</th>\n",
              "      <td>speed_garmin_nuvi_255W_gps</td>\n",
              "      <td>...</td>\n",
              "    </tr>\n",
              "    <tr>\n",
              "      <th>49</th>\n",
              "      <td>updates_garmin_nuvi_255W_gps</td>\n",
              "      <td>...</td>\n",
              "    </tr>\n",
              "    <tr>\n",
              "      <th>50</th>\n",
              "      <td>transmission_toyota_camry_2007</td>\n",
              "      <td>...</td>\n",
              "    </tr>\n",
              "  </tbody>\n",
              "</table>\n",
              "</div>\n",
              "    <div class=\"colab-df-buttons\">\n",
              "\n",
              "  <div class=\"colab-df-container\">\n",
              "    <button class=\"colab-df-convert\" onclick=\"convertToInteractive('df-161759ee-7f36-46cd-947b-0d3a2b6a2d99')\"\n",
              "            title=\"Convert this dataframe to an interactive table.\"\n",
              "            style=\"display:none;\">\n",
              "\n",
              "  <svg xmlns=\"http://www.w3.org/2000/svg\" height=\"24px\" viewBox=\"0 -960 960 960\">\n",
              "    <path d=\"M120-120v-720h720v720H120Zm60-500h600v-160H180v160Zm220 220h160v-160H400v160Zm0 220h160v-160H400v160ZM180-400h160v-160H180v160Zm440 0h160v-160H620v160ZM180-180h160v-160H180v160Zm440 0h160v-160H620v160Z\"/>\n",
              "  </svg>\n",
              "    </button>\n",
              "\n",
              "  <style>\n",
              "    .colab-df-container {\n",
              "      display:flex;\n",
              "      gap: 12px;\n",
              "    }\n",
              "\n",
              "    .colab-df-convert {\n",
              "      background-color: #E8F0FE;\n",
              "      border: none;\n",
              "      border-radius: 50%;\n",
              "      cursor: pointer;\n",
              "      display: none;\n",
              "      fill: #1967D2;\n",
              "      height: 32px;\n",
              "      padding: 0 0 0 0;\n",
              "      width: 32px;\n",
              "    }\n",
              "\n",
              "    .colab-df-convert:hover {\n",
              "      background-color: #E2EBFA;\n",
              "      box-shadow: 0px 1px 2px rgba(60, 64, 67, 0.3), 0px 1px 3px 1px rgba(60, 64, 67, 0.15);\n",
              "      fill: #174EA6;\n",
              "    }\n",
              "\n",
              "    .colab-df-buttons div {\n",
              "      margin-bottom: 4px;\n",
              "    }\n",
              "\n",
              "    [theme=dark] .colab-df-convert {\n",
              "      background-color: #3B4455;\n",
              "      fill: #D2E3FC;\n",
              "    }\n",
              "\n",
              "    [theme=dark] .colab-df-convert:hover {\n",
              "      background-color: #434B5C;\n",
              "      box-shadow: 0px 1px 3px 1px rgba(0, 0, 0, 0.15);\n",
              "      filter: drop-shadow(0px 1px 2px rgba(0, 0, 0, 0.3));\n",
              "      fill: #FFFFFF;\n",
              "    }\n",
              "  </style>\n",
              "\n",
              "    <script>\n",
              "      const buttonEl =\n",
              "        document.querySelector('#df-161759ee-7f36-46cd-947b-0d3a2b6a2d99 button.colab-df-convert');\n",
              "      buttonEl.style.display =\n",
              "        google.colab.kernel.accessAllowed ? 'block' : 'none';\n",
              "\n",
              "      async function convertToInteractive(key) {\n",
              "        const element = document.querySelector('#df-161759ee-7f36-46cd-947b-0d3a2b6a2d99');\n",
              "        const dataTable =\n",
              "          await google.colab.kernel.invokeFunction('convertToInteractive',\n",
              "                                                    [key], {});\n",
              "        if (!dataTable) return;\n",
              "\n",
              "        const docLinkHtml = 'Like what you see? Visit the ' +\n",
              "          '<a target=\"_blank\" href=https://colab.research.google.com/notebooks/data_table.ipynb>data table notebook</a>'\n",
              "          + ' to learn more about interactive tables.';\n",
              "        element.innerHTML = '';\n",
              "        dataTable['output_type'] = 'display_data';\n",
              "        await google.colab.output.renderOutput(dataTable, element);\n",
              "        const docLink = document.createElement('div');\n",
              "        docLink.innerHTML = docLinkHtml;\n",
              "        element.appendChild(docLink);\n",
              "      }\n",
              "    </script>\n",
              "  </div>\n",
              "\n",
              "\n",
              "<div id=\"df-a5c47852-138c-4fb4-8f2a-c7767f1b64dc\">\n",
              "  <button class=\"colab-df-quickchart\" onclick=\"quickchart('df-a5c47852-138c-4fb4-8f2a-c7767f1b64dc')\"\n",
              "            title=\"Suggest charts\"\n",
              "            style=\"display:none;\">\n",
              "\n",
              "<svg xmlns=\"http://www.w3.org/2000/svg\" height=\"24px\"viewBox=\"0 0 24 24\"\n",
              "     width=\"24px\">\n",
              "    <g>\n",
              "        <path d=\"M19 3H5c-1.1 0-2 .9-2 2v14c0 1.1.9 2 2 2h14c1.1 0 2-.9 2-2V5c0-1.1-.9-2-2-2zM9 17H7v-7h2v7zm4 0h-2V7h2v10zm4 0h-2v-4h2v4z\"/>\n",
              "    </g>\n",
              "</svg>\n",
              "  </button>\n",
              "\n",
              "<style>\n",
              "  .colab-df-quickchart {\n",
              "      --bg-color: #E8F0FE;\n",
              "      --fill-color: #1967D2;\n",
              "      --hover-bg-color: #E2EBFA;\n",
              "      --hover-fill-color: #174EA6;\n",
              "      --disabled-fill-color: #AAA;\n",
              "      --disabled-bg-color: #DDD;\n",
              "  }\n",
              "\n",
              "  [theme=dark] .colab-df-quickchart {\n",
              "      --bg-color: #3B4455;\n",
              "      --fill-color: #D2E3FC;\n",
              "      --hover-bg-color: #434B5C;\n",
              "      --hover-fill-color: #FFFFFF;\n",
              "      --disabled-bg-color: #3B4455;\n",
              "      --disabled-fill-color: #666;\n",
              "  }\n",
              "\n",
              "  .colab-df-quickchart {\n",
              "    background-color: var(--bg-color);\n",
              "    border: none;\n",
              "    border-radius: 50%;\n",
              "    cursor: pointer;\n",
              "    display: none;\n",
              "    fill: var(--fill-color);\n",
              "    height: 32px;\n",
              "    padding: 0;\n",
              "    width: 32px;\n",
              "  }\n",
              "\n",
              "  .colab-df-quickchart:hover {\n",
              "    background-color: var(--hover-bg-color);\n",
              "    box-shadow: 0 1px 2px rgba(60, 64, 67, 0.3), 0 1px 3px 1px rgba(60, 64, 67, 0.15);\n",
              "    fill: var(--button-hover-fill-color);\n",
              "  }\n",
              "\n",
              "  .colab-df-quickchart-complete:disabled,\n",
              "  .colab-df-quickchart-complete:disabled:hover {\n",
              "    background-color: var(--disabled-bg-color);\n",
              "    fill: var(--disabled-fill-color);\n",
              "    box-shadow: none;\n",
              "  }\n",
              "\n",
              "  .colab-df-spinner {\n",
              "    border: 2px solid var(--fill-color);\n",
              "    border-color: transparent;\n",
              "    border-bottom-color: var(--fill-color);\n",
              "    animation:\n",
              "      spin 1s steps(1) infinite;\n",
              "  }\n",
              "\n",
              "  @keyframes spin {\n",
              "    0% {\n",
              "      border-color: transparent;\n",
              "      border-bottom-color: var(--fill-color);\n",
              "      border-left-color: var(--fill-color);\n",
              "    }\n",
              "    20% {\n",
              "      border-color: transparent;\n",
              "      border-left-color: var(--fill-color);\n",
              "      border-top-color: var(--fill-color);\n",
              "    }\n",
              "    30% {\n",
              "      border-color: transparent;\n",
              "      border-left-color: var(--fill-color);\n",
              "      border-top-color: var(--fill-color);\n",
              "      border-right-color: var(--fill-color);\n",
              "    }\n",
              "    40% {\n",
              "      border-color: transparent;\n",
              "      border-right-color: var(--fill-color);\n",
              "      border-top-color: var(--fill-color);\n",
              "    }\n",
              "    60% {\n",
              "      border-color: transparent;\n",
              "      border-right-color: var(--fill-color);\n",
              "    }\n",
              "    80% {\n",
              "      border-color: transparent;\n",
              "      border-right-color: var(--fill-color);\n",
              "      border-bottom-color: var(--fill-color);\n",
              "    }\n",
              "    90% {\n",
              "      border-color: transparent;\n",
              "      border-bottom-color: var(--fill-color);\n",
              "    }\n",
              "  }\n",
              "</style>\n",
              "\n",
              "  <script>\n",
              "    async function quickchart(key) {\n",
              "      const quickchartButtonEl =\n",
              "        document.querySelector('#' + key + ' button');\n",
              "      quickchartButtonEl.disabled = true;  // To prevent multiple clicks.\n",
              "      quickchartButtonEl.classList.add('colab-df-spinner');\n",
              "      try {\n",
              "        const charts = await google.colab.kernel.invokeFunction(\n",
              "            'suggestCharts', [key], {});\n",
              "      } catch (error) {\n",
              "        console.error('Error during call to suggestCharts:', error);\n",
              "      }\n",
              "      quickchartButtonEl.classList.remove('colab-df-spinner');\n",
              "      quickchartButtonEl.classList.add('colab-df-quickchart-complete');\n",
              "    }\n",
              "    (() => {\n",
              "      let quickchartButtonEl =\n",
              "        document.querySelector('#df-a5c47852-138c-4fb4-8f2a-c7767f1b64dc button');\n",
              "      quickchartButtonEl.style.display =\n",
              "        google.colab.kernel.accessAllowed ? 'block' : 'none';\n",
              "    })();\n",
              "  </script>\n",
              "</div>\n",
              "\n",
              "  <div id=\"id_e8fbda91-1354-425a-9bd9-6a42fd1d2b2f\">\n",
              "    <style>\n",
              "      .colab-df-generate {\n",
              "        background-color: #E8F0FE;\n",
              "        border: none;\n",
              "        border-radius: 50%;\n",
              "        cursor: pointer;\n",
              "        display: none;\n",
              "        fill: #1967D2;\n",
              "        height: 32px;\n",
              "        padding: 0 0 0 0;\n",
              "        width: 32px;\n",
              "      }\n",
              "\n",
              "      .colab-df-generate:hover {\n",
              "        background-color: #E2EBFA;\n",
              "        box-shadow: 0px 1px 2px rgba(60, 64, 67, 0.3), 0px 1px 3px 1px rgba(60, 64, 67, 0.15);\n",
              "        fill: #174EA6;\n",
              "      }\n",
              "\n",
              "      [theme=dark] .colab-df-generate {\n",
              "        background-color: #3B4455;\n",
              "        fill: #D2E3FC;\n",
              "      }\n",
              "\n",
              "      [theme=dark] .colab-df-generate:hover {\n",
              "        background-color: #434B5C;\n",
              "        box-shadow: 0px 1px 3px 1px rgba(0, 0, 0, 0.15);\n",
              "        filter: drop-shadow(0px 1px 2px rgba(0, 0, 0, 0.3));\n",
              "        fill: #FFFFFF;\n",
              "      }\n",
              "    </style>\n",
              "    <button class=\"colab-df-generate\" onclick=\"generateWithVariable('document_df')\"\n",
              "            title=\"Generate code using this dataframe.\"\n",
              "            style=\"display:none;\">\n",
              "\n",
              "  <svg xmlns=\"http://www.w3.org/2000/svg\" height=\"24px\"viewBox=\"0 0 24 24\"\n",
              "       width=\"24px\">\n",
              "    <path d=\"M7,19H8.4L18.45,9,17,7.55,7,17.6ZM5,21V16.75L18.45,3.32a2,2,0,0,1,2.83,0l1.4,1.43a1.91,1.91,0,0,1,.58,1.4,1.91,1.91,0,0,1-.58,1.4L9.25,21ZM18.45,9,17,7.55Zm-12,3A5.31,5.31,0,0,0,4.9,8.1,5.31,5.31,0,0,0,1,6.5,5.31,5.31,0,0,0,4.9,4.9,5.31,5.31,0,0,0,6.5,1,5.31,5.31,0,0,0,8.1,4.9,5.31,5.31,0,0,0,12,6.5,5.46,5.46,0,0,0,6.5,12Z\"/>\n",
              "  </svg>\n",
              "    </button>\n",
              "    <script>\n",
              "      (() => {\n",
              "      const buttonEl =\n",
              "        document.querySelector('#id_e8fbda91-1354-425a-9bd9-6a42fd1d2b2f button.colab-df-generate');\n",
              "      buttonEl.style.display =\n",
              "        google.colab.kernel.accessAllowed ? 'block' : 'none';\n",
              "\n",
              "      buttonEl.onclick = () => {\n",
              "        google.colab.notebook.generateWithVariable('document_df');\n",
              "      }\n",
              "      })();\n",
              "    </script>\n",
              "  </div>\n",
              "\n",
              "    </div>\n",
              "  </div>\n"
            ],
            "application/vnd.google.colaboratory.intrinsic+json": {
              "type": "dataframe",
              "variable_name": "document_df",
              "summary": "{\n  \"name\": \"document_df\",\n  \"rows\": 51,\n  \"fields\": [\n    {\n      \"column\": \"filename\",\n      \"properties\": {\n        \"dtype\": \"string\",\n        \"num_unique_values\": 51,\n        \"samples\": [\n          \"video_ipod_nano_8gb\",\n          \"screen_netbook_1005ha\",\n          \"voice_garmin_nuvi_255W_gps\"\n        ],\n        \"semantic_type\": \"\",\n        \"description\": \"\"\n      }\n    },\n    {\n      \"column\": \"opinion_text\",\n      \"properties\": {\n        \"dtype\": \"string\",\n        \"num_unique_values\": 51,\n        \"samples\": [\n          \"                                                                                                                                                                                                                                                                         I bought the 8, gig Ipod Nano that has the built, in video camera .\\n0                                                                                                                                                                                                                      Itunes has an on, line store, where you may purchase and download music and videos which will install onto the ipod .\\n1                                                                                                                                                           I have lots of music cd's and dvd's, so currently I'm just interested in storing some of my music and videos on the ipod so I can enjoy them on my vacation, and while at work .\\n2                                                                                                                                                                                                                                                                There's a right way and wrong way to store music and videos onto the ipod .\\n3                                                                                                                                                                                                                                                                               Audio and video recording are a step above the competition .\\n4                                                                                                                                                                                                                                                                                          As always, the video screen is sharp and bright .\\n5                                                                                                                                                                                                                                                                                                  ipod nano even better with video camera !\\n6                                                                                                                                                                             This time around, Apple is branching out of its iPod formula in a small, but not insignificant way by gracing the back of the Nano with its own video camera .\\n7                                                                                                                                                                                                                     Still, video fans should consider stepping up to a product with a larger screen, such as the Zune HD   or iPod Touch .\\n8                                                                                                                                                                      The user interface of the 5G Nano remains almost entirely unchanged with the exception of a few new menu items for the video camera, FM radio, and fitness features .\\n9                                                                                                                                                                                                                                                                                I can listen to it without headphones, i can record video .\\n10                                                                                                                                                                                                                                                      It looks nicer than my other one, love the video and everything else this one can do\\n11                                                                                                                                                               wish BB could engrave them too  announcer for songs is kind of annoying  Haven't yet tried the video, but very pleased with the size and quality of my music on this nano .\\n12                                                                                                                                                                                                                                                                                              Hard to delete videos from the Nano device .\\n13                                                                                                                                                                                                              The video design allow you to take different types of vidoe like x, ray, monochrome, and twist making it enjoyable to play .\\n14                                                                                                                                                                                                        The video quality is actually fairly good, my friend toook a video with it and she uploaded it to facebook and it came out great !\\n15                                                                                                                                                                                                                                                              It eve ncame out better than a video she took with an actual camera camera !\\n16                                                                                                                                                                                                                                                                                                            the video quality is perfect .\\n17                                                                                                                                                                                                                                                                                                        Great for music, just OK for video\\n18                                                                                                                                                                                                                                                                                            Video recorder only, cannot take just photos .\\n19                                                                                                                                                                                                                                                                     the VIDEO, VOICE and PEDOMETER recorder is one great addition to it .\\n20                                                                                                                                                 As for the video camera it's a nice addition considering it's an mp3 player first and foremost, I think people are going to go into this and think maybe I can replace my old video, NO .\\n21                                                                                                                                                                  It just a solid low quality video camera some of the lighting or your fingers may get in the way of the actual recording but once you get use to it, it can become fun .\\n22                                                                                                                                                                                                                                                                              I find it weird that it will take video but not still pics .\\n23                                                                                                                                                                                                           It looks just like the 4th generation, except on the back, there's a camera to take video clips or whatever it is you want to .\\n24                                                                                                                                 i hate itunes, but it seems to be a necessary evil in order to tag say a video as music and not a movie, so though i originally started with 3rd party apps for syncing i have since switched to itunes .\\n25                                                                                                                                                                            This time around, Apple is branching out of its iPod formula in a small, but not insignificant way by gracing the back of the Nano with its own video camera .\\n26                                                                                                                                                                                                                                               The video works very well for such a small sensor and it is so easy and convenient to use .\\n27                                                                                                                                                                                                                                     We have had portable video players for our children as our cars are not equipped with these devices .\\n28                                                                                                                                                                                                                                                                Video camera quality and sound are also surprising for such a small unit .\\n29                                                                                                                                                                             Not a tremendous surprise here, as we believed the sixth, generation  true video iPod  would not be announced until later in the year or even early in 2007 .\\n30   5G lies a more mature iPod, many steps wiser and more able than its one, year, old  The iPod gains many incremental improvements, including a brighter screen and better video battery life, but probably the most appealing aspect is the tantalizing price points of $249 for the 30GB version and $349 for the huge 80GB version   .\\n31                                                                                                                                                                                                                                                  The 80GB is enticing for video addicts both for the capacity iTunes movies are about 1 .\\n32                                                                                                                                                                                                                                                                                The video camera is nice, just wish it could take stills .\\n33                                                                                                                                                                                                                                                             The one problem with the video camera is it is not the easiest thing to use .\\n34                                                                                                                                                                                                           I also like that videos can be watched on it as well as listening to it without the ear phones that is a really great feature .\\n35                                                                                                                                                                                                                                                  The only odd thing is that is has a video camera but doesn't have a single shot camera .\\n36                                                                                                                                                                                                                                                                                  Easy to use, Video Camera, Radio, Size, Sound Quality  .\\n37                                                                                                                                                  The battery doesn't last a long time especially when you're recording or watching a video but I just listen to music most of the time and it lasts me a good length of time doing that .\\n38                                                                                                                                                                                                                                                                                   The video quality is great and has different settings .\\n39                                                                                                                                                                                                                                                   Definitely easier to use than the IPod Touch, and the video camera feature is awesome .\\n40                                                                                                                                                                                                                                                                  That way you will have enough storage to add music, video and pictures !\\n41                                                                                                                                                                                                         I haven't found anything that is not so great  This is a multi use MP3 player with the ability to make videos, music and videos .\\n42                                                                                                                                                                                                                          Great new features in this iPod generation include voice recording, listening to radio, and even filming video .\\n43                                                                                                                                                                                                                                                                                                         Has video camera and voice memo .\\n44                                                                                                                                                                                                                                                                                              The video looks great and it's easy to use .\\n45                                                                                                                                                                                                                                 No  off  switch  Compared to Gen 4 the ability to listen without speakers and the video camera is great .\\n46                                                                                                                                                                                                                                                                                 As easy to use as any other iPod, and the video is good .\\n47                                                                                                                                                                                                                                                                                     She loves to make her own videos and play them back .\\n48                                                                                                                                                                                                                                                                                                  The videos are so clear I just love it .\\n49                                                                                                                                                                                                                                                           However, the way it is designed, it is clumsy to hold while recording a video .\\n50                                                                                                                                                                                                                                                                      camera does only video, not pictures  Way better than 2nd gen nano .\\n51                                                                                                                                                                                                                                                             Love the camera, but wish it had photo capabilities, rather than just video .\\n52                                                                                                                                                                                                                                                                                     It's got radio, video, camera, video camera, small  .\\n53                                                                                                                                                                                                                                                                             Love the pedometer feature on the nano and the video camea  .\\n54                                                                                                                                                                                                                                                                                        The color, the video, overall the item is great  .\\n55                                                                                                                                                                                                                                                                          The size is very nice and compact and the videos are beautiful !\\n56                                                                                                                                                                                                                                 it would be nice to delete songs when they get old  the video camera is the best, i use it all the time .\\n57                                                                                                                                                                                                            It was fine quality sounds for  roof, raising  music and also insane levels of clearity for music videos or movies on the go !\\n58                                                                                                                                                                                                                                               The video camera feature is awesome enough, but all of the special effects are incredible .\\n59                                                                                                                                                                                                                                                          He loves shooting video and then viewing it in  cyborg  mode or in sepia tones .\\n60                                                                                                                                                                                                                                                                   Our 12 year old loves the IPod ,  especially the video camera feature .\\n61                                                                                                                                                                                                                                lots of features  I got this for my son because he wanted an MP3 player and a video camera for Christmas .\\n62                                                                                                                                                                                                                                                                     Like the extra features ,  pedometer, video camera, radio, speakers .\\n63                                                                                                                                                                                                                                                                     haven't quite mastered the video camera yet, but I'm okay with that !\\n64                                                                                                                                                                                                                                                                                                     Movies, videos, music, music, music .\\n65                                                                                                                                                                                                                                                                               Plenty of memory to add all your favorte music and videos .\\n66                                                                                                                                                                                                                                                                                                  The 16g holds a lot of music and video .\\n67                                                                                                                                                                                       video, motion sensing, screen size and sllek look  I recently upgraded from the 2nd generation Nano and love the new features of the newest model .\\n68                                                                                                                                                                                                                                                                                 Can't believe the picture quality and ease of video use !\\n69                                                                                                                                                                                                                                                                                                   It will take video, but not pictures  ?\\n70                                                                                                                                                                                                                                                         Secondly, the thing has the capability to record video, but won't take pictures .\\n71                                                                                                                                                                                                                                                                                 Yeah, that's typed correctly ,  video, but not pictures .\\n72                                                                                                                                                                                                                                                  Seems kinda silly that they would go right to video and completely neglect photography .\\n73                                                                                                                                                                                                                                                                             My daughter loves taking video, as well as the music & pics !\\n74                                                                                                                                                                                                                                                                                          She takes videos and pics with it all the time .\\n75                                                                                                                                                                                                                                                            I decided to get this iPod cause of the Memory and the Video Cam in the back .\\n76                                                                                                                                                                                                                                                                                            The video camera and the graphics is so cool !\\n77                                                                                                                                                                                                                                                                                                       Easy to use and cool video camera !\\n78                                                                                                                                                                                                                                                                         Comes in different colors, make videos, and holds alot of music .\\n79                                                                                                                                                                                                                                                                                         Small, holds lots of songs, video, easy to use  .\\n80                                                                                                                                                                                                                                                                                 Can't figure out how to review the video clips I record .\\n81                                                                                                                                                                                                                                         This is an easy to use item, but is slightly confusing to use when trying to review video clips .\\n82                                                                                                                                                                                                                                                         It takes video and has a really cool radio feature on it, according to the kids .\\n83                                                                                                                                                                                                                                                                           easy to use, cool helpful features, video camera, voice over  .\\n84                                                                                                                                                                                                                                                       The video camera is great   and the different effects are fun to mess around with .\\n85                                                                                                                                                                                                It would be nice if the video camera zoomed in a little and if there was a regular camera as well, but those are pretty minor complaints .\\n86                                                                                                                                                                                                                                            My daughter thinks that the video clarity is amazing and finds the built in speakers awesome .\\n87                                                                                                                                                                                                                                                                                              The camera and video feature are wonderful .\\n88                                                                                                                                                                                                                                                                                                        Holds tons of music, video, pics .\\n89                                                                                                                                                                                                                                                                          I wish the video camera had a pause on it, but you can't pause .\\n90                                                                                                                                                                                                                                                         It can hold tons of music, video, pics and watching movies on the plane is nice .\\n91                                                                                                                                                                                                                  I also wish the video camera had a pause on it, but it doesn't pause and starts with a new video everytime you stop it .\\n92                                                                                                                                                                                          She didn't want the touch, she wanted the nano because you can video, it has the radio that she can play back the songs and she likes the size .\\n93                                                                                                                                                                                                                                                                              The video camera is great and the screen size is a nice size\\n94                                                                                                                                                                                                                                                                              We haven't tried the video yet, so I can't comment on that .\\n95                                                                                                                                                                                                                                                           great video quality, no ear buds required internal sound system sounds great  .\\n96                                                                                                                                                                                Still to new to we'll see  Great product, video feature is awesome and I love how there is now internal sound and you don't have to use ear buds with it .\\n97                                                                                                                                                                                                                          Don't really need video camera  eventhough we don't use the video that much the rest of the features are great .\\n98                                                                                                                                                                                                                                                                                 It does so many things,  Wow, nav, video, mp3, and more !\\n99                                                                                                                                                                                                                                                         I love how easy it is to download from ITunes and the fact I can also do video  .\\n100                                                                                                                                                                                                                                     I am learning to navigate the menu better that at first and love that fact that I can take a video .\\n101                                                                                                                                                                                                                                                                                         Its easy to use and love the new video feature .\\n102                                                                                                                                                                                                                                                                 It does have some nice features such as the video camera and the radio .\\n103                                                                                                                                                                       He has been using it consistently ever since and has nothing but praise for it and it's many options  loves the video cam and the music player recorder especially\\n104                                                                                                                                                                                                                                                                                    Watching any videos drains the battery very quickly .\\n105                                                                                                                                                                                                                                                                               Glad you listen to the radio, play games and take video  .\\n106                                                                                                                                                                                                           none of my old Nano asseccories work with this one  Fun new Ipod, the video feature is fun but difficult to learn how to use .\\n107                                                                                                                                                                                                                      I've downloaded a lot of CDs and music from iTunes, also a few music videos,which are great fun to watch and hear .\\n108                                                                                                                                                                                                                                                                      Great for spot video if you do not have a camera availabe on hand .\\n109                                                                                                                                                                                                                                                               some changes such as video camera and bigger screean, but it was just ok .\\n110                                                                                                                                                                                                                                                                                       Great video camera and the funcionality is awesome\\n111                                                                                                                                                                                                                                                              Video camera function and the blending of songs at the end and beginning  .\\n112                                                                                                                                                                                                                              nothing  The functionality and video camera were great innovations added to the newest generation of Ipod !\\n113                                                                                                                                                                                                                                                           It's very easy to use and its video camera is very nice and it doesn't ghost .\\n114                                                                                                                                                                                                                                                         and the video quality is very good, and the sound quality is very good as well .\\n115                                                                                                                                                                                                                                                                        Sound quality, video quality, easy to use, space, customizable  .\\n116                                                                                                                                                                                                                                                        The colors are awesome, the sound is great and it hold tons of songs and videos !\\n117                                                                                                                                                                                                                                                                                     It has great video quality for such a small device .\\n118                                                                                                                                                                                                                                                                                                       the video recorder, sound, look  .\\n119                                                                                                                                                                                                                                                                                                       has bigger screen, video camera  .\\n120                                                                                                                                                                                                                                                                    the picture for the video is awesome its very clear and easy to see .\\n121                                                                                                                                                                                                                                                                                                        features, look and feel, video  .\\n122                                                                                                                                                                                                                                                                                                Video, even in low light, is impressive .\\n123                                                                                                                                                                                                                                                                                           Even the built, in video camera is very good .\\n124                                                                                                                                                                                                         I'm really disappointed that Apple is so proprietary that you can't use anything but iTunes to add music and videos to an iPod .\\n125                                                                                                                                                                                                                                                It has a built in video camera, and it shoots in high quality, which I was surprised at .\\n126                                                                                                                                                                                                                                                                                                    n you can put music videos pictures .\\n127                                                                                                                                                                                                                                                                    The video camera is cool, but I don't know that I would use it much .\\n128                                                                                                                                                                                                                                                                           This can record videos and it is also Very Very Light Weight !\\n129                                                                               i couldnt think of a single thing  this ipod is reallly great you can shoot videos listen to the radio plus you have 16 gigs of memory it is aweosme i really love it because its still as small as the last one only with a bigger screen and great color\\n130                                                                                                                                                                                                                                                          The video and external speaker components were a surprise on the 5th Gen iPod .\\n131                                                                                                                 I love the video camera it has on it, the pedometor is awesome to use and best of all I can listen to music on it when I'm doing other stuff on my computer when it might be slowed down when listening to music on it .\\n132                                                                                                                                                                                                                                                                           Awesome features fm radio, video camara, pedometer and more  .\\n133                                                                                                                                                                                                                     Nothing  What will Apple think of next for their Nano, the video camara records awesome video even in dim lighting .\\n134                                                                                                                                                                                                                                                                        All the neat little features and surprisingly good video camera !\\n135                                                                                                                                                                                                                             I took it to class and decided to test it out and everyone was surprised by how good the video quality was .\\n136                                                                                                                                                                               I'm planning on hiking half, dome next year and this is much much more lightweight than the video camera I have so it will definitely be accompanying me !\\n137                                                                                                                                                                     fm radio lots of storage for music, videos and pictures alarm clock to your tunes blue color lock button so you don't accidentally turn it off on ease of use Cons :\\n138                                                                                                                                                                                                                                          Hard to get videos onto computer  This was a purchase I made after I returned my Sony Walkman .\\n139                                                                                                                                                                                                                                                                                    A must, buy for everybody who loves music and video .\\n140                                                                                                                                                                                                                                                                             video camera built in and music plays without head phones  .\\n141                                                                                                                                                                                                                                                     need a video program on your computer to obtain video  Great product for the price .\\n142                                                                                                                                                                                                                                                                                I had the iPod Video but it did not work with my new Nike\\n143                                                                                                                                                                                                                                                                             chip so I bought the newest iPod video the day it came out .\\n144                                                                                                                                                                                                                                                                      I cannot figure out how to get the video I record off of the IPod .\\n145                                                                                                                                                                                                                             ,  I cannot figure out how to get the video I recorded on my Nano off to upload it to Facebook or You Tube .\\n146                                                                                                                                                                                                                                  shoes if using vid cam for long time, it kills battery  Standard Def video recording, but still sharp !\\n147                                                                                                                                                    Only things I wish they added is measuring distance [not just steps] on the pedometer, better sound on the speaker, and a  capturing still images  with the video recording feature .\\n148                                                                                                                                                                                                                                                                                           The video recording feature is the best part .\\n149                                                                                                                                                                                                                                                              7 out of 10 have not used video yet but the pixels would be just the same .\\n150                                                                                                                                                                                               The product is very useful if you want to go out for a jog and listen to your music or watch some videos if you stuck on a bus or subway .\\n151                                                                                                                                                                                                                                                                                           Video camera, FM turner, Speaker, Pedometer  .\\n152                                                                                                                                                                                                          Location of the video camera, and the gap between the click wheel and ipod  The Best Ipod ever and has the best features ever .\\n153                                                                                                                                                                                                                                                                                       Easy to use video camera, Big screen, Fun color  .\\n154                                                                                                                                                                                                                                                          Which I am sure all Nano's are like that  LOL The video camera is so much fun !\\n155                                                                                                                                                                                                                                                                                                 new look, shape and video cam feature  .\\n156                                                                                                                                                                                                                            Smudgy finger prints  I like the Video voice over color, purple I like hearing the Ipod w out the ear plugs .\\n157                                                                                                                                                                                                                                                                                                     light weight, radio, video camera  .\\n158                                                                                                                                                                                                                          I have an old 60GB ipod video that I use in my car and now I use this ipod for walking around campus and such .\\n159                                                                                                                                                                                                            The video camera is a great feature to have, however its not that high of a quality when you transfer it onto your computer .\\n160                                                                                                                                                                                                                                                                                                       Camera has great video effects   .\\n161                                                                                                                                                             The videos you record do not show up on iTunes though, you have to go to My Computer and find the ipod drive, then open the folder named DCIM, and the video files are in  .\\n162                                                                                                                                                                                                   When you're not in a game or watching a video, if you turn it on the side, coverflow displays, however you can turn this feature off .\\n163                                                                                                                                                                                                                                 I mean I do have my cell that takes pics and videos but I just love the picture video the NANO records .\\n164                                                                                                                                                                                                                                       And I just foundout you don't need the head phones in the iPod to listen to your music or videos !\\n165                                                                                                                                                                                                                                                                                       Video Camera with fun special effects, FM radio  .\\n166                                                                                                                   the glossy fingerprint attracting finish compared to last year's beautiful matte finish  Great improvements with the video camera, really fun special effects, easy to use ,  also great FM radio with pause feature .\\n167                                                                                                                                                                                                          then it would be perfect oh and make a 32 or 64gb version so I can fit all my music and have lots of room for video ,  thanks !\\n168                                                                                                                                                                                     But overall I love it ,  between the radio, speaker, microphone, video camera, effects, there are enough new features to justify buying a new nano .\\n169                                                                                                                                                                                                                                             It's great to have a decent video camera with you at all times if you don't have an iphone .\\n170                                                                                                                                                                                                                       Had the original iTouch but I was burglarized andwas waiting for the iTouch with video but can't wait any longer .\\n171                                                                                                                                                                                                                                  Video is impressive, speaker sound is good for size, easy menus, screen is big enough to watch movies .\\n172                                                                                                                                                                                                                                   The videos are very crisp and clean, the video camera is nice, I was very surprised with the quality .\\n173                                                                                                                                                                                                                                                        Small size and Color, Gettin your Money's worth, nice screen, and video camera  .\\n174                                                                                                                                                                                                                                                                                                       I do like the video camera on it .\\n175                                                                                                                                           The mic and camera are great, speaker is great for video playback or bedtime movie watching, the screen is now even bigger and the device is the same size but Lighter than the 4th gen nano !\\n176                                                                                                                                                                                                                                                        The Video Recording Quality, Price, Size, Weight, Radio, Pedometer, Voice Over  .\\n177                                                                                                                                                                                                                                                         video camera, radio, great price for a 16 gig, not a fingerprint magnet, small .\\n178                                                                                                                                                                                                       cant take pictures just videos, and u need the headphones given for the radio  good for just listening to music and for your car .\\n179                                                                                                                                                                                                                                                                                Easy to set up, has a video camera and a radio built in .\\n180                                                                                                                                                                                                                                                                        The video camera is not as good as I thought it was going to be .\\n181                                                                                                                                                                                                                                                                                NOTHING  Ipod nano has a VIDEO CAMERA it is so cool, ROCK\\n182                                                                                                                                                                                                                     the video is very clear, the built in speaker is pretty good, the radio is very useful and overall it's just great !\\n183                                                                                                                                                                                                                                                      He was delighted as it had a video and camera which his original one did not have .\\n184                                                                                                                                                                                                                                      It has plenty of room for her music and she loves taking pictures and making short videos with it .\\n185                                                                                                                                                                                                                                                          While the Nano allows for video and audio, the IPod touch has interactivity and\\n186                                                                                                                                                                                                                                                          While the Nano allows for video and audio, the IPod touch has interactivity and\\n187                                                                                                                                                                                                                        its really good up to apples usual standard sound quality and video quality is brillant and is ideal for anyone !\\n188                                                                                                                                                                                                                                       The video camera feature is nice but I don't understand why they didn't allow for picture taking ?\\n189                                                                                                                                                                                                 It's small and lightweight, it looks amazing, the video quality is way better than I ever imagined it would be, and the screen is huge .\\n190                                                                                                                                                                                                                                           The seller advertised it as the NEWEST model which should be able to take pictures and video .\\n191                                                                                                                                                                                                                                                            It is of the best buys I've done, sound quality, video and radio is excellent\\n192                                                                                                                                                                                                                                                                                     Great sound quality, love the video recording too  :\\n193                                                                                                                                                                                                                                                                             It's just a shame it only takes video and not still photos .\\n194                                                                                                                                                                                                                                                                           It has a cool video recorder, but i could've done without it .\\n195                                                                                                                                                                                                                                                                                             The video camera works great and the battery\\n196                                                                                                                                                                                                                                        If you had other ipods with the feauture of puting videos, when you synch them, they don't appear\\n197                                                                                                                                                                                                                                                                                                            Video option is easy to use .\\n198                                                                                                                                                                                                                                                                            I have the 5th gen iPod video, and this thing blows it away !\\n199                                                                                                                                                                                                                                                                                                         The video is surprisingly good !\\n200                                                                                                                                                                                                                                                                           I do wish that it also took pictures as well as video though .\\n201                                                                                                                                                                                                                                        So, the only thing about the iPod nano that I don't like   is the placement of the video camera .\\n202                                                                                                                                                                                                                                                                                                Video quality is better than I expected .\\n203                                                                                                                                                                                                                                                                                    Amazing amount of music photos videos can be stored .\\n204                                                                                                                                                                                                                                                                                                    Video taking feature is interesting .\\n205                                                                                                                                                                                                                                                                                                   It plays music, videos, radio, records\\n206                                                                                                                                                                                                                                                                                 The video capability is incredible, and so easy to use .\\n207                                                                                                                                                                                 My wife and I are really pleased with our Nano Ipods that we purchased from you so easy to use and good to have a camera as well as a video John Coleman\\n208                                                                                                                                                                                                                                                        It's a nice little gadget, I've put some songs on it and the video camera is good\\n209                                                                                                                                                                                                                                           The video camera is crystal clear and the memory space is more than ideal for all your needs .\\n210                                                                                                                                                                                                                                                                                she was quickly able to download music and videos xmas am\\n211                                                                                                                                                                                                                                                         I have used the video camera nd the sound is good considering and the picture is\\n212                                                                                                                                                                                                                                                                                     FM radio and a   video camera are pretty darn cool .\\n213                                                                                                                                                                                                                                                                                                          Great little audio video device\",\n          \"                                                                                                                                                                                                                                                                        Keep in mind that once you get in a room full of light or step outdoors screen reflections could become annoying .\\n0                                                                                                                                                                                                                                                                                                       I've used mine outside on a sunny day, and the screen is still very much legible .\\n1                                                                                                                                                                                                                                                                                                                In fact it was much more detailed than the matte screen on my Dell D600 .\\n2                                                                                                                                                                                                                                                                                                         Some ppl may prefer a higher resolution screen but I don't think it's required .\\n3                                                                                                                                                                                                                                                                I delayed ordering the computer because of the horror stories of bad batteries, faulty chargers and blue screen crashes .\\n4                                                                                                                                                                                                                                                           1 inch screens, Windows XP operating systems, a plethora of USB ports, a card reader, WiFi and most have a few color choices .\\n5                                                                                                                                                                                                                                                                                                               1 inch screens are a bit cramped if several toolbars have been turned on .\\n6                                                                                                                                                                                             Some of the Asus special on screen controls, update and expand features built into the machine have not been all that useful and some border on being advertisements for buying Asus stuff .\\n7                                                                                                                                                                                                                                                                          Two other things that make this a superior computer are battery life, and the LED backlighting for the screen .\\n8                                                                                                                                                                                                                                                  The ways the screen opens   enables a smaller footprint when the case is closed, although it limits how far back the screen will tilt .\\n9                                                                                                                                                                                                                                                                   Surfing the net is a breeze, but I did have one  blue screen of death  when dealing with one demanding internet site .\\n10                                                                                                                                                                                                The light weight, the battery life, the keyboard, the non, protruding removable battery, the bright screen, the track pad disable button and general ease of use makes it hard to beat .\\n11                                                                                                                                                                                                                      I recommend minimizing the size of the scroll zones on the right and bottom, other wise you find the screen suddenly scrolling when you did not want it to do so .\\n12                                                                                                                                                                                                                        zoom in or zoom out of a screen  , but on occasion it will zoom when you don't want or expect it to because of an inadvertent gesture or touch by a thumb, etc .\\n13                                                                                                                                                                                                        The occasional blue screen of death unfortunately has not gone away  Microsoft attributes it to an errant driver, but I have not been able to isolate what driver is the cause .\\n14                                                                                                                                                                                                                                                                                                                                                The screen is not as bright as my Acer .\\n15                                                                                                                                                                                                                                                                                                              There are 2 bios updates and the latest is for a brighter screen setting .\\n16                                                                                                                                                                                                                                                                         This makes the screen much brighter and as with all new computers it seems there are always important updates .\\n17                                                                                                                                                                                                                                                               Also if you install Firefox web browser and push the f11 key the browser becomes full screen, helpful on a small screen .\\n18                                                                                                                                                                                                                                                                                                 I got used to the glossy screens a while ago  this one is remarkably bright and vivid .\\n19                                                                                                                                                                                                                                                                                                                                   Now I keep getting the  blue screen  serious errors .\\n20                                                                                                                                                                                                                                                                                              wrote  it has crashed unexpectedly and displayed the blue screen of death numerous times .\\n21                                                                                                                                                                                                                                                                                                                  Sometimes the blue screen of death appears for no discernible reason .\\n22                                                                                                                                                                                                                                                                                                        I began by considering netbooks with screens smaller than the now, standard 10 .\\n23                                                                                                                                                                                        If money is your leading consideration, then one of these may be for you, but for just a bit more money you get a much better screen, better battery life, bigger drive, more upgradeable, etc .\\n24                                                                                                                                                                                                                                      But with screen brightness cranked up, bluetooth & wi, fi in constant use, some video playback  , and internet radio running, I'm getting a good 8\\n25                                                                                                                                                                                                                                                                                          With wi, fi off & the screen dimmed, I don't think I'll have a problem getting the stated 10 .\\n26                                                                                                                                                                                                     The keyboard is not quite perfect, the screen doesn't tilt back as far as I'd like, slightly higher resolution in the screen would be nice a new model not yet available in the U .\\n27                                                                                                                                                                                                                                                                                                                               has an 11  screen with the same or better battery life, .\\n28                                                                                                                                                                                                                                                                                                                                                   It's small with a very clear screen .\\n29                                                                                                                                                                                                                                                I've had the 1005HA, PU1X for a week now ,  on and running applications continuously ,  without a single crash, blue screen, or hangup .\\n30                                                                                                                                                                                                                                                                                    The touchpad feels great, the boot up was fast, keyboard feels comfortable, and the screen is good .\\n31                                                                                                                                                                                                                                                                                                               My only complaint with it is that the screen doesn't go back far enough .\\n32                                                                                                                                                                                                                                                               The touchpad works well, the screen glossy, ness really doesn't bother me, and it's not too bad of a fingerprint magnet .\\n33                                                                                                                                                                                                                                                                                                                                        On full screen display is smooth and no issues .\\n34                                                                                                                                                                                                       Some iTunes content is a little laggy if it is maximized display, but not full screen for some reason, but switching to full screen display has taken care of that issue for me .\\n35                                                                                                                                                                                                                                                                                              And with a two, fingered gesture on the scratchpad, you can enlarge or shrink the screen .\\n36              It won't give you all the functionality of a full, sized laptop, and the small screen may take some getting used to, but no regular laptop gives you this kind of battery life, and most of the functions absent here aren't used by most people most of the time anyway, so if the tradeoff is fewer features for greatly, increased battery life, I'll take the latter .\\n37                                                                                                                                                                                                                                                                                                   On a full charge, with wireless on, screen brightness on medium, I get a reported 8 .\\n38                                                                                                                                                                                                                                                                                                                            5 hours with no wireless, and screen brightness on minimum .\\n39                                                                                                                                                                                                                                                                                                                                           5 PASS ,  Screen is bright and large enough .\\n40                                                                                                                                                                                                                                                                  Once I configured Firefox to always run full screen mode  , surfing was no problem with plenty of screen real estate .\\n41                                                                                                                                                                                                                                                  All features worked excellently for me so far especially appreciate the touchpad lock button  as well as the screen off function key .\\n42                                                                                                                                                                                                                                                                             heavy rearward weight bias so much that it wants to fall backwards  with the screen pushed back all the way\\n43                                                                                                                                                                                                                                                                                      the screen is STUNNING, and if you've got a bright light shining down on it, you've got a choice :\\n44                                                                                                                                                                                                                                                                                                               you can either move the screen to eliminate the glare, or move the lamp .\\n45                                                                                                                                                                                                                                                    I'd far rather have this beautifully crisp screen and make the occasional adjustment for glare, than deal with a matte screen 24 7 .\\n46                                                                                                                                                                                                                                                                                  One of the other complaints I'd come across is how for some, the screen doesn't tilt back far enough .\\n47                                                                                                                                                                                                                                                                                                              yeah, you'd probably want the screen to tilt far enough back to lay flat .\\n48                                                            And if you can't wait to twist yourself into some contortion in bed where you need the screen to go back further than reasonable, you can always invest in one of those $20 lap desks ,  you know, the kind with the beanbag bottom, so that you can shift the desk into whatever ridiculous position will suit your fancy .\\n49                                                                                                                                                                                                                                                                                                  and I could have gotten a matte screen, but neither of those  features  impressed me .\\n50                                                                                                                                                                                                Except for difficulties seeing the entire New York Times crossword puzzle all at once on the screen, the Asus satisfies my needs and seems about as fast as my 5, year, old IBM laptop .\\n51                                                                                                                                                                                                                                             I was also nervous about the fact that occasionally the image on the computer screen  shivered , although it normally recovered from that .\\n52                                                                                                                                                                                                                                                                                                                         Also considered lower, end 14, 15  screens for use of the DVD .\\n53                                                                                                                                                                                                                                                                                                                                                          I like the gloss screen fine .\\n54                                                                                                                                                                                                                                                                                                                 The screen is too small for any meaningful work, but the apps DO work .\\n55                                                                                                                                                                                                                                                                           Again, the screen is too small for this to be anything more than just satisfying from a purchase standpoint .\\n56                                                                                                                                                                                                                                             like others have said, it is definitely a fingerprint magnet, and the glossy screen can be a bit of a problem in some lighting conditions .\\n57                                                                                                                                                                                                                                                                    I received my Asus 1005HA yesterday installed the two gb ram and tried to turn it on and the screen remained blank .\\n58                                                                                                                                                                                                                                                                                                                                                  The screen is small, only 1024 x 600 .\\n59                                                                                                                                                                                                                                                                                                                                 I can hear the windows but my screen is totally blank .\\n60                                                                                                                                                                                                                                                                                                                       I can tell the backlight is on, but all I get is a black screen .\\n61                                                                                                                                                                                                                                                                                                                                           I don't even see the bios screen on startup .\\n62                                                                                                                                                                                                                                                                                                                                                        The screen is sharp and bright .\\n63                                                                                                                                                                                                                                                                                                                          The screen is clear and easily viewed in indoor environments .\\n64                                                                                                                                                                                                                                                                           With the view maximized, the screen is large enough to work on documents and read online research materials .\\n65                                                                                                                                                                                                                                                                                           The fashionable glossiness of both body and screen acquires fingerprints and smears rapidly .\\n66                                                                                                                                                                                                                                                                       The shiny screen is reflective, which can be a problem if you have your back to a sunny window or work outdoors .\\n67                                                                                                                                                                                                                                                                                    I keep the screen brightness set at about half and easily get more than eight hours with wi, fi on .\\n68                                                                                                                                                                                                                    I don't know what the other reviewers are talking about as far as the screen brightness goes because my screen is far too bright at the higher end of the spectrum .\\n69                                                                                                                                                                                                                                                                                            It is a fingerprint magnet, and because of the glossy screen, its very reflective of light .\\n70                                                                                                                                                                                                                                                                                                          ,  don't know why they use the screen size most do ,  1024 x 600 seems cramped\\n71                                                                                                                                                                                                                                                                                                                                         Takes sometime to get use to the small screen .\\n72                                                                                                                                                                                                                                                                                                                                      yeah, the new LED screen technology is that good .\\n73                                                                                                                                                                                                                                       The screen resolution isn't the highest you can get but I found that the higher resolution netbooks usually had older prcessors for some reason .\\n74                                                                                                                                                                                                                                                                                                                            I'm happy with the screen and resolution choices available .\\n75                                                                                                                                                                                                                                                                                             I usually run IE8 in full screen mode   with a 95% zoom setting and a 1024x600 resolution .\\n76                                                                                                                                                                                                                                                                                                                                             Surprisingly readable screen for the size .\\n77                                                                                                                                                                                                                                                                                                                                                       4 DO NOT GET WAX ON YOUR SCREEN .\\n78                                                                                                                                                                                                                                                                           Hit F11 and you have full screen browsing ,  just move the cursor to the top of the screen for the controls .\\n79                                                                                                                                                                                                                                                                                                                          The screen really is too small ,  1024x600 is barely livable .\\n80                                                                                                                                                                                                                                With the battery in the back the computer has most of its weight in the back so the computer easily tips back when the screen is opened all the way up .\\n81                                                                                                                                                                                                                                                                                                                                                Screen brightness is very satisfactory .\\n82                                                                                                                                                                                                                                                                                      ASUS Docking is a program to have a quick menu on top of your screen to access all ASUS software .\\n83                                                                                                                                                                                                                                                                                                                             The screen is easy to read in outside lighting conditions .\\n84                                                                                                                                                                                                                                                                                                  My other HP laptop has a mat screen surface and is almost impossible to read outside .\\n85                                                                                                                                                                                                                                                                          Long battery life, sharp looking machine, fingerprint magnet,glossy screen=glare,ease of use and portability .\\n86                                                                                                                                                                                                                                                                                                               The most noticeable difference is the screen and keyboard functionality .\\n87                                                                                                                                                                                                                                                                                                 The cover and screen are glossy and it has a 92% keyboard which is plenty comfortable .\\n88                                                                                                                                                                                                                                          The battery life is excellent, with normal usage I can get about 7 hours easily, more if I turn off WIFI and turn down the screen brightness .\\n89   One of the downside I have noticed is that the netbook is heavy near the hinge because that's where the battery is located and if you want to put it on your lap while sitting, you have to put your hand on the bottom chassis so that the netbook doesn't tip over, and the screen doesn't bend all the way backwards which can be annoy, otherwise this is a really nice netbook .\\n90                                                                                                                                                                                                                                                                                                                       Screen is nice, and adequately sized, , use fullscreen browsing .\\n91                                                                                                                                                                                                                                                                 I also needed Web connectivity for research, a screen with a low squint factor and a keyboard that wasn't too cramped .\\n92                                                                                                                                                                                                                                                                                                                                                The screen size works just fine for me .\\n93                                                                                                                                                                                                                               Having the touchpad feature of expanding zooming the presentation on the screen is a nice feature, but I have to admit having never needing to use it   .\\n94                                                                                                                                                                                                               And it goes in that bag wrapped in the white paper plastic bag it was originally boxed up in, with another piece of packing plastic between the keyboard and the screen .\\n95                                                                                                                                                                                                                                                                                                                                          , I'm still getting used to the small screen .\\n96                                                                                                                                                                                                                                                                                                                                   Tiny screen compromises the experience of web surfing\\n97                                                                                                                                                                                                                                                                         I'll see the first black screen, it appears to be starting, and then stays with either a grey or black screen .\\n98                                                                                                                                                                                                                                                                                         3 sometimes the screen will all of a sudden distort and I have to re, start to get it to work .\\n99                                                                                                                                                                                                                                                                 1 keyboard still floats  2the screen goes to a solid blue screen either right after starting or after it sits a while .\\n100                                                                                                                                                                                                                                                                              Great battery life, decent sized screen, and the keyboard was large enough to be comfortable to type on .\\n101                                                                                                                                                                                                                                                                Very nice, in fact, though I strongly dislike glossy screens ,  no matter, I knew it would have one when I ordered it .\\n102                                                                                                                                                                                                                             The battery life has been very good, especially if you follow the rule of turning off the wireless and bluetooth, and turning down the screen brightness .\\n103                                                                                                                                                                                                                                                                                                                                9  screens, but felt that was too much of a sacrifice .\\n104                                                                                                                                                                                                                                                                                                                     The screen is small but still large enough to read comfortably   .\\n105                                                                                                                                                                                                                                                                                                                                       0 out of 5 stars Bad LCD Screen, October 7, 2009\\n106                                                                                                                                                                                                                                                                                                        I fired it up and out of the box it has a vertical red line on the LCD screen .\\n107                                                                                                                                                                                                                                                                                                                                                  just a big dark, screen paperweight .\\n108                                                                                                                                                                                                                                                                                                                       The netbook is light and sturdy, and it the screen looks great .\\n109                                                                                                                                                                                                                                                                                                                                  only 10, inch screen, small keyboard and no CD, ROM .\\n110                                                                                                                                                                                                                                                                                                         My advice is to visit a store to personally try the keyboard and screen size .\\n111                                                                                                                                                                                                                                                                                      Decent speed processor, nice screen quality, great asus softwares  , and very long battery life .\\n112                                                                                                                                                                                                                                                                                                                                                         pretty decent screen quality .\\n113                                                                                                                                                                                                   although the screen is relatively small to my eyes   it wasn't really hard to get used to the size and the screen is clear and bright, no prob reading articles and writing essays .\\n114                                                                                                                                                                                                                                                                                                    One of the things that I found difficult to get used to is the size of the screen .\\n115                                                                                                                                                                                                                                           10  can be enough for some, but it was kinda small for me, so the thing I did was try to max out the screens by removing unnecessary menus .\\n116                                                                                                                                                                                                                                                         When using Internet explorer or Firefox, press F11 and the screen will enlarge, giving you some additional freedom and space .\\n117                                                                                                                                                                                                                                                                                                                         GLOSSY SCREENS ARE THE STUPIDEST INVENTION OF THIS MILLENIUM .\\n118                                                                                                                                                                                                                                                                                                                              Seeing reflections on the screen is just plain annoying .\\n119                                                                                                                                                                                                                                                                          As new netbooks come out, look for the ones with matt screen and see if it has a good feature set and price .\\n120                                                                                                                                                                                                                                                                                                           The screen is very sharp and readable even with the tiny text at this size .\\n121                                                                                                                                                                                                                             With 1GB of RAM, it really isn't TOO bad to try to run Photoshop or something either  , but the screen would be too small for something like that anyhow .\\n122                                                                                                                                                                                                                             The battery life is unbelievable, even while using USB to transfer files, watching movies and surfing the internet with screen brightness all the way up .\\n123                                                                                                                                                                                                                     Factory settings to preserve battery life have the screen luminescence set to 50% but can easily be adjusted to the necessary ambience illumination you may need .\\n124                                                                                                                                                                                                                        The 1024x600 screen can be set, if you wish, so that it is a 1024x600 viewport to a larger 1024x768 desktop, reachable by moving the mouse to the screen edge .\\n125                                                                                                                                                                                                                                                                                                             This is useful if you have an application that demands a 1024x768 screen .\\n126                                                                                                                                                                                                                                                           Screen appearance is enhanced by Asus software, and I do like the appearance and visibility in various lighting situations .\\n127                                                                                                                                                                                                                                                                                                                            The 10 inch screen started getting to me on the Asus 1005 .\\n128                                                                                                                                                                                                                                                                                                      I love the capability of making the screen bigger or smaller with the mouse pad .\\n129                                                                                                                                                                                                                                                       The mouse pad is very sensitive so I sometimes find myself on a different part of the screen if I accidentally touch something .\\n130                                                                                                                                                                                                                                                                                                                 The screen is comfortable and sufficently bright for occassional use .\\n131                                                                                                                                                                                                                                                                                                                               The screen is crisp and clear, and the unit runs great .\\n132                                                                                                                                                                                                                                                                                                                              The greatest shortcoming is the small screen resolution .\\n133                                                                                                                                                                                                                                                       Yes, screen is small, video card is weak, and keyboard is cramped, but this is the case for other netbooks at this price point .\\n134                                                                                                                                                                                      I have not done an actual test of the full battery life but from what iv seen in general use it has around 9 hours while running wifi and other applications with around half screen brightness .\\n135                                                                                                                                                                                                                                                                                                        Streaming videos from Hulu and Netflix look incredible on this 10 inch screen .\\n136                                                                                                                                                                                                                                                                                  The only minor issue that I have with 1005HA is that it does not allow the screen to rotate further .\\n137                                                                                                                                                                                                                                                                                                          The screen rotation angle is good enough for putting the netbook on desktop .\\n138                                                                                                                                                                                                                         Due to the size of netbooks and a wide screen format, the screen should have been designed to be able to rotate all the way back to inline with the keyboard .\\n139                                                                                                                                                                                                                                                                                                            The screen is very bright and sharp with a maximum resolution of 1024x600 .\\n140                                                                                                                                                                                                                                                                       The 10, inch screen is bright and has good color, and the keyboard is only slightly smaller than a regular one .\\n141                                                                                                                                                                                                                                                                      Performance is good, screen very good, wireless very good, numerous USB ports, and keyboard layout is excellent .\\n142                                                                                                                                             It boots up quickly, especially after getting rid of the extra asus software that auto, boots at startup, its battery life is phenomenal, the screen is clear and easy to read, the keyboard is comfortable to type on and feels natural .\\n143                                                                                                                                               But even with that, and the glossy screen, fingerprint magnet, limited screen tilt, tinny speakers, and intermittent odd glitches, I still think it's a great value and would buy it again today if I were on the market for a netbook .\\n144                                                                                                                                                                                                                                                                                                                            Now the screen is cracked with big black blotches as well .\\n145                                                                                                                                                                                                                                                                                                                                                    Blue screen crashed several times .\\n146                                                                                                                                                                                                                                                                                                                    Hard to see full web pages on small screen, resolution inadequate .\\n147                                                                                                                                                                                                                Instead I convert DVDs to DVIX AVI files using Fair Use Wizard and load them on to memory slot card and they play great, 700mb files look fine on this size of screen .\\n148                                                                                                                                                                                                                                                                                  The screen resolution can be a little small at times, but that is a sacrifice I was willing to make .\\n149                                                                                                                                                                                                                                                                    Yes it does take some getting use to a smaller screen, the key board actually works better than my laptop though  .\\n150                                                                                                                                                                                                                                                               I was worried the screen size would be too small and uncomfortable to read, but it has been great for everything I run :\\n151                                                                                                                                                                                                                   Most of my professors teach from Power Points, and it makes my life so much simpler having the PPT on my screen that I can annotate while listening to the lecture .\\n152                                                                                                                                                                                                                                                                                 I have not accidentally knocked it over, but I think it could easily be done  the screen is glossy   .\\n153                                                                                                                                                                                                                                                                                                     Purchased this machine to enjoy the convenience of Windows and the larger screen .\\n154                                                                                                                                                                                                                                                                             years old, so the screen size was also a concern, but it is adequate for the type of things I use it for .\\n155                                                                                                                                                   As soon as you connect the VGA cable to an unknown projector and press the function key for projection, it automatically adjusts the size and resolution to fit the projector even if it cannot display properly on its own screen .\\n156                                                                                                                                                                                                                                                                                                                                      The keyboard is great and the screen looks good .\\n157                                                                                                                                                                                                                                                                                                                         It's also a shame that this model comes with a glossy screen .\\n158                                                                                                                                                                                                                                                                              I personally haven't had a problem with the screen, but it would be fairly unusable outdoors in the sun .\\n159                                                                                                                                                                                                                                                                      For this extra amount, I was looking for the larger screen, the longer battery life and the keyboard ergonomics .\\n160                                                                                                                                                                                                                                                                                       I have more productivity  flow  on a conventional laptop with a full sized screen and keyboard .\\n161                                                                                                                             This machine is plenty fast, it's just that if I try to do work with it ,  my office's order entry system as displayed on the netbook screen must be scrolled up and down since it's a  chopped  1024 x 600 height screen, instead of the more usual 786 .\\n162                                                                                                                                                                                                                                  you lose those 186 pixels and even one line of a large order maintenance screen can require you to have to break the flow of productivity to scroll .\\n163                                                                                                                                                                                                                                                                                                                                    The small screen is probably the biggest drawback .\\n164                                                                                                                                                                                                             Could be better and don't use the highest resolution unless you want all of your stuff to have the wrong aspect ration on the screen It flattens it to make more visible .\\n165                                                                                                                                                                                                                                                                                                           Browsing is amazingly better by using full screen mode on browser with F11 .\\n166                                                                                                                                                                                                                                                                                             That extra space the menu and address bar take up are sorely needed on this small screen .\\n167                                                                                                                                                                                                                                                                                                              In full screen browsing it is so much better that I would never go back .\\n168                                                                                                                                                                                           Because the screen is so small in order to get the standard 1024x 768 display without having to scroll the normal screen the screen has to be  smashed  so the display is slightly altered .\\n169                                                                                                                                                                                                                                            One hint ,  there's a setting that lets you  compress  the screen which makes everything smaller and allows you to fit more on the screen .\\n170                                                                                                                                                                                                           I mostly find that when I make typos, it's not because of the keyboard, it's because of the smallness of the screen, , I just can't see what I'm doing as well as a laptop .\\n171                                                                                                                                                                                                                                                                                                                         As others have noted, I wish the screen wasn't so reflective .\\n172                                                                                                                                                                                                                                                                     And maybe it's something I need to figure out how to fix, but I don't like the aspect ratio of the screen either .\\n173                                                                                                                                                                                                                                                                                                                       Has all the features of my bigger laptop except a large screen .\\n174                                                                                                                                                                                                                                                                                                                                                   1 inch screen is bigger than the 8 .\\n175                                                                                                                                                                                                                                                                                                                             I want a netbook for portability, not screen real estate .\\n176                                                                                                                                                                                                                                                                                                         , I was willing to downsize my screen size in favor of portability and speed .\",\n          \"                                                                                                                                                                                                 The voice prompts and maps are wonderful especially when driving after dark .\\n0                                                                                                                                                                               I also thought the the voice prompts of the 750 where more pleasant sounding than the 255w's .\\n1                                                                                                                                                                                           The 750 sounds more like a real female voice, where the 255w sounds more robotic .\\n2                                                                                                                                                                                                  I didn't have the problems with the sounds of the voices like others have .\\n3                                                                                                                                                                                                                                            Some of the voices are annoying .\\n4                                                                                                                                                                  My understanding is that Garmin really compressed the voice in this unit, far more than in previous units .\\n5                                                                                                                                            I like my older unit better ,  better voice quality and it simply tells you how far to the next turn and what direction to turn .\\n6                                                                                                                                                                                                                      The quality of the voice   leaves a bit to be desired .\\n7                    The text to speech is great for not having to look down at the screen endangering yourself and others on the road and after the voice updates the Garmin put out for the 255W the scratchiness and robotic sounding voice became crisp and very audible .\\n8                                                                                                                                                                                      I note that a competitor is coming out with a Homer Simpson version of the GPS voices .\\n9                                                                                                       I wish that the GPS had a remote control that allowed you to change screens without having to lean forward while driving, or better yet, responded to voice commands .\\n10  First I want to address the  potential problem  on 255w which is the robotic sound, I personally think it is absolutely understandable, the female sound is a little vauge at some point, however the man's   voice is very clear to me, so this is not a problem for me .\\n11                                                                                     Some of the negatives that were mentioned that I did not find to be true were that you can't understand the voice   The possible list could go on and on but I think you get the idea .\\n12                                                                            The voice is somewhat robotic and some street names are mispronounced, but it's all understandable, I read comments in some reviews that the voice is not loud enough, but I have no problem   .\\n13                                                                                                                                                                                                                 The text, to, speech is very good, with very clear voices .\\n14                                                                                                                                                                                                                      You have your choice of several languages and voices .\\n15                                                                                                                                                                      Also, for no extra charge, you are able to download several voices and vehicles from the Garmin site .\\n16                                                                                                                                                                                                                         For instance, you can change the voice of the GPS .\\n17                                                                                                                                                                     The voice descriptions of the routes are clear and easily understood, even for me with a hearing loss .\\n18                                                                                                                                                   At volumes of 60% or above, there is so much distortion that the voices sound like they are coming from a blown speaker .\\n19                                                                                                                                                                                  It seems to be caused by Garmin decreasing the file sizes and quality of the voice files .\\n20                                                                                                                                                                                                            On previous models like the 350 and 360 the voice files were 100\\n21                                                                                                                                                                                                       Its almost impossible to understand the voice as its metallic tinny .\\n22                                                                                                                                                                                  Many a times, this is a distraction as you will be wondering what the voice command said .\\n23                                                              Other than the Magellan's screen being an inch smaller ,  but really noticeable ,  the Magellan did not have text to voice, and often would take a much longer route even though we told it to take freeways .\\n24                                                                                                The most noticeable thing is that the screen is much easier to read, and that the text to voice is extremely valuable and much better than a beep just as you need to turn .\\n25                                                                                                                                                                                                                                 And the voice and streets match perfectly .\\n26                                                                                                                                                                                                   the female voice   is much clearer than Jack, the male American English .\\n27                                                                                                                                              I couldn't understand the Australian or English voices, but Samantha is clear as a bell and can even be heard over the radio .\\n28                                                                                                                                                                                       The screen is easy to see, the voice tells you where you are and it's very accurate .\\n29                                                                                     When the voices are turned up loud enough for my satisfaction, the speakers sound like they are overpowered, making a distorted noise during the loudest parts of the system's voices .\\n30                                                                                                                                                                                           It seems that the female voices do not distort quite as much as the male voices .\\n31                                                                                                                                                                                                                                               The voices seem too robotic .\\n32                                                                                                                                                                                                      However, I much prefer robotic voices to no spoken directions at all .\\n33                                                                                                                                                                                                 Everybody said the same thing, great unit, but poor voice in the TTS mode .\\n34                                                                                                                                                                                                    So I called Garmin and ask if any fix was comming out to fix the voice .\\n35                                                                                                                                                                                                                        I bought the 255W and the voice was tinny and soft .\\n36                                                                                                                                                                                                                                  Voice commands were mechanical but clear .\\n37                                                                                                                                                                                                                     I had no problem with the clarity of the voice system .\\n38                                                                                                                                                                                    A clear voice tells me when the turns are coming up, as well as the names of the roads .\\n39                                                                                                                                                                                                    the unit takes you on weird routes and people don't like the TTS voice .\\n40                                                                                                                                                       The user remarks on voice on saying the street name was important to me and easy use of device so too was important .\\n41                                                                                                                                                                                                      The voice directions are great, but sometimes it mispronounces names .\\n42                                                                                                                                                          The default voice is extremely clear and easy to understand, so I never even tried any of the alternative voices .\\n43                                                                                                     I like being able to select different voices, however when I am using Daniel with the English accent, he seems to be clearing his throat at the end of his directions .\\n44                                                                                                                                     The voice instructions given are clear, but as few people mentioned in their reviews, you need to get familiar with the pronunciation .\\n45                                                                                                                                       Not only the voice gives turn, by, turn instructions, the map on the screen also has a thick purple line indicating the route ahead .\\n46                                                                                                  This is a big help as I was essentially following that thick purple line while listening to the voice instructions to make sure I was make correct turns when in Buffalo .\\n47                                                                                                                     Often when I'd get a phone call or was talking to someone, it would have been nice to just have the ability to quickly make the voice directions mute .\\n48                                                                                                                                                            I have no problems reading it in bright sunlight, but with the voice to text, the screen is almost unnecessary .\\n49                                                                                                                                                                                                          I had read about concerns the voice prompts were not loud enough .\\n50                                                    I also love the small things, such as being able to download new voices, and vehicles, I plan on getting all the vehicles has on their site, because there is one for every season, for every mood, every time of year .\\n51                                                                                                                                                                                                          The screen is crystal clear and the voice in it is nice and loud .\\n52                                                                                                                                                      There are different voices you can choose to give you your directions, even Australian, American and British English .\\n53                                                                                                                                                                   I agree that the sound isn't great for the TTS voice but it's definitely audible and I like it over all .\\n54                                                                                                                                                                                                                                        The non TTS voice is more pleasant .\\n55                                                                                                                                                  The only complaint that I have if you even want to call it that is that the text, to, speech voices sound pretty robotic .\\n56                                                                                                                                                                                                              You can also change the voice you hear and your vehicle type .\\n57                                                 The Voice Prompted turn by turn directions make it easy to get from one place to another without having to look up at the GPS, but of course you also get turn, by, turn directions on the GPS with a touch of the screen .\\n58                                                                                                                                                   The unit worked well and I had no issue with the voice as I had my window up all the time and did not have the radio on .\\n59                                                                                                                                                                                                           I switched over to the male voice which I happen to like better .\\n60                                                    The screen is clear and the instructions are good though again if you have a lot of exits or turns all in the same spot you have to be careful to just listen to the voice and watch the road or you can miss the turn .\\n61                                                                                                                          Under the Services link on the Garmin site look for the Goodies section and The Garmin Garage link for extra car images and sometimes voices too .\\n62                                                                                                                                                                   The only complaint I have is that the voice is a little bit tinny especially if the volume is turned up .\\n63                                                                                                                                                                   The voice directions give you fair warning when you are about to take a turn, which is really important .\\n64                                                                                                                                                                                                                         The voice is annoying as heck too, no personality .\\n65                                                                                                                                                                                                       The voice it has is clear and readable even for my 79 year old ears .\\n66                                                                                                                                                                                                                                 The voice is clear and easy to understand .\\n67                                                                                                              Since my near vision isn't very good I like the combination of the voice prompts and the big white arrow indicating an approaching turn, especially at night .\\n68                                                                                                                                                                                                                                0 out of 5 stars No Jill voice on this one !\\n69                                                                                                                                                                      I rated this item with 4 stars because it does not have Jill's voice and there's no way to put it in .\\n70                                                                                                                                            All the english voices you have suck big time, you will not like not even one and the new Samantha voice really sucks big time .\\n71                                           What they did was, they made new voice files a lot smaller that on the previous models and all the new voices sound like crap and there's no way to copy the voices from other devices like you use to with the previous models .\\n72                                                                                                   If you input an address on where you want to go, it tells you how to get there in very clear graphics and also with a computer voice that is not obnoxious to listen to .\\n73                                         I'm really glad I bought it though, and like the easy to read graphics, the voice used to tell you the name of the street you are to turn on, the uncannily accurate estimates of mileage and time of arrival at your destination .\\n74                                                                                                                                                                                                          Map is bright and detailed, voice directions are clear and loud  .\\n75                                                                                                                                                                                      The voice prompts  are mostly clear, sometimes quirky and the volume levels adequate .\\n76                                                                                                                                                                                                           The voice system gave ample time to make turns and lane changes .\\n77                                                                                                                                                                                                 Several voice options will announce both directions and street names, etc .\\n78                                                                                                                                                                                                                     From reviews, I thought there might only be one voice .\\n79                                                                                                                                                              The pre, installed english voice is a little robotic but if you switch to the british american it is perfect .\\n80                                                                                                                                                          After ample research   I selected the Nuvi 255W for it's abundant features, wider screen and voice communication .\\n81                                                                                                                                           VOICE ACTIVATION DID STOP WORKING & THEN CAME BACK IN GERMAN ,  JUST CHANGED IT BACK ENGLISH & HAS BEEN WORKING WELL SINCE THEN .\\n82                                                                                                                                                                                 Love that you can change the voice person talking on this one, my last one didn't do that .\\n83                                                                                                                                                                   Others have said that the voice directions leave something to be desired in terms of volume and clarity .\\n84                                                 I must say, though, that I believed it would have a certain cachet to use the British English female voice that is a standard feature but found that she could not properly pronounce some of the street names in my area .\\n85                                                                                                                                                                                                                               The voice commands are excellent and timely .\\n86                                                                                            The model 255W that we received seemed to take longer to find a satelite, and the man's voice was very fast and not as clear, and at times seemed a bit confused in directions .\\n87                                                                                                                                                                                     The voice is very clear and gives plenty of warning when we need to make a turn ahead .\"\n        ],\n        \"semantic_type\": \"\",\n        \"description\": \"\"\n      }\n    }\n  ]\n}"
            }
          },
          "metadata": {},
          "execution_count": 56
        }
      ]
    },
    {
      "cell_type": "code",
      "source": [
        "from nltk.stem import WordNetLemmatizer\n",
        "import nltk\n",
        "import string\n",
        "nltk.download('punkt')\n",
        "nltk.download('wordnet')\n",
        "\n",
        "remove_punct_dict = dict((ord(punct), None) for punct in string.punctuation)\n",
        "lemmar = WordNetLemmatizer()\n",
        "\n",
        "def LemTokens(tokens):\n",
        "    return [lemmar.lemmatize(token) for token in tokens]\n",
        "\n",
        "def LemNormalize(text):\n",
        "    return LemTokens(nltk.word_tokenize(text.lower().translate(remove_punct_dict)))"
      ],
      "metadata": {
        "colab": {
          "base_uri": "https://localhost:8080/"
        },
        "id": "H5KIgiHa2Vv_",
        "outputId": "cdc7eb92-9cd2-41bf-aae1-58ab1df26c53"
      },
      "execution_count": 59,
      "outputs": [
        {
          "output_type": "stream",
          "name": "stderr",
          "text": [
            "[nltk_data] Downloading package punkt to /root/nltk_data...\n",
            "[nltk_data]   Package punkt is already up-to-date!\n",
            "[nltk_data] Downloading package wordnet to /root/nltk_data...\n",
            "[nltk_data]   Package wordnet is already up-to-date!\n"
          ]
        }
      ]
    },
    {
      "cell_type": "code",
      "source": [
        "tfidf_vect = TfidfVectorizer(tokenizer=LemNormalize, stop_words='english' ,\n",
        "                             ngram_range=(1,2), min_df=0.05, max_df=0.85 )\n",
        "\n",
        "feature_vect = tfidf_vect.fit_transform(document_df['opinion_text'])\n",
        "\n",
        "km_cluster = KMeans(n_clusters=5, max_iter=10000, random_state=0)\n",
        "km_cluster.fit(feature_vect)\n",
        "cluster_label = km_cluster.labels_\n",
        "cluster_centers = km_cluster.cluster_centers_\n",
        "document_df['cluster_label'] = cluster_label"
      ],
      "metadata": {
        "colab": {
          "base_uri": "https://localhost:8080/"
        },
        "id": "47V4tHzbvw9r",
        "outputId": "bc74c550-15b8-442b-da57-83be71771e92"
      },
      "execution_count": 60,
      "outputs": [
        {
          "output_type": "stream",
          "name": "stderr",
          "text": [
            "/usr/local/lib/python3.10/dist-packages/sklearn/feature_extraction/text.py:528: UserWarning: The parameter 'token_pattern' will not be used since 'tokenizer' is not None'\n",
            "  warnings.warn(\n",
            "/usr/local/lib/python3.10/dist-packages/sklearn/feature_extraction/text.py:409: UserWarning: Your stop_words may be inconsistent with your preprocessing. Tokenizing the stop words generated tokens ['ha', 'le', 'u', 'wa'] not in stop_words.\n",
            "  warnings.warn(\n",
            "/usr/local/lib/python3.10/dist-packages/sklearn/cluster/_kmeans.py:870: FutureWarning: The default value of `n_init` will change from 10 to 'auto' in 1.4. Set the value of `n_init` explicitly to suppress the warning\n",
            "  warnings.warn(\n"
          ]
        }
      ]
    },
    {
      "cell_type": "code",
      "source": [
        "from sklearn.metrics.pairwise import cosine_similarity\n",
        "\n",
        "# cluster_label=1인 데이터는 호텔로 군집화된 데이터임. DATAFRAME에서 해당 인덱스를 추출\n",
        "hotel_indexes = document_df[document_df['cluster_label']==1].index\n",
        "print('호텔로 군집화된 문서들의 dataframe index:',hotel_indexes)\n",
        "\n",
        "# 호텔 군집화된 데이터 중 첫번째 문서를 추출해 파일명 표시.\n",
        "comparison_docname = document_df.iloc[hotel_indexes[0]][\"filename\"]\n",
        "print(\"##### 비교 기준 문서명 \", comparison_docname, ' 와 타문서 유사도 #####')\n",
        "\n",
        "# document_df에서 추출한 index 객체를 feature_vect로 입력해 호텔 군집화된 feature-vect 추출, 이를 이용해 호텔로 군집화된 문서 중 첫번째문서와 다른 문서간의 코사인 유사도 측정\n",
        "similarity_pair = cosine_similarity(feature_vect[hotel_indexes[0]] , feature_vect[hotel_indexes])\n",
        "print(similarity_pair)"
      ],
      "metadata": {
        "colab": {
          "base_uri": "https://localhost:8080/"
        },
        "id": "GE3R2Jr-vxOS",
        "outputId": "a40eaf80-6c59-4376-eee1-e35ef5e45a3a"
      },
      "execution_count": 61,
      "outputs": [
        {
          "output_type": "stream",
          "name": "stdout",
          "text": [
            "호텔로 군집화된 문서들의 dataframe index: Index([4, 5, 14, 15, 23, 25, 30, 33, 38, 50], dtype='int64')\n",
            "##### 비교 기준 문서명  comfort_toyota_camry_2007  와 타문서 유사도 #####\n",
            "[[1.         0.27273923 0.83969704 0.29443403 0.22182484 0.24145336\n",
            "  0.27804647 0.51181434 0.24626359 0.07459289]]\n"
          ]
        }
      ]
    },
    {
      "cell_type": "code",
      "source": [
        "import seaborn as sns\n",
        "import numpy as np\n",
        "import matplotlib.pyplot as plt\n",
        "%matplotlib inline\n",
        "\n",
        "#첫번째 문서와 타문서 간 유사도 큰순으로 정렬한 인덱스를 추출하되 자기 자신은 제외.\n",
        "sorted_index=similarity_pair.argsort()[:,::-1]\n",
        "sorted_index=sorted_index[:,1:]\n",
        "\n",
        "#유사도가 큰 순으로 hotel_indexes를 추출해 재정렬\n",
        "hotel_sorted_indexes=hotel_indexes[sorted_index.reshape(-1)]\n",
        "\n",
        "#유사도가 큰 순으로 유사도값을 재정렬하되 자기자신은 제외\n",
        "hotel_1_sim_value = np.sort(similarity_pair.reshape(-1))[::-1]\n",
        "hotel_1_sim_value=hotel_1_sim_value[1:]\n",
        "\n",
        "#유사도가 큰 순으로 정렬된 인덱스와 유사도 값을 이용해 파일명과 유사도 값을 막대 그래프로 시가고하\n",
        "hotel_1_sim_df=pd.DataFrame()\n",
        "hotel_1_sim_df['filename']=document_df.iloc[hotel_sorted_indexes]['filename']\n",
        "hotel_1_sim_df['similarity']=hotel_1_sim_value\n",
        "\n",
        "\n",
        "sns.barplot(x=\"similarity\", y=\"filename\", data=hotel_1_sim_df)\n",
        "plt.title(comparison_docname)\n",
        "plt.show()"
      ],
      "metadata": {
        "colab": {
          "base_uri": "https://localhost:8080/",
          "height": 472
        },
        "id": "PG2AN00-vxQ0",
        "outputId": "e1612a59-1770-4f1b-e293-11c8e62f4a09"
      },
      "execution_count": 62,
      "outputs": [
        {
          "output_type": "display_data",
          "data": {
            "text/plain": [
              "<Figure size 640x480 with 1 Axes>"
            ],
            "image/png": "[encoded data removed]"
          },
          "metadata": {}
        }
      ]
    },
    {
      "cell_type": "markdown",
      "source": [
        "## 8-9. 한글 텍스트 처리 - 네이버 영화 평점 감성 분석\n",
        "한글 형태소 패키지 KoNLPy. mecab 윈도우에서 구동 안됨"
      ],
      "metadata": {
        "id": "_IF_ia_avxTU"
      }
    },
    {
      "cell_type": "code",
      "source": [
        "!curl -s https://raw.githubusercontent.com/teddylee777/machine-learning/master/99-Misc/01-Colab/mecab-colab.sh | bash"
      ],
      "metadata": {
        "id": "T1jOY0XHvxW1"
      },
      "execution_count": null,
      "outputs": []
    },
    {
      "cell_type": "code",
      "source": [
        "pip install konlpy"
      ],
      "metadata": {
        "colab": {
          "base_uri": "https://localhost:8080/"
        },
        "id": "RdWnFiexvxig",
        "outputId": "e71d65a1-020c-4a3c-ed6c-edbb1080ace9"
      },
      "execution_count": 63,
      "outputs": [
        {
          "output_type": "stream",
          "name": "stdout",
          "text": [
            "Requirement already satisfied: konlpy in /usr/local/lib/python3.10/dist-packages (0.6.0)\n",
            "Requirement already satisfied: JPype1>=0.7.0 in /usr/local/lib/python3.10/dist-packages (from konlpy) (1.5.0)\n",
            "Requirement already satisfied: lxml>=4.1.0 in /usr/local/lib/python3.10/dist-packages (from konlpy) (4.9.4)\n",
            "Requirement already satisfied: numpy>=1.6 in /usr/local/lib/python3.10/dist-packages (from konlpy) (1.25.2)\n",
            "Requirement already satisfied: packaging in /usr/local/lib/python3.10/dist-packages (from JPype1>=0.7.0->konlpy) (24.0)\n"
          ]
        }
      ]
    },
    {
      "cell_type": "code",
      "source": [
        "import pandas as pd\n",
        "\n",
        "train_df = pd.read_csv('./ratings_train.txt', sep='\\t')\n",
        "train_df.head(3)"
      ],
      "metadata": {
        "colab": {
          "base_uri": "https://localhost:8080/",
          "height": 143
        },
        "id": "8_z1e-Ttvxvg",
        "outputId": "54aafcd1-9766-4d70-8fa4-cbb82b0fb286"
      },
      "execution_count": 67,
      "outputs": [
        {
          "output_type": "execute_result",
          "data": {
            "text/plain": [
              "         id                           document  label\n",
              "0   9976970                아 더빙.. 진짜 짜증나네요 목소리      0\n",
              "1   3819312  흠...포스터보고 초딩영화줄....오버연기조차 가볍지 않구나      1\n",
              "2  10265843                  너무재밓었다그래서보는것을추천한다      0"
            ],
            "text/html": [
              "\n",
              "  <div id=\"df-0409a0bb-caa7-4167-ab3f-b77cee6de045\" class=\"colab-df-container\">\n",
              "    <div>\n",
              "<style scoped>\n",
              "    .dataframe tbody tr th:only-of-type {\n",
              "        vertical-align: middle;\n",
              "    }\n",
              "\n",
              "    .dataframe tbody tr th {\n",
              "        vertical-align: top;\n",
              "    }\n",
              "\n",
              "    .dataframe thead th {\n",
              "        text-align: right;\n",
              "    }\n",
              "</style>\n",
              "<table border=\"1\" class=\"dataframe\">\n",
              "  <thead>\n",
              "    <tr style=\"text-align: right;\">\n",
              "      <th></th>\n",
              "      <th>id</th>\n",
              "      <th>document</th>\n",
              "      <th>label</th>\n",
              "    </tr>\n",
              "  </thead>\n",
              "  <tbody>\n",
              "    <tr>\n",
              "      <th>0</th>\n",
              "      <td>9976970</td>\n",
              "      <td>아 더빙.. 진짜 짜증나네요 목소리</td>\n",
              "      <td>0</td>\n",
              "    </tr>\n",
              "    <tr>\n",
              "      <th>1</th>\n",
              "      <td>3819312</td>\n",
              "      <td>흠...포스터보고 초딩영화줄....오버연기조차 가볍지 않구나</td>\n",
              "      <td>1</td>\n",
              "    </tr>\n",
              "    <tr>\n",
              "      <th>2</th>\n",
              "      <td>10265843</td>\n",
              "      <td>너무재밓었다그래서보는것을추천한다</td>\n",
              "      <td>0</td>\n",
              "    </tr>\n",
              "  </tbody>\n",
              "</table>\n",
              "</div>\n",
              "    <div class=\"colab-df-buttons\">\n",
              "\n",
              "  <div class=\"colab-df-container\">\n",
              "    <button class=\"colab-df-convert\" onclick=\"convertToInteractive('df-0409a0bb-caa7-4167-ab3f-b77cee6de045')\"\n",
              "            title=\"Convert this dataframe to an interactive table.\"\n",
              "            style=\"display:none;\">\n",
              "\n",
              "  <svg xmlns=\"http://www.w3.org/2000/svg\" height=\"24px\" viewBox=\"0 -960 960 960\">\n",
              "    <path d=\"M120-120v-720h720v720H120Zm60-500h600v-160H180v160Zm220 220h160v-160H400v160Zm0 220h160v-160H400v160ZM180-400h160v-160H180v160Zm440 0h160v-160H620v160ZM180-180h160v-160H180v160Zm440 0h160v-160H620v160Z\"/>\n",
              "  </svg>\n",
              "    </button>\n",
              "\n",
              "  <style>\n",
              "    .colab-df-container {\n",
              "      display:flex;\n",
              "      gap: 12px;\n",
              "    }\n",
              "\n",
              "    .colab-df-convert {\n",
              "      background-color: #E8F0FE;\n",
              "      border: none;\n",
              "      border-radius: 50%;\n",
              "      cursor: pointer;\n",
              "      display: none;\n",
              "      fill: #1967D2;\n",
              "      height: 32px;\n",
              "      padding: 0 0 0 0;\n",
              "      width: 32px;\n",
              "    }\n",
              "\n",
              "    .colab-df-convert:hover {\n",
              "      background-color: #E2EBFA;\n",
              "      box-shadow: 0px 1px 2px rgba(60, 64, 67, 0.3), 0px 1px 3px 1px rgba(60, 64, 67, 0.15);\n",
              "      fill: #174EA6;\n",
              "    }\n",
              "\n",
              "    .colab-df-buttons div {\n",
              "      margin-bottom: 4px;\n",
              "    }\n",
              "\n",
              "    [theme=dark] .colab-df-convert {\n",
              "      background-color: #3B4455;\n",
              "      fill: #D2E3FC;\n",
              "    }\n",
              "\n",
              "    [theme=dark] .colab-df-convert:hover {\n",
              "      background-color: #434B5C;\n",
              "      box-shadow: 0px 1px 3px 1px rgba(0, 0, 0, 0.15);\n",
              "      filter: drop-shadow(0px 1px 2px rgba(0, 0, 0, 0.3));\n",
              "      fill: #FFFFFF;\n",
              "    }\n",
              "  </style>\n",
              "\n",
              "    <script>\n",
              "      const buttonEl =\n",
              "        document.querySelector('#df-0409a0bb-caa7-4167-ab3f-b77cee6de045 button.colab-df-convert');\n",
              "      buttonEl.style.display =\n",
              "        google.colab.kernel.accessAllowed ? 'block' : 'none';\n",
              "\n",
              "      async function convertToInteractive(key) {\n",
              "        const element = document.querySelector('#df-0409a0bb-caa7-4167-ab3f-b77cee6de045');\n",
              "        const dataTable =\n",
              "          await google.colab.kernel.invokeFunction('convertToInteractive',\n",
              "                                                    [key], {});\n",
              "        if (!dataTable) return;\n",
              "\n",
              "        const docLinkHtml = 'Like what you see? Visit the ' +\n",
              "          '<a target=\"_blank\" href=https://colab.research.google.com/notebooks/data_table.ipynb>data table notebook</a>'\n",
              "          + ' to learn more about interactive tables.';\n",
              "        element.innerHTML = '';\n",
              "        dataTable['output_type'] = 'display_data';\n",
              "        await google.colab.output.renderOutput(dataTable, element);\n",
              "        const docLink = document.createElement('div');\n",
              "        docLink.innerHTML = docLinkHtml;\n",
              "        element.appendChild(docLink);\n",
              "      }\n",
              "    </script>\n",
              "  </div>\n",
              "\n",
              "\n",
              "<div id=\"df-462a3f1a-6ccf-4ecf-87b8-a8d943a60fc2\">\n",
              "  <button class=\"colab-df-quickchart\" onclick=\"quickchart('df-462a3f1a-6ccf-4ecf-87b8-a8d943a60fc2')\"\n",
              "            title=\"Suggest charts\"\n",
              "            style=\"display:none;\">\n",
              "\n",
              "<svg xmlns=\"http://www.w3.org/2000/svg\" height=\"24px\"viewBox=\"0 0 24 24\"\n",
              "     width=\"24px\">\n",
              "    <g>\n",
              "        <path d=\"M19 3H5c-1.1 0-2 .9-2 2v14c0 1.1.9 2 2 2h14c1.1 0 2-.9 2-2V5c0-1.1-.9-2-2-2zM9 17H7v-7h2v7zm4 0h-2V7h2v10zm4 0h-2v-4h2v4z\"/>\n",
              "    </g>\n",
              "</svg>\n",
              "  </button>\n",
              "\n",
              "<style>\n",
              "  .colab-df-quickchart {\n",
              "      --bg-color: #E8F0FE;\n",
              "      --fill-color: #1967D2;\n",
              "      --hover-bg-color: #E2EBFA;\n",
              "      --hover-fill-color: #174EA6;\n",
              "      --disabled-fill-color: #AAA;\n",
              "      --disabled-bg-color: #DDD;\n",
              "  }\n",
              "\n",
              "  [theme=dark] .colab-df-quickchart {\n",
              "      --bg-color: #3B4455;\n",
              "      --fill-color: #D2E3FC;\n",
              "      --hover-bg-color: #434B5C;\n",
              "      --hover-fill-color: #FFFFFF;\n",
              "      --disabled-bg-color: #3B4455;\n",
              "      --disabled-fill-color: #666;\n",
              "  }\n",
              "\n",
              "  .colab-df-quickchart {\n",
              "    background-color: var(--bg-color);\n",
              "    border: none;\n",
              "    border-radius: 50%;\n",
              "    cursor: pointer;\n",
              "    display: none;\n",
              "    fill: var(--fill-color);\n",
              "    height: 32px;\n",
              "    padding: 0;\n",
              "    width: 32px;\n",
              "  }\n",
              "\n",
              "  .colab-df-quickchart:hover {\n",
              "    background-color: var(--hover-bg-color);\n",
              "    box-shadow: 0 1px 2px rgba(60, 64, 67, 0.3), 0 1px 3px 1px rgba(60, 64, 67, 0.15);\n",
              "    fill: var(--button-hover-fill-color);\n",
              "  }\n",
              "\n",
              "  .colab-df-quickchart-complete:disabled,\n",
              "  .colab-df-quickchart-complete:disabled:hover {\n",
              "    background-color: var(--disabled-bg-color);\n",
              "    fill: var(--disabled-fill-color);\n",
              "    box-shadow: none;\n",
              "  }\n",
              "\n",
              "  .colab-df-spinner {\n",
              "    border: 2px solid var(--fill-color);\n",
              "    border-color: transparent;\n",
              "    border-bottom-color: var(--fill-color);\n",
              "    animation:\n",
              "      spin 1s steps(1) infinite;\n",
              "  }\n",
              "\n",
              "  @keyframes spin {\n",
              "    0% {\n",
              "      border-color: transparent;\n",
              "      border-bottom-color: var(--fill-color);\n",
              "      border-left-color: var(--fill-color);\n",
              "    }\n",
              "    20% {\n",
              "      border-color: transparent;\n",
              "      border-left-color: var(--fill-color);\n",
              "      border-top-color: var(--fill-color);\n",
              "    }\n",
              "    30% {\n",
              "      border-color: transparent;\n",
              "      border-left-color: var(--fill-color);\n",
              "      border-top-color: var(--fill-color);\n",
              "      border-right-color: var(--fill-color);\n",
              "    }\n",
              "    40% {\n",
              "      border-color: transparent;\n",
              "      border-right-color: var(--fill-color);\n",
              "      border-top-color: var(--fill-color);\n",
              "    }\n",
              "    60% {\n",
              "      border-color: transparent;\n",
              "      border-right-color: var(--fill-color);\n",
              "    }\n",
              "    80% {\n",
              "      border-color: transparent;\n",
              "      border-right-color: var(--fill-color);\n",
              "      border-bottom-color: var(--fill-color);\n",
              "    }\n",
              "    90% {\n",
              "      border-color: transparent;\n",
              "      border-bottom-color: var(--fill-color);\n",
              "    }\n",
              "  }\n",
              "</style>\n",
              "\n",
              "  <script>\n",
              "    async function quickchart(key) {\n",
              "      const quickchartButtonEl =\n",
              "        document.querySelector('#' + key + ' button');\n",
              "      quickchartButtonEl.disabled = true;  // To prevent multiple clicks.\n",
              "      quickchartButtonEl.classList.add('colab-df-spinner');\n",
              "      try {\n",
              "        const charts = await google.colab.kernel.invokeFunction(\n",
              "            'suggestCharts', [key], {});\n",
              "      } catch (error) {\n",
              "        console.error('Error during call to suggestCharts:', error);\n",
              "      }\n",
              "      quickchartButtonEl.classList.remove('colab-df-spinner');\n",
              "      quickchartButtonEl.classList.add('colab-df-quickchart-complete');\n",
              "    }\n",
              "    (() => {\n",
              "      let quickchartButtonEl =\n",
              "        document.querySelector('#df-462a3f1a-6ccf-4ecf-87b8-a8d943a60fc2 button');\n",
              "      quickchartButtonEl.style.display =\n",
              "        google.colab.kernel.accessAllowed ? 'block' : 'none';\n",
              "    })();\n",
              "  </script>\n",
              "</div>\n",
              "\n",
              "    </div>\n",
              "  </div>\n"
            ],
            "application/vnd.google.colaboratory.intrinsic+json": {
              "type": "dataframe",
              "variable_name": "train_df"
            }
          },
          "metadata": {},
          "execution_count": 67
        }
      ]
    },
    {
      "cell_type": "code",
      "source": [
        "train_df['label'].value_counts()"
      ],
      "metadata": {
        "colab": {
          "base_uri": "https://localhost:8080/"
        },
        "id": "KNfGEEEmHrDg",
        "outputId": "3f0fb2a4-27ac-4c96-c4e6-ea6a0377e20b"
      },
      "execution_count": 68,
      "outputs": [
        {
          "output_type": "execute_result",
          "data": {
            "text/plain": [
              "label\n",
              "0    75173\n",
              "1    74827\n",
              "Name: count, dtype: int64"
            ]
          },
          "metadata": {},
          "execution_count": 68
        }
      ]
    },
    {
      "cell_type": "code",
      "source": [
        "import re\n",
        "\n",
        "train_df = train_df.fillna(' ')\n",
        "# 정규 표현식을 이용해 숫자를 공백으로 변경(정규 표현식으로 \\d는 숫자를 의미함)\n",
        "train_df['document'] = train_df['document'].apply(lambda x : re.sub(r'\\d+', ' ', x))\n",
        "\n",
        "# 테스트 데이터 세트를 로딩하고 동일하게 Null 및 숫자를 공백으로 변환\n",
        "test_df = pd.read_csv('./ratings_test.txt', sep='\\t')\n",
        "test_df = test_df.fillna(' ')\n",
        "test_df['document'] = test_df['document'].apply(lambda x : re.sub(r'\\d+', ' ', x))\n",
        "\n",
        "# id 칼럼 삭제 수행\n",
        "train_df.drop('id', axis=1, inplace=True)\n",
        "test_df.drop('id', axis=1, inplace=True)"
      ],
      "metadata": {
        "id": "no4QR7PaH-X_"
      },
      "execution_count": 70,
      "outputs": []
    },
    {
      "cell_type": "code",
      "source": [
        "from konlpy.tag import Twitter\n",
        "\n",
        "twitter = Twitter()\n",
        "def tw_tokenizer(text):\n",
        "  # 입력 인자로 들어온 텍스트를 형태소 단어로 토큰화해 리스트 형태로 반환\n",
        "  tokens_ko = twitter.morphs(text)\n",
        "  return tokens_ko"
      ],
      "metadata": {
        "colab": {
          "base_uri": "https://localhost:8080/"
        },
        "id": "Ap--gsp2IiBj",
        "outputId": "b9063743-f78a-4b1a-96f6-1ec9c493f7a9"
      },
      "execution_count": 71,
      "outputs": [
        {
          "output_type": "stream",
          "name": "stderr",
          "text": [
            "/usr/local/lib/python3.10/dist-packages/konlpy/tag/_okt.py:17: UserWarning: \"Twitter\" has changed to \"Okt\" since KoNLPy v0.4.5.\n",
            "  warn('\"Twitter\" has changed to \"Okt\" since KoNLPy v0.4.5.')\n"
          ]
        }
      ]
    },
    {
      "cell_type": "code",
      "source": [
        "from sklearn.feature_extraction.text import TfidfVectorizer\n",
        "from sklearn.linear_model import LogisticRegression\n",
        "from sklearn.model_selection import GridSearchCV\n",
        "\n",
        "# Twitter 객체의 morphs() 객체를 이용한 tokenizer를 사용, ngram_range는 (1,2)\n",
        "tfidf_vect = TfidfVectorizer(tokenizer=tw_tokenizer, ngram_range=(1,2), min_df=3, max_df=0.9)\n",
        "tfidf_vect.fit(train_df['document'])\n",
        "tfidf_matrix_train = tfidf_vect.transform(train_df['document'])"
      ],
      "metadata": {
        "colab": {
          "base_uri": "https://localhost:8080/"
        },
        "id": "amNvlFr6I3tw",
        "outputId": "c11d6fe3-2179-412e-edc2-7c9b00e266c1"
      },
      "execution_count": 72,
      "outputs": [
        {
          "output_type": "stream",
          "name": "stderr",
          "text": [
            "/usr/local/lib/python3.10/dist-packages/sklearn/feature_extraction/text.py:528: UserWarning: The parameter 'token_pattern' will not be used since 'tokenizer' is not None'\n",
            "  warnings.warn(\n"
          ]
        }
      ]
    },
    {
      "cell_type": "code",
      "source": [
        "# 로지스틱 회귀를 이용해 감정 분석 분류 수행\n",
        "lg_clf = LogisticRegression(random_state=0)\n",
        "\n",
        "# 파라미터 C 최적화를 위해 GridSearchCV를 이용\n",
        "params = {'C': [1,3.5,4.5,5.5,10]}\n",
        "\n",
        "grid_cv = GridSearchCV(lg_clf, param_grid=params, cv=3, scoring='accuracy', verbose=1)\n",
        "grid_cv.fit(tfidf_matrix_train, train_df['label'])\n",
        "print(grid_cv.best_params_, round(grid_cv.best_score_, 4))"
      ],
      "metadata": {
        "colab": {
          "base_uri": "https://localhost:8080/"
        },
        "id": "fb9L9bkRI8ax",
        "outputId": "b44fe317-b9de-4d9e-9516-5e2039e13d3c"
      },
      "execution_count": 73,
      "outputs": [
        {
          "output_type": "stream",
          "name": "stdout",
          "text": [
            "Fitting 3 folds for each of 5 candidates, totalling 15 fits\n"
          ]
        },
        {
          "output_type": "stream",
          "name": "stderr",
          "text": [
            "/usr/local/lib/python3.10/dist-packages/sklearn/linear_model/_logistic.py:458: ConvergenceWarning: lbfgs failed to converge (status=1):\n",
            "STOP: TOTAL NO. of ITERATIONS REACHED LIMIT.\n",
            "\n",
            "Increase the number of iterations (max_iter) or scale the data as shown in:\n",
            "    https://scikit-learn.org/stable/modules/preprocessing.html\n",
            "Please also refer to the documentation for alternative solver options:\n",
            "    https://scikit-learn.org/stable/modules/linear_model.html#logistic-regression\n",
            "  n_iter_i = _check_optimize_result(\n",
            "/usr/local/lib/python3.10/dist-packages/sklearn/linear_model/_logistic.py:458: ConvergenceWarning: lbfgs failed to converge (status=1):\n",
            "STOP: TOTAL NO. of ITERATIONS REACHED LIMIT.\n",
            "\n",
            "Increase the number of iterations (max_iter) or scale the data as shown in:\n",
            "    https://scikit-learn.org/stable/modules/preprocessing.html\n",
            "Please also refer to the documentation for alternative solver options:\n",
            "    https://scikit-learn.org/stable/modules/linear_model.html#logistic-regression\n",
            "  n_iter_i = _check_optimize_result(\n",
            "/usr/local/lib/python3.10/dist-packages/sklearn/linear_model/_logistic.py:458: ConvergenceWarning: lbfgs failed to converge (status=1):\n",
            "STOP: TOTAL NO. of ITERATIONS REACHED LIMIT.\n",
            "\n",
            "Increase the number of iterations (max_iter) or scale the data as shown in:\n",
            "    https://scikit-learn.org/stable/modules/preprocessing.html\n",
            "Please also refer to the documentation for alternative solver options:\n",
            "    https://scikit-learn.org/stable/modules/linear_model.html#logistic-regression\n",
            "  n_iter_i = _check_optimize_result(\n",
            "/usr/local/lib/python3.10/dist-packages/sklearn/linear_model/_logistic.py:458: ConvergenceWarning: lbfgs failed to converge (status=1):\n",
            "STOP: TOTAL NO. of ITERATIONS REACHED LIMIT.\n",
            "\n",
            "Increase the number of iterations (max_iter) or scale the data as shown in:\n",
            "    https://scikit-learn.org/stable/modules/preprocessing.html\n",
            "Please also refer to the documentation for alternative solver options:\n",
            "    https://scikit-learn.org/stable/modules/linear_model.html#logistic-regression\n",
            "  n_iter_i = _check_optimize_result(\n",
            "/usr/local/lib/python3.10/dist-packages/sklearn/linear_model/_logistic.py:458: ConvergenceWarning: lbfgs failed to converge (status=1):\n",
            "STOP: TOTAL NO. of ITERATIONS REACHED LIMIT.\n",
            "\n",
            "Increase the number of iterations (max_iter) or scale the data as shown in:\n",
            "    https://scikit-learn.org/stable/modules/preprocessing.html\n",
            "Please also refer to the documentation for alternative solver options:\n",
            "    https://scikit-learn.org/stable/modules/linear_model.html#logistic-regression\n",
            "  n_iter_i = _check_optimize_result(\n",
            "/usr/local/lib/python3.10/dist-packages/sklearn/linear_model/_logistic.py:458: ConvergenceWarning: lbfgs failed to converge (status=1):\n",
            "STOP: TOTAL NO. of ITERATIONS REACHED LIMIT.\n",
            "\n",
            "Increase the number of iterations (max_iter) or scale the data as shown in:\n",
            "    https://scikit-learn.org/stable/modules/preprocessing.html\n",
            "Please also refer to the documentation for alternative solver options:\n",
            "    https://scikit-learn.org/stable/modules/linear_model.html#logistic-regression\n",
            "  n_iter_i = _check_optimize_result(\n",
            "/usr/local/lib/python3.10/dist-packages/sklearn/linear_model/_logistic.py:458: ConvergenceWarning: lbfgs failed to converge (status=1):\n",
            "STOP: TOTAL NO. of ITERATIONS REACHED LIMIT.\n",
            "\n",
            "Increase the number of iterations (max_iter) or scale the data as shown in:\n",
            "    https://scikit-learn.org/stable/modules/preprocessing.html\n",
            "Please also refer to the documentation for alternative solver options:\n",
            "    https://scikit-learn.org/stable/modules/linear_model.html#logistic-regression\n",
            "  n_iter_i = _check_optimize_result(\n",
            "/usr/local/lib/python3.10/dist-packages/sklearn/linear_model/_logistic.py:458: ConvergenceWarning: lbfgs failed to converge (status=1):\n",
            "STOP: TOTAL NO. of ITERATIONS REACHED LIMIT.\n",
            "\n",
            "Increase the number of iterations (max_iter) or scale the data as shown in:\n",
            "    https://scikit-learn.org/stable/modules/preprocessing.html\n",
            "Please also refer to the documentation for alternative solver options:\n",
            "    https://scikit-learn.org/stable/modules/linear_model.html#logistic-regression\n",
            "  n_iter_i = _check_optimize_result(\n",
            "/usr/local/lib/python3.10/dist-packages/sklearn/linear_model/_logistic.py:458: ConvergenceWarning: lbfgs failed to converge (status=1):\n",
            "STOP: TOTAL NO. of ITERATIONS REACHED LIMIT.\n",
            "\n",
            "Increase the number of iterations (max_iter) or scale the data as shown in:\n",
            "    https://scikit-learn.org/stable/modules/preprocessing.html\n",
            "Please also refer to the documentation for alternative solver options:\n",
            "    https://scikit-learn.org/stable/modules/linear_model.html#logistic-regression\n",
            "  n_iter_i = _check_optimize_result(\n",
            "/usr/local/lib/python3.10/dist-packages/sklearn/linear_model/_logistic.py:458: ConvergenceWarning: lbfgs failed to converge (status=1):\n",
            "STOP: TOTAL NO. of ITERATIONS REACHED LIMIT.\n",
            "\n",
            "Increase the number of iterations (max_iter) or scale the data as shown in:\n",
            "    https://scikit-learn.org/stable/modules/preprocessing.html\n",
            "Please also refer to the documentation for alternative solver options:\n",
            "    https://scikit-learn.org/stable/modules/linear_model.html#logistic-regression\n",
            "  n_iter_i = _check_optimize_result(\n",
            "/usr/local/lib/python3.10/dist-packages/sklearn/linear_model/_logistic.py:458: ConvergenceWarning: lbfgs failed to converge (status=1):\n",
            "STOP: TOTAL NO. of ITERATIONS REACHED LIMIT.\n",
            "\n",
            "Increase the number of iterations (max_iter) or scale the data as shown in:\n",
            "    https://scikit-learn.org/stable/modules/preprocessing.html\n",
            "Please also refer to the documentation for alternative solver options:\n",
            "    https://scikit-learn.org/stable/modules/linear_model.html#logistic-regression\n",
            "  n_iter_i = _check_optimize_result(\n",
            "/usr/local/lib/python3.10/dist-packages/sklearn/linear_model/_logistic.py:458: ConvergenceWarning: lbfgs failed to converge (status=1):\n",
            "STOP: TOTAL NO. of ITERATIONS REACHED LIMIT.\n",
            "\n",
            "Increase the number of iterations (max_iter) or scale the data as shown in:\n",
            "    https://scikit-learn.org/stable/modules/preprocessing.html\n",
            "Please also refer to the documentation for alternative solver options:\n",
            "    https://scikit-learn.org/stable/modules/linear_model.html#logistic-regression\n",
            "  n_iter_i = _check_optimize_result(\n"
          ]
        },
        {
          "output_type": "stream",
          "name": "stdout",
          "text": [
            "{'C': 3.5} 0.8593\n"
          ]
        },
        {
          "output_type": "stream",
          "name": "stderr",
          "text": [
            "/usr/local/lib/python3.10/dist-packages/sklearn/linear_model/_logistic.py:458: ConvergenceWarning: lbfgs failed to converge (status=1):\n",
            "STOP: TOTAL NO. of ITERATIONS REACHED LIMIT.\n",
            "\n",
            "Increase the number of iterations (max_iter) or scale the data as shown in:\n",
            "    https://scikit-learn.org/stable/modules/preprocessing.html\n",
            "Please also refer to the documentation for alternative solver options:\n",
            "    https://scikit-learn.org/stable/modules/linear_model.html#logistic-regression\n",
            "  n_iter_i = _check_optimize_result(\n"
          ]
        }
      ]
    },
    {
      "cell_type": "code",
      "source": [
        "from sklearn.metrics import accuracy_score\n",
        "\n",
        "# 학습 데이터를 적용한 TfidfVectorizer를 이용해 테스트 데이터를 TF-IDF 값으로 피처 변환함\n",
        "tfidf_matrix_test = tfidf_vect.transform(test_df['document'])\n",
        "\n",
        "# classifier는 GridSearchCV에서 최적 파라미터로 학습된 classifier를 그대로 이용\n",
        "best_estimator = grid_cv.best_estimator_\n",
        "preds = best_estimator.predict(tfidf_matrix_test)\n",
        "\n",
        "print('Logistic Regression 정확도: ', accuracy_score(test_df['label'], preds))"
      ],
      "metadata": {
        "colab": {
          "base_uri": "https://localhost:8080/"
        },
        "id": "JkHmLRAtJC9b",
        "outputId": "d6e5d266-70eb-4059-9b7c-9b64b1b11b72"
      },
      "execution_count": 74,
      "outputs": [
        {
          "output_type": "stream",
          "name": "stdout",
          "text": [
            "Logistic Regression 정확도:  0.86186\n"
          ]
        }
      ]
    },
    {
      "cell_type": "code",
      "source": [],
      "metadata": {
        "id": "5hdfb-1YJDVe"
      },
      "execution_count": null,
      "outputs": []
    }
  ]
}